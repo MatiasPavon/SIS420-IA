{
  "nbformat": 4,
  "nbformat_minor": 0,
  "metadata": {
    "colab": {
      "provenance": []
    },
    "kernelspec": {
      "name": "python3",
      "display_name": "Python 3"
    },
    "language_info": {
      "name": "python"
    }
  },
  "cells": [
    {
      "cell_type": "markdown",
      "source": [
        "CLASIFICACION MULTICLASE LABORATORIO 3\n",
        "MATIAS HECTOR PAVON"
      ],
      "metadata": {
        "id": "nuZh3URRfLgA"
      }
    },
    {
      "cell_type": "markdown",
      "source": [
        "PREPROCESAMIENTO DEL DATASET CON PANDAS"
      ],
      "metadata": {
        "id": "6VPRbsd6inV4"
      }
    },
    {
      "cell_type": "code",
      "execution_count": null,
      "metadata": {
        "id": "iZ1c-up7Kxqc"
      },
      "outputs": [],
      "source": [
        "import pandas as pd\n",
        "import numpy as np"
      ]
    },
    {
      "cell_type": "code",
      "source": [
        "df = pd.read_csv('/content/drive/MyDrive/Dataset/WineQuality - copia.csv')"
      ],
      "metadata": {
        "id": "fzHI0oSBLZKJ"
      },
      "execution_count": null,
      "outputs": []
    },
    {
      "cell_type": "code",
      "source": [
        "print(df)"
      ],
      "metadata": {
        "colab": {
          "base_uri": "https://localhost:8080/"
        },
        "id": "S5EhfthUQAdB",
        "outputId": "8ac04c09-2e77-4232-d6b7-55863a0b029c"
      },
      "execution_count": null,
      "outputs": [
        {
          "output_type": "stream",
          "name": "stdout",
          "text": [
            "       2732  7.4   0.17  0.29   1.4  0.047  23.0  107.0   0.9939  3.52  0.65  \\\n",
            "0      2607  5.3  0.310  0.38  10.5  0.031  53.0  140.0  0.99321  3.34  0.46   \n",
            "1      1653  4.7  0.145  0.29   1.0  0.042  35.0   90.0  0.99080  3.76  0.49   \n",
            "2      3264  6.9  0.260  0.29   4.2  0.043  33.0  114.0  0.99020  3.16  0.31   \n",
            "3      4931  6.4  0.450  0.07   1.1  0.030  10.0  131.0  0.99050  2.97  0.28   \n",
            "4      4859  8.4  0.320  0.35  11.7  0.029   3.0   46.0  0.99439  3.02  0.34   \n",
            "...     ...  ...    ...   ...   ...    ...   ...    ...      ...   ...   ...   \n",
            "32479  2838  5.0  0.255  0.22   2.7  0.043  46.0  153.0  0.99238  3.75  0.76   \n",
            "32480  6414  6.6  0.360  0.52  11.3  0.046   8.0  110.0  0.99660  3.07  0.46   \n",
            "32481  1126  6.3  0.200  0.24   1.7  0.052  36.0  135.0  0.99374  3.80  0.66   \n",
            "32482  2924  6.2  0.200  0.33   5.4  0.028  21.0   75.0  0.99012  3.36  0.41   \n",
            "32483  5462  8.1  0.280  0.46  15.4  0.059  32.0  177.0  1.00040  3.27  0.58   \n",
            "\n",
            "       10.4  6  White Wine  \n",
            "0      11.7  6  White Wine  \n",
            "1      11.3  6  White Wine  \n",
            "2      12.5  6  White Wine  \n",
            "3      10.8  5  White Wine  \n",
            "4      11.8  6  White Wine  \n",
            "...     ... ..         ...  \n",
            "32479  11.3  6  White Wine  \n",
            "32480   9.4  5  White Wine  \n",
            "32481  10.8  6  White Wine  \n",
            "32482  13.5  7  White Wine  \n",
            "32483   9.0  4  White Wine  \n",
            "\n",
            "[32484 rows x 14 columns]\n"
          ]
        }
      ]
    },
    {
      "cell_type": "code",
      "source": [
        "df = df.iloc[:, 1:].reset_index(drop=True)\n",
        "df.columns = np.roll(df.columns, -1)"
      ],
      "metadata": {
        "id": "L2xS-PQxMiWR"
      },
      "execution_count": null,
      "outputs": []
    },
    {
      "cell_type": "code",
      "source": [
        "df.to_csv('/content/drive/MyDrive/Dataset/WineModificado.csv')"
      ],
      "metadata": {
        "id": "EfBzKiojMu1h"
      },
      "execution_count": null,
      "outputs": []
    },
    {
      "cell_type": "code",
      "source": [
        "df = pd.read_csv('/content/drive/MyDrive/Dataset/WineModificado.csv')"
      ],
      "metadata": {
        "id": "Bx5C6b4bR2BJ"
      },
      "execution_count": null,
      "outputs": []
    },
    {
      "cell_type": "code",
      "source": [
        "df.iloc[:, 13] = df.iloc[:, 13].replace('White Wine', 1)\n",
        "df.iloc[:, 13] = df.iloc[:, 13].replace('Red Wine', 0)"
      ],
      "metadata": {
        "colab": {
          "base_uri": "https://localhost:8080/"
        },
        "id": "IVUWVNWdVABQ",
        "outputId": "c77aea7f-f844-4d4e-ad0f-7a00fcd7ea60"
      },
      "execution_count": null,
      "outputs": [
        {
          "output_type": "stream",
          "name": "stderr",
          "text": [
            "<ipython-input-39-ae86ffbfaaf1>:2: DeprecationWarning: In a future version, `df.iloc[:, i] = newvals` will attempt to set the values inplace instead of always setting a new array. To retain the old behavior, use either `df[df.columns[i]] = newvals` or, if columns are non-unique, `df.isetitem(i, newvals)`\n",
            "  df.iloc[:, 13] = df.iloc[:, 13].replace('Red Wine', 0)\n"
          ]
        }
      ]
    },
    {
      "cell_type": "code",
      "source": [
        "print(df)"
      ],
      "metadata": {
        "colab": {
          "base_uri": "https://localhost:8080/"
        },
        "id": "LbC3Xl2qVwqw",
        "outputId": "9a9f2757-9b0c-4331-b946-ed07a3397545"
      },
      "execution_count": null,
      "outputs": [
        {
          "output_type": "stream",
          "name": "stdout",
          "text": [
            "           0  7.4   0.17  0.29   1.4  0.047  23.0  107.0   0.9939  3.52  0.65  \\\n",
            "0          0  5.3  0.310  0.38  10.5  0.031  53.0  140.0  0.99321  3.34  0.46   \n",
            "1          1  4.7  0.145  0.29   1.0  0.042  35.0   90.0  0.99080  3.76  0.49   \n",
            "2          2  6.9  0.260  0.29   4.2  0.043  33.0  114.0  0.99020  3.16  0.31   \n",
            "3          3  6.4  0.450  0.07   1.1  0.030  10.0  131.0  0.99050  2.97  0.28   \n",
            "4          4  8.4  0.320  0.35  11.7  0.029   3.0   46.0  0.99439  3.02  0.34   \n",
            "...      ...  ...    ...   ...   ...    ...   ...    ...      ...   ...   ...   \n",
            "32479  32479  5.0  0.255  0.22   2.7  0.043  46.0  153.0  0.99238  3.75  0.76   \n",
            "32480  32480  6.6  0.360  0.52  11.3  0.046   8.0  110.0  0.99660  3.07  0.46   \n",
            "32481  32481  6.3  0.200  0.24   1.7  0.052  36.0  135.0  0.99374  3.80  0.66   \n",
            "32482  32482  6.2  0.200  0.33   5.4  0.028  21.0   75.0  0.99012  3.36  0.41   \n",
            "32483  32483  8.1  0.280  0.46  15.4  0.059  32.0  177.0  1.00040  3.27  0.58   \n",
            "\n",
            "       10.4  6  White Wine  \n",
            "0      11.7  6           1  \n",
            "1      11.3  6           1  \n",
            "2      12.5  6           1  \n",
            "3      10.8  5           1  \n",
            "4      11.8  6           1  \n",
            "...     ... ..         ...  \n",
            "32479  11.3  6           1  \n",
            "32480   9.4  5           1  \n",
            "32481  10.8  6           1  \n",
            "32482  13.5  7           1  \n",
            "32483   9.0  4           1  \n",
            "\n",
            "[32484 rows x 14 columns]\n"
          ]
        }
      ]
    },
    {
      "cell_type": "code",
      "source": [
        "df.to_csv('/content/drive/MyDrive/Dataset/WineModificado2.csv')"
      ],
      "metadata": {
        "id": "YQReqlQtWJTA"
      },
      "execution_count": null,
      "outputs": []
    },
    {
      "cell_type": "code",
      "source": [
        "df = pd.read_csv('/content/drive/MyDrive/Dataset/WineModificado2.csv')"
      ],
      "metadata": {
        "id": "Ow8uaN2QYSBf"
      },
      "execution_count": null,
      "outputs": []
    },
    {
      "cell_type": "code",
      "source": [
        "# Posiciones de las columnas que quieres intercambiar\n",
        "posicion_a = 13  # Por ejemplo, intercambiar la primera columna\n",
        "posicion_b = 14  # Por ejemplo, intercambiar la tercera columna\n",
        "\n",
        "# Intercambio de las columnas\n",
        "columnas = list(df.columns)\n",
        "columnas[posicion_a], columnas[posicion_b] = columnas[posicion_b], columnas[posicion_a]\n",
        "df = df[columnas]"
      ],
      "metadata": {
        "id": "8kKWqaNtZer5"
      },
      "execution_count": null,
      "outputs": []
    },
    {
      "cell_type": "code",
      "source": [
        "print(df)"
      ],
      "metadata": {
        "colab": {
          "base_uri": "https://localhost:8080/"
        },
        "id": "fEwEfSR2an84",
        "outputId": "d83d6a70-7bea-46c4-a77e-189b13a7e0eb"
      },
      "execution_count": null,
      "outputs": [
        {
          "output_type": "stream",
          "name": "stdout",
          "text": [
            "           0    0.1  7.4   0.17  0.29   1.4  0.047  23.0  107.0   0.9939  \\\n",
            "0          0      0  5.3  0.310  0.38  10.5  0.031  53.0  140.0  0.99321   \n",
            "1          1      1  4.7  0.145  0.29   1.0  0.042  35.0   90.0  0.99080   \n",
            "2          2      2  6.9  0.260  0.29   4.2  0.043  33.0  114.0  0.99020   \n",
            "3          3      3  6.4  0.450  0.07   1.1  0.030  10.0  131.0  0.99050   \n",
            "4          4      4  8.4  0.320  0.35  11.7  0.029   3.0   46.0  0.99439   \n",
            "...      ...    ...  ...    ...   ...   ...    ...   ...    ...      ...   \n",
            "32479  32479  32479  5.0  0.255  0.22   2.7  0.043  46.0  153.0  0.99238   \n",
            "32480  32480  32480  6.6  0.360  0.52  11.3  0.046   8.0  110.0  0.99660   \n",
            "32481  32481  32481  6.3  0.200  0.24   1.7  0.052  36.0  135.0  0.99374   \n",
            "32482  32482  32482  6.2  0.200  0.33   5.4  0.028  21.0   75.0  0.99012   \n",
            "32483  32483  32483  8.1  0.280  0.46  15.4  0.059  32.0  177.0  1.00040   \n",
            "\n",
            "       3.52  0.65  10.4  1  6  \n",
            "0      3.34  0.46  11.7  1  6  \n",
            "1      3.76  0.49  11.3  1  6  \n",
            "2      3.16  0.31  12.5  1  6  \n",
            "3      2.97  0.28  10.8  1  5  \n",
            "4      3.02  0.34  11.8  1  6  \n",
            "...     ...   ...   ... .. ..  \n",
            "32479  3.75  0.76  11.3  1  6  \n",
            "32480  3.07  0.46   9.4  1  5  \n",
            "32481  3.80  0.66  10.8  1  6  \n",
            "32482  3.36  0.41  13.5  1  7  \n",
            "32483  3.27  0.58   9.0  1  4  \n",
            "\n",
            "[32484 rows x 15 columns]\n"
          ]
        }
      ]
    },
    {
      "cell_type": "code",
      "source": [
        "df.to_csv('/content/drive/MyDrive/Dataset/WineModificado3.csv')"
      ],
      "metadata": {
        "id": "yNCl31VlehUA"
      },
      "execution_count": null,
      "outputs": []
    },
    {
      "cell_type": "code",
      "source": [
        "df = pd.read_csv('/content/drive/MyDrive/Dataset/WineModificado3.csv')"
      ],
      "metadata": {
        "id": "J14wFdKhh5zv"
      },
      "execution_count": null,
      "outputs": []
    },
    {
      "cell_type": "code",
      "source": [
        "df = df.iloc[:, 3:]"
      ],
      "metadata": {
        "id": "bVtG2tVnh_Uv"
      },
      "execution_count": null,
      "outputs": []
    },
    {
      "cell_type": "code",
      "source": [
        "print(df)"
      ],
      "metadata": {
        "colab": {
          "base_uri": "https://localhost:8080/"
        },
        "id": "ZCTuPongh_vn",
        "outputId": "e9ffc106-9307-435e-a223-892b7dffdb64"
      },
      "execution_count": null,
      "outputs": [
        {
          "output_type": "stream",
          "name": "stdout",
          "text": [
            "       7.4   0.17  0.29   1.4  0.047  23.0  107.0   0.9939  3.52  0.65  10.4  \\\n",
            "0      5.3  0.310  0.38  10.5  0.031  53.0  140.0  0.99321  3.34  0.46  11.7   \n",
            "1      4.7  0.145  0.29   1.0  0.042  35.0   90.0  0.99080  3.76  0.49  11.3   \n",
            "2      6.9  0.260  0.29   4.2  0.043  33.0  114.0  0.99020  3.16  0.31  12.5   \n",
            "3      6.4  0.450  0.07   1.1  0.030  10.0  131.0  0.99050  2.97  0.28  10.8   \n",
            "4      8.4  0.320  0.35  11.7  0.029   3.0   46.0  0.99439  3.02  0.34  11.8   \n",
            "...    ...    ...   ...   ...    ...   ...    ...      ...   ...   ...   ...   \n",
            "32479  5.0  0.255  0.22   2.7  0.043  46.0  153.0  0.99238  3.75  0.76  11.3   \n",
            "32480  6.6  0.360  0.52  11.3  0.046   8.0  110.0  0.99660  3.07  0.46   9.4   \n",
            "32481  6.3  0.200  0.24   1.7  0.052  36.0  135.0  0.99374  3.80  0.66  10.8   \n",
            "32482  6.2  0.200  0.33   5.4  0.028  21.0   75.0  0.99012  3.36  0.41  13.5   \n",
            "32483  8.1  0.280  0.46  15.4  0.059  32.0  177.0  1.00040  3.27  0.58   9.0   \n",
            "\n",
            "       1  6  \n",
            "0      1  6  \n",
            "1      1  6  \n",
            "2      1  6  \n",
            "3      1  5  \n",
            "4      1  6  \n",
            "...   .. ..  \n",
            "32479  1  6  \n",
            "32480  1  5  \n",
            "32481  1  6  \n",
            "32482  1  7  \n",
            "32483  1  4  \n",
            "\n",
            "[32484 rows x 13 columns]\n"
          ]
        }
      ]
    },
    {
      "cell_type": "code",
      "source": [
        "df.to_csv('/content/drive/MyDrive/Dataset/WineModificado4.csv')"
      ],
      "metadata": {
        "id": "hY6HXbY1iLbf"
      },
      "execution_count": null,
      "outputs": []
    },
    {
      "cell_type": "markdown",
      "source": [
        "Primero conectamos nuestro drive con el cuadernillo"
      ],
      "metadata": {
        "id": "PCyoRGJ7zH1V"
      }
    },
    {
      "cell_type": "code",
      "source": [
        "from google.colab import drive\n",
        "drive.mount('/content/drive')"
      ],
      "metadata": {
        "id": "g6SqTPQ-zMH1"
      },
      "execution_count": null,
      "outputs": []
    },
    {
      "cell_type": "markdown",
      "source": [
        "Ahora importamos librerias para que funciones el codigo"
      ],
      "metadata": {
        "id": "skrJTJVXzR1d"
      }
    },
    {
      "cell_type": "code",
      "source": [
        "# utilizado para la manipulación de directorios y rutas\n",
        "import os\n",
        "\n",
        "# Cálculo científico y vectorial para python\n",
        "import numpy as np\n",
        "\n",
        "# Libreria para graficos\n",
        "from matplotlib import pyplot\n",
        "\n",
        "# Modulo de optimizacion en scipy\n",
        "from scipy import optimize\n",
        "\n",
        "# modulo para cargar archivos en formato MATLAB\n",
        "# from scipy.io import loadmat\n",
        "\n",
        "# le dice a matplotlib que incruste gráficos en el cuaderno\n",
        "%matplotlib inline"
      ],
      "metadata": {
        "id": "3Y4tK3dpzWOm"
      },
      "execution_count": 1,
      "outputs": []
    },
    {
      "cell_type": "markdown",
      "source": [
        "Se inicia el ejercicio cargando primero el conjunto de datos donde se selecciona 80% de los ejemplos para el entrenamiento"
      ],
      "metadata": {
        "id": "ZHMrbOhA09fr"
      }
    },
    {
      "cell_type": "code",
      "source": [
        "# La entrada es de 14 elemento contando con x0\n",
        "input_layer_size  = 14\n",
        "\n",
        "# 10 etiquetas, de 1 a 10 (tomar en cuenta que se asigna \"0\" a la etiqueta 10)\n",
        "num_labels = 7\n",
        "\n",
        "#  datos de entrenamiento almacenados en los arreglos X, y\n",
        "# data = loadmat(os.path.join('Datasets', 'ex3data1.mat'))\n",
        "data = np.loadtxt('/content/drive/MyDrive/Dataset/WineModificado4.csv', delimiter=',')\n",
        "\n",
        "# print(data['y'])\n",
        "# print(data['y'].ravel())\n",
        "# print(data['X'])\n",
        "X = data[:25986, 1:13]\n",
        "y = data[:25986, 13]\n",
        "# X, y = data['X'], data['y'].ravel()\n",
        "# print(X)\n",
        "# print(y)\n",
        "# establecer el dígito cero en 0, en lugar del 10 asignado a este conjunto de datos\n",
        "# Esto se hace debido a que el conjunto de datos se utilizó en MATLAB donde no hay índice 0\n",
        "y[y == 3] = 0\n",
        "y[y == 4] = 1\n",
        "y[y == 5] = 2\n",
        "y[y == 6] = 3\n",
        "y[y == 7] = 4\n",
        "y[y == 8] = 5\n",
        "y[y == 9] = 6\n",
        "# print(y)\n",
        "\n",
        "m = y.size\n",
        "print(X)\n",
        "print(y)"
      ],
      "metadata": {
        "colab": {
          "base_uri": "https://localhost:8080/"
        },
        "id": "Uc-mwADP07De",
        "outputId": "8683460f-1111-4165-d8d0-1b10696107db"
      },
      "execution_count": 98,
      "outputs": [
        {
          "output_type": "stream",
          "name": "stdout",
          "text": [
            "[[ 7.4    0.17   0.29  ...  0.65  10.4    1.   ]\n",
            " [ 5.3    0.31   0.38  ...  0.46  11.7    1.   ]\n",
            " [ 4.7    0.145  0.29  ...  0.49  11.3    1.   ]\n",
            " ...\n",
            " [ 6.4    0.27   0.49  ...  0.43   9.2    1.   ]\n",
            " [ 8.3    0.16   0.37  ...  0.37  11.9    1.   ]\n",
            " [ 9.2    0.31   0.36  ...  0.86  12.     0.   ]]\n",
            "[3. 3. 3. ... 3. 3. 4.]\n"
          ]
        }
      ]
    },
    {
      "cell_type": "markdown",
      "source": [
        "SE CAMBIO LOS VALORES DE LAS CLASES COMO SE INDICO EN LA CLASE DE LABORATORIO PARA ADECUARLOS A LOS VALORES QUE DEVUELVE ARMAC\n",
        "(3 = 0 PESIMO)\n",
        "(4 = 1 MUY MALO)\n",
        "(5 = 2 MALO)\n",
        "(6 = 3 REGULAR)\n",
        "(7 = 4 BUENO)\n",
        "(8 = 5 MUY BUENO)\n",
        "(9 = 6 EXCELENTE)"
      ],
      "metadata": {
        "id": "Mi3-52PHTeY6"
      }
    },
    {
      "cell_type": "markdown",
      "source": [
        "NORMALIZAR"
      ],
      "metadata": {
        "id": "V_xXSnk4MZIV"
      }
    },
    {
      "cell_type": "code",
      "source": [
        "def  featureNormalize(X):\n",
        "    X_norm = X.copy()\n",
        "    mu = np.zeros(X.shape[1])\n",
        "    sigma = np.zeros(X.shape[1])\n",
        "\n",
        "    mu = np.mean(X, axis = 0)\n",
        "    sigma = np.std(X, axis = 0)\n",
        "    X_norm = (X - mu) / sigma\n",
        "\n",
        "    return X_norm, mu, sigma"
      ],
      "metadata": {
        "id": "SGUd1Ru-MaHd"
      },
      "execution_count": 99,
      "outputs": []
    },
    {
      "cell_type": "code",
      "source": [
        "# llama featureNormalize con los datos cargados\n",
        "X_norm, mu, sigma = featureNormalize(X)"
      ],
      "metadata": {
        "id": "K4TUHb68Mj4t"
      },
      "execution_count": 100,
      "outputs": []
    },
    {
      "cell_type": "code",
      "source": [
        "# Configurar la matriz adecuadamente, y agregar una columna de unos que corresponde al termino de intercepción.\n",
        "m, n = X.shape\n",
        "# Agraga el termino de intercepción a A\n",
        "# X = np.concatenate([np.ones((m, 1)), X_norm], axis=1)\n",
        "X = X_norm\n",
        "# X = np.concatenate([np.ones((m, 1)), X], axis=1)"
      ],
      "metadata": {
        "id": "iAfAXhZkMl61"
      },
      "execution_count": 101,
      "outputs": []
    },
    {
      "cell_type": "markdown",
      "source": [
        "FUNCION SIGMOIDE"
      ],
      "metadata": {
        "id": "i4h_2znMM55U"
      }
    },
    {
      "cell_type": "code",
      "source": [
        "def sigmoid(z):\n",
        "    \"\"\"\n",
        "    Calcula la sigmoide de z.\n",
        "    \"\"\"\n",
        "    return 1.0 / (1.0 + np.exp(-z))"
      ],
      "metadata": {
        "id": "897lNXe8M7YE"
      },
      "execution_count": 102,
      "outputs": []
    },
    {
      "cell_type": "markdown",
      "source": [
        "VECTORIZACION DEL GRADIENTE"
      ],
      "metadata": {
        "id": "rPXhHa-sRF1d"
      }
    },
    {
      "cell_type": "code",
      "source": [
        "def lrCostFunction(theta, X, y, lambda_):\n",
        "    \"\"\"\n",
        "    Calcula el costo de usar theta como parámetro para la regresión logística regularizada y\n",
        "    el gradiente del costo w.r.t. a los parámetros.\n",
        "\n",
        "    Parametros\n",
        "    ----------\n",
        "    theta : array_like\n",
        "        Parametro theta de la regresion logistica. Vector de la forma(shape) (n, ). n es el numero de caracteristicas\n",
        "        incluida la intercepcion\n",
        "\n",
        "    X : array_like\n",
        "        Dataset con la forma(shape) (m x n). m es el numero de ejemplos, y n es el numero de\n",
        "        caracteristicas (incluida la intercepcion).\n",
        "\n",
        "    y : array_like\n",
        "        El conjunto de etiquetas. Un vector con la forma (shape) (m, ). m es el numero de ejemplos\n",
        "\n",
        "    lambda_ : float\n",
        "        Parametro de regularización.\n",
        "\n",
        "    Devuelve\n",
        "    -------\n",
        "    J : float\n",
        "        El valor calculado para la funcion de costo regularizada.\n",
        "\n",
        "    grad : array_like\n",
        "        Un vector de la forma (shape) (n, ) que es el gradiente de la\n",
        "        función de costo con respecto a theta, en los valores actuales de theta..\n",
        "    \"\"\"\n",
        "#     alpha = 0.003\n",
        "#     theta = theta.copy()\n",
        "    # Inicializa algunos valores utiles\n",
        "    m = y.size\n",
        "\n",
        "    # convierte las etiquetas a valores enteros si son boleanos\n",
        "    if y.dtype == bool:\n",
        "        y = y.astype(int)\n",
        "\n",
        "    J = 0\n",
        "    grad = np.zeros(theta.shape)\n",
        "\n",
        "    h = sigmoid(X.dot(theta.T))\n",
        "\n",
        "    temp = theta\n",
        "    temp[0] = 0\n",
        "\n",
        "#     J = (1 / m) * np.sum(-y.dot(np.log(h)) - (1 - y).dot(np.log(1 - h)))\n",
        "    J = (1 / m) * np.sum(-y.dot(np.log(h)) - (1 - y).dot(np.log(1 - h))) + (lambda_ / (2 * m)) * np.sum(np.square(temp))\n",
        "\n",
        "    grad = (1 / m) * (h - y).dot(X)\n",
        "#     theta = theta - (alpha / m) * (h - y).dot(X)\n",
        "    grad = grad + (lambda_ / m) * temp\n",
        "\n",
        "    return J, grad\n",
        "#    return J, theta"
      ],
      "metadata": {
        "id": "hIvaCTlwNHh9"
      },
      "execution_count": 103,
      "outputs": []
    },
    {
      "cell_type": "markdown",
      "source": [
        "CLASIFICACION ONE VS ALL"
      ],
      "metadata": {
        "id": "bHPTcWYdRKdc"
      }
    },
    {
      "cell_type": "code",
      "source": [
        "def oneVsAll(X, y, num_labels, lambda_):\n",
        "    \"\"\"\n",
        "    Trains num_labels logistic regression classifiers and returns\n",
        "    each of these classifiers in a matrix all_theta, where the i-th\n",
        "    row of all_theta corresponds to the classifier for label i.\n",
        "\n",
        "    Parameters\n",
        "    ----------\n",
        "    X : array_like\n",
        "        The input dataset of shape (m x n). m is the number of\n",
        "        data points, and n is the number of features. Note that we\n",
        "        do not assume that the intercept term (or bias) is in X, however\n",
        "        we provide the code below to add the bias term to X.\n",
        "\n",
        "    y : array_like\n",
        "        The data labels. A vector of shape (m, ).\n",
        "\n",
        "    num_labels : int\n",
        "        Number of possible labels.\n",
        "\n",
        "    lambda_ : float\n",
        "        The logistic regularization parameter.\n",
        "\n",
        "    Returns\n",
        "    -------\n",
        "    all_theta : array_like\n",
        "        The trained parameters for logistic regression for each class.\n",
        "        This is a matrix of shape (K x n+1) where K is number of classes\n",
        "        (ie. `numlabels`) and n is number of features without the bias.\n",
        "    \"\"\"\n",
        "    # algunas variables utiles\n",
        "    m, n = X.shape\n",
        "\n",
        "    all_theta = np.zeros((num_labels, n + 1))\n",
        "\n",
        "    # Agrega unos a la matriz X\n",
        "    X = np.concatenate([np.ones((m, 1)), X], axis=1)\n",
        "\n",
        "    for c in np.arange(num_labels):\n",
        "        initial_theta = np.zeros(n + 1)\n",
        "        options = {'maxiter': 50}\n",
        "        res = optimize.minimize(lrCostFunction,\n",
        "                                initial_theta,\n",
        "                                (X, (y == c), lambda_),\n",
        "                                jac=True,\n",
        "                                method='CG',\n",
        "                                options=options)\n",
        "\n",
        "        all_theta[c] = res.x\n",
        "\n",
        "    return all_theta"
      ],
      "metadata": {
        "id": "bhc4Xc8aTXFt"
      },
      "execution_count": 104,
      "outputs": []
    },
    {
      "cell_type": "code",
      "source": [
        "lambda_ = 0.1\n",
        "all_theta = oneVsAll(X, y, num_labels, lambda_)\n",
        "print(all_theta.shape)"
      ],
      "metadata": {
        "colab": {
          "base_uri": "https://localhost:8080/"
        },
        "id": "kU7JWUGVTbID",
        "outputId": "dd757977-8ed5-4ecb-e024-c5cb01dbd304"
      },
      "execution_count": 105,
      "outputs": [
        {
          "output_type": "stream",
          "name": "stdout",
          "text": [
            "(7, 13)\n"
          ]
        }
      ]
    },
    {
      "cell_type": "code",
      "source": [
        "print(all_theta)"
      ],
      "metadata": {
        "colab": {
          "base_uri": "https://localhost:8080/"
        },
        "id": "Z2liZV8TTc7y",
        "outputId": "fd4224d1-6d66-46ec-8a6b-8e307c823bd5"
      },
      "execution_count": 106,
      "outputs": [
        {
          "output_type": "stream",
          "name": "stdout",
          "text": [
            "[[-6.25368351e+00  1.30087181e+00  9.75194062e-01 -1.02264784e-01\n",
            "   3.55759377e-01  4.15013205e-01  6.91433439e-01 -5.63565143e-01\n",
            "  -6.51260261e-01  8.34746000e-01 -2.89803651e-01 -4.83043387e-01\n",
            "   1.42953902e+00]\n",
            " [-3.96195981e+00 -3.18624780e-02  8.38770828e-01 -9.05110534e-02\n",
            "  -7.71796646e-01 -1.77474986e-02 -7.58018714e-01 -1.88137196e-01\n",
            "   6.68454296e-01 -1.39858516e-04 -8.31797150e-02 -2.76011992e-01\n",
            "   1.64660212e+00]\n",
            " [-9.32945173e-01 -1.93002938e-01  4.91460730e-01  9.14202740e-02\n",
            "  -4.49974676e-01  3.40099384e-02 -2.16494426e-01  4.26210513e-01\n",
            "   2.95511292e-01 -1.66651104e-01 -2.55597686e-01 -8.93219283e-01\n",
            "  -1.28590463e-01]\n",
            " [-2.62603138e-01 -1.79487487e-01 -4.79779943e-01 -8.74173164e-02\n",
            "  -1.39934050e-01 -5.03713078e-04  1.01383396e-01 -1.67112555e-01\n",
            "   4.68709406e-01 -8.53970083e-02 -7.87496917e-04  3.56346976e-01\n",
            "  -3.48238187e-02]\n",
            " [-2.08070501e+00  6.50140867e-01 -6.03482097e-01 -6.65094786e-02\n",
            "   9.20027197e-01 -2.92752350e-01  1.51246200e-01 -2.21946084e-01\n",
            "  -1.15932087e+00  4.15705055e-01  3.53605886e-01  4.11698376e-01\n",
            "  -3.13484131e-01]\n",
            " [-4.32471269e+00  3.53272646e-01 -2.79462930e-01  6.98624348e-02\n",
            "   9.04462810e-01 -2.95693902e-01  3.27274528e-01 -1.53775852e-01\n",
            "  -9.73616012e-01  3.31942755e-01  1.92894851e-01  6.34391732e-01\n",
            "  -7.18877305e-02]\n",
            " [-1.22022728e+01  1.71451242e+00 -6.64771724e-01  2.31907036e-01\n",
            "   1.92587741e-02 -4.10288122e+00 -4.91466608e-02  1.53544330e-02\n",
            "   5.54447489e-01  1.66070108e+00 -7.40998706e-01  1.62651502e+00\n",
            "   1.63770709e+00]]\n"
          ]
        }
      ]
    },
    {
      "cell_type": "markdown",
      "source": [
        "PREDICCION ONE VS ALL"
      ],
      "metadata": {
        "id": "aityuRhuT0GN"
      }
    },
    {
      "cell_type": "code",
      "source": [
        "def predictOneVsAll(all_theta, X):\n",
        "    \"\"\"\n",
        "    Devuelve un vector de predicciones para cada ejemplo en la matriz X.\n",
        "    Tenga en cuenta que X contiene los ejemplos en filas.\n",
        "    all_theta es una matriz donde la i-ésima fila es un vector theta de regresión logística entrenada para la i-ésima clase.\n",
        "    Debe establecer p en un vector de valores de 0..K-1 (por ejemplo, p = [0, 2, 0, 1]\n",
        "    predice clases 0, 2, 0, 1 para 4 ejemplos).\n",
        "\n",
        "    Parametros\n",
        "    ----------\n",
        "    all_theta : array_like\n",
        "        The trained parameters for logistic regression for each class.\n",
        "        This is a matrix of shape (K x n+1) where K is number of classes\n",
        "        and n is number of features without the bias.\n",
        "\n",
        "    X : array_like\n",
        "        Data points to predict their labels. This is a matrix of shape\n",
        "        (m x n) where m is number of data points to predict, and n is number\n",
        "        of features without the bias term. Note we add the bias term for X in\n",
        "        this function.\n",
        "\n",
        "    Devuelve\n",
        "    -------\n",
        "    p : array_like\n",
        "        The predictions for each data point in X. This is a vector of shape (m, ).\n",
        "    \"\"\"\n",
        "\n",
        "    m = X.shape[0];\n",
        "    num_labels = all_theta.shape[0]\n",
        "\n",
        "    p = np.zeros(m)\n",
        "\n",
        "    # Add ones to the X data matrix\n",
        "    X = np.concatenate([np.ones((m, 1)), X], axis=1)\n",
        "    p = np.argmax(sigmoid(X.dot(all_theta.T)), axis = 1)\n",
        "\n",
        "    return p"
      ],
      "metadata": {
        "id": "7gMugUbaT8qE"
      },
      "execution_count": 107,
      "outputs": []
    },
    {
      "cell_type": "markdown",
      "source": [
        "SE SELECCIONA 80% DEL DATASET PARA HACER LAS PRUEBAS DE PREDICCION"
      ],
      "metadata": {
        "id": "CHWswCGYhXaC"
      }
    },
    {
      "cell_type": "code",
      "source": [
        "print(X.shape)\n",
        "pred = predictOneVsAll(all_theta, X)\n",
        "print('Precision del conjuto de entrenamiento: {:.2f}%'.format(np.mean(pred == y) * 100))\n",
        "XPrueba = data[25986:, 1:13].copy()\n",
        "print(XPrueba.shape)\n",
        "#print(np.ones((1)))\n",
        "#print(XPrueba)\n",
        "#p = np.zeros(1)\n",
        "XPrueba = np.concatenate([np.ones((6499, 1)), XPrueba], axis=1)\n",
        "print(XPrueba.shape)\n",
        "p = np.argmax(sigmoid(XPrueba.dot(all_theta.T)), axis = 1)\n",
        "print(p)\n",
        "\n",
        "# displayData(X[1002:1003, :])\n",
        "print(y[-50:])\n",
        "print(p[-50:])"
      ],
      "metadata": {
        "colab": {
          "base_uri": "https://localhost:8080/"
        },
        "id": "cJcjvIzcUAcN",
        "outputId": "9161ed95-715b-4fa5-d70f-4f4a9b9a7d61"
      },
      "execution_count": 108,
      "outputs": [
        {
          "output_type": "stream",
          "name": "stdout",
          "text": [
            "(25986, 12)\n",
            "Precision del conjuto de entrenamiento: 54.40%\n",
            "(6499, 12)\n",
            "(6499, 13)\n",
            "[2 2 6 ... 2 6 2]\n",
            "[2. 4. 4. 3. 2. 3. 4. 3. 3. 5. 4. 4. 2. 3. 3. 2. 2. 3. 3. 3. 2. 4. 2. 4.\n",
            " 3. 2. 2. 4. 3. 3. 3. 2. 2. 3. 3. 3. 4. 2. 4. 3. 5. 4. 4. 3. 2. 2. 3. 3.\n",
            " 3. 4.]\n",
            "[2 6 2 2 2 2 6 6 6 2 6 6 6 2 2 2 2 6 2 2 6 6 2 2 2 2 6 2 6 6 2 2 6 6 6 2 2\n",
            " 2 2 6 2 6 2 2 6 2 2 2 6 2]\n"
          ]
        }
      ]
    },
    {
      "cell_type": "markdown",
      "source": [
        "COMO PODEMOS VER NO COICIDEN POR COMPLETO LOS VALORES COMO ESPERAMOS PERO AUN ASI SE PUEDE VER UNAS CUANTAS COINCIDENCIAS"
      ],
      "metadata": {
        "id": "W6Bn30_Kgrt6"
      }
    }
  ]
}