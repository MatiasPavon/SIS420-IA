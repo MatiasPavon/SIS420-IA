{
  "nbformat": 4,
  "nbformat_minor": 0,
  "metadata": {
    "colab": {
      "provenance": []
    },
    "kernelspec": {
      "name": "python3",
      "display_name": "Python 3"
    },
    "language_info": {
      "name": "python"
    }
  },
  "cells": [
    {
      "cell_type": "markdown",
      "source": [
        "CLASIFICACION BINARIA"
      ],
      "metadata": {
        "id": "4fO35fSs_sMJ"
      }
    },
    {
      "cell_type": "markdown",
      "source": [
        "PREPROCESAMIENTO CON PANDAS"
      ],
      "metadata": {
        "id": "_80aaFKf_vCw"
      }
    },
    {
      "cell_type": "code",
      "execution_count": null,
      "metadata": {
        "id": "FDDwqtVy_aMa"
      },
      "outputs": [],
      "source": [
        "import pandas as pd\n",
        "import numpy as np"
      ]
    },
    {
      "cell_type": "code",
      "source": [
        "df = pd.read_csv('/content/drive/MyDrive/Dataset/Obfuscated-MalMem2022 Mod 1.csv')"
      ],
      "metadata": {
        "id": "GlY6eEPzGLHh"
      },
      "execution_count": null,
      "outputs": []
    },
    {
      "cell_type": "code",
      "source": [
        "print(df)"
      ],
      "metadata": {
        "colab": {
          "base_uri": "https://localhost:8080/"
        },
        "id": "N5bhZaZmGNSq",
        "outputId": "3287350a-cacf-47f9-f113-e67144b0745a"
      },
      "execution_count": null,
      "outputs": [
        {
          "output_type": "stream",
          "name": "stdout",
          "text": [
            "                                                  Benign  45  17  10.55555556  \\\n",
            "0                                                 Benign  47  19    11.531915   \n",
            "1                                                 Benign  40  14    14.725000   \n",
            "2                                                 Benign  32  13    13.500000   \n",
            "3                                                 Benign  42  16    11.452381   \n",
            "4                                                 Benign  40  12    13.800000   \n",
            "...                                                  ...  ..  ..          ...   \n",
            "58590  Ransomware-Shade-fa03be3078d1b9840f06745f160eb...  37  15    10.108108   \n",
            "58591  Ransomware-Shade-f56687137caf9a67678cde91e4614...  37  14     9.945946   \n",
            "58592  Ransomware-Shade-faddeea111a25da4d0888f3044ae9...  38  15     9.842105   \n",
            "58593  Ransomware-Shade-f866c086af2e1d8ebaa6f2c863157...  37  15    10.243243   \n",
            "58594  Ransomware-Shade-955d9af38346c1755527bd196668e...  38  15     9.868421   \n",
            "\n",
            "       0  202.8444444  1694       38.5   9129  212.3023256  ...  221  26  24  \\\n",
            "0      0   242.234043  2074  44.127660  11385   242.234043  ...  222  26  24   \n",
            "1      0   288.225000  1932  48.300000  11529   288.225000  ...  222  26  27   \n",
            "2      0   264.281250  1445  45.156250   8457   264.281250  ...  222  26  27   \n",
            "3      0   281.333333  2067  49.214286  11816   281.333333  ...  222  26  24   \n",
            "4      0   306.950000  2082  52.050000  12278   306.950000  ...  222  26  27   \n",
            "...   ..          ...   ...        ...    ...          ...  ...  ...  ..  ..   \n",
            "58590  0   215.486487  1453  39.270270   7973   215.486487  ...  221  26  24   \n",
            "58591  0   190.216216  1347  36.405405   7038   190.216216  ...  221  26  24   \n",
            "58592  0   210.026316  1448  38.105263   7982   215.729730  ...  221  26  24   \n",
            "58593  0   215.513513  1452  39.243243   7974   215.513513  ...  221  26  24   \n",
            "58594  0   213.026316  1487  39.131579   8095   213.026316  ...  221  26  24   \n",
            "\n",
            "       116  0.4  121  87  0.5  8  Benign.1  \n",
            "0      118    0  122  87    0  8    Benign  \n",
            "1      118    0  120  88    0  8    Benign  \n",
            "2      118    0  120  88    0  8    Benign  \n",
            "3      118    0  124  87    0  8    Benign  \n",
            "4      118    0  123  88    0  8    Benign  \n",
            "...    ...  ...  ...  ..  ... ..       ...  \n",
            "58590  116    0  120  86    0  8   Malware  \n",
            "58591  116    0  116  88    0  8   Malware  \n",
            "58592  116    0  120  88    0  8   Malware  \n",
            "58593  116    0  120  87    0  8   Malware  \n",
            "58594  116    0  120  86    0  8   Malware  \n",
            "\n",
            "[58595 rows x 57 columns]\n"
          ]
        }
      ]
    },
    {
      "cell_type": "markdown",
      "source": [
        "SE ELIMINA LA PRIMERA COLUMNA POR INFORMACION IRRELEVANTE"
      ],
      "metadata": {
        "id": "jcQtIWeTChSm"
      }
    },
    {
      "cell_type": "code",
      "source": [
        "df = df.iloc[:, 1:]"
      ],
      "metadata": {
        "id": "VFdyV0_iI7Y6"
      },
      "execution_count": null,
      "outputs": []
    },
    {
      "cell_type": "code",
      "source": [
        "print(df)"
      ],
      "metadata": {
        "colab": {
          "base_uri": "https://localhost:8080/"
        },
        "id": "Okh7yv03I86J",
        "outputId": "9c5b786e-62a8-4c33-da45-3b9f70b95cb9"
      },
      "execution_count": null,
      "outputs": [
        {
          "output_type": "stream",
          "name": "stdout",
          "text": [
            "       45  17  10.55555556  0  202.8444444  1694       38.5   9129  \\\n",
            "0      47  19    11.531915  0   242.234043  2074  44.127660  11385   \n",
            "1      40  14    14.725000  0   288.225000  1932  48.300000  11529   \n",
            "2      32  13    13.500000  0   264.281250  1445  45.156250   8457   \n",
            "3      42  16    11.452381  0   281.333333  2067  49.214286  11816   \n",
            "4      40  12    13.800000  0   306.950000  2082  52.050000  12278   \n",
            "...    ..  ..          ... ..          ...   ...        ...    ...   \n",
            "58590  37  15    10.108108  0   215.486487  1453  39.270270   7973   \n",
            "58591  37  14     9.945946  0   190.216216  1347  36.405405   7038   \n",
            "58592  38  15     9.842105  0   210.026316  1448  38.105263   7982   \n",
            "58593  37  15    10.243243  0   215.513513  1452  39.243243   7974   \n",
            "58594  38  15     9.868421  0   213.026316  1487  39.131579   8095   \n",
            "\n",
            "       212.3023256  0.1  ...  221  26  24  116  0.4  121  87  0.5  8  Benign.1  \n",
            "0       242.234043    0  ...  222  26  24  118    0  122  87    0  8    Benign  \n",
            "1       288.225000    0  ...  222  26  27  118    0  120  88    0  8    Benign  \n",
            "2       264.281250    0  ...  222  26  27  118    0  120  88    0  8    Benign  \n",
            "3       281.333333    0  ...  222  26  24  118    0  124  87    0  8    Benign  \n",
            "4       306.950000    0  ...  222  26  27  118    0  123  88    0  8    Benign  \n",
            "...            ...  ...  ...  ...  ..  ..  ...  ...  ...  ..  ... ..       ...  \n",
            "58590   215.486487    0  ...  221  26  24  116    0  120  86    0  8   Malware  \n",
            "58591   190.216216    0  ...  221  26  24  116    0  116  88    0  8   Malware  \n",
            "58592   215.729730    0  ...  221  26  24  116    0  120  88    0  8   Malware  \n",
            "58593   215.513513    0  ...  221  26  24  116    0  120  87    0  8   Malware  \n",
            "58594   213.026316    0  ...  221  26  24  116    0  120  86    0  8   Malware  \n",
            "\n",
            "[58595 rows x 56 columns]\n"
          ]
        }
      ]
    },
    {
      "cell_type": "markdown",
      "source": [
        "EN LA ETIQUETA OSEA Y SE REEMPLAZA BENIGN POR 1 Y MALWARE POR 0"
      ],
      "metadata": {
        "id": "de9u-42rCnJN"
      }
    },
    {
      "cell_type": "code",
      "source": [
        "# Posición de la columna\n",
        "posicion_columna = 56\n",
        "\n",
        "# Diccionario de reemplazo\n",
        "reemplazo = {'Benign': 1, 'Malware': 0}\n",
        "\n",
        "# Cambiar valores en la columna 56\n",
        "df.iloc[:, :56] = df.iloc[:, :56].replace(reemplazo)"
      ],
      "metadata": {
        "id": "C1i69_qJLAPS"
      },
      "execution_count": null,
      "outputs": []
    },
    {
      "cell_type": "code",
      "source": [
        "print(df)"
      ],
      "metadata": {
        "colab": {
          "base_uri": "https://localhost:8080/"
        },
        "id": "8MFbSxnnLBGC",
        "outputId": "2dc72f6c-a47a-4745-880d-06bee0f2b6a0"
      },
      "execution_count": null,
      "outputs": [
        {
          "output_type": "stream",
          "name": "stdout",
          "text": [
            "       45  17  10.55555556  0  202.8444444  1694       38.5   9129  \\\n",
            "0      47  19    11.531915  0   242.234043  2074  44.127660  11385   \n",
            "1      40  14    14.725000  0   288.225000  1932  48.300000  11529   \n",
            "2      32  13    13.500000  0   264.281250  1445  45.156250   8457   \n",
            "3      42  16    11.452381  0   281.333333  2067  49.214286  11816   \n",
            "4      40  12    13.800000  0   306.950000  2082  52.050000  12278   \n",
            "...    ..  ..          ... ..          ...   ...        ...    ...   \n",
            "58590  37  15    10.108108  0   215.486487  1453  39.270270   7973   \n",
            "58591  37  14     9.945946  0   190.216216  1347  36.405405   7038   \n",
            "58592  38  15     9.842105  0   210.026316  1448  38.105263   7982   \n",
            "58593  37  15    10.243243  0   215.513513  1452  39.243243   7974   \n",
            "58594  38  15     9.868421  0   213.026316  1487  39.131579   8095   \n",
            "\n",
            "       212.3023256  0.1  ...  221  26  24  116  0.4  121  87  0.5  8  Benign.1  \n",
            "0       242.234043    0  ...  222  26  24  118    0  122  87    0  8         1  \n",
            "1       288.225000    0  ...  222  26  27  118    0  120  88    0  8         1  \n",
            "2       264.281250    0  ...  222  26  27  118    0  120  88    0  8         1  \n",
            "3       281.333333    0  ...  222  26  24  118    0  124  87    0  8         1  \n",
            "4       306.950000    0  ...  222  26  27  118    0  123  88    0  8         1  \n",
            "...            ...  ...  ...  ...  ..  ..  ...  ...  ...  ..  ... ..       ...  \n",
            "58590   215.486487    0  ...  221  26  24  116    0  120  86    0  8         0  \n",
            "58591   190.216216    0  ...  221  26  24  116    0  116  88    0  8         0  \n",
            "58592   215.729730    0  ...  221  26  24  116    0  120  88    0  8         0  \n",
            "58593   215.513513    0  ...  221  26  24  116    0  120  87    0  8         0  \n",
            "58594   213.026316    0  ...  221  26  24  116    0  120  86    0  8         0  \n",
            "\n",
            "[58595 rows x 56 columns]\n"
          ]
        }
      ]
    },
    {
      "cell_type": "code",
      "source": [
        "df.to_csv('/content/drive/MyDrive/Dataset/Obfuscated-MalMem2022 Mod 2.csv')"
      ],
      "metadata": {
        "id": "I3kbB31IMh0b"
      },
      "execution_count": null,
      "outputs": []
    },
    {
      "cell_type": "code",
      "source": [
        "df = pd.read_csv('/content/drive/MyDrive/Dataset/Obfuscated-MalMem2022 Mod 2.csv')"
      ],
      "metadata": {
        "id": "dCh3z9cTjwKo"
      },
      "execution_count": null,
      "outputs": []
    },
    {
      "cell_type": "code",
      "source": [
        "print(df)"
      ],
      "metadata": {
        "colab": {
          "base_uri": "https://localhost:8080/"
        },
        "id": "CZtzdVxrj0kA",
        "outputId": "80131b20-4518-4bec-ba89-df173f21c4f2"
      },
      "execution_count": null,
      "outputs": [
        {
          "output_type": "stream",
          "name": "stdout",
          "text": [
            "           0  45  17  10.55555556  0.6  202.8444444  1694       38.5   9129  \\\n",
            "0          0  47  19    11.531915    0   242.234043  2074  44.127660  11385   \n",
            "1          1  40  14    14.725000    0   288.225000  1932  48.300000  11529   \n",
            "2          2  32  13    13.500000    0   264.281250  1445  45.156250   8457   \n",
            "3          3  42  16    11.452381    0   281.333333  2067  49.214286  11816   \n",
            "4          4  40  12    13.800000    0   306.950000  2082  52.050000  12278   \n",
            "...      ...  ..  ..          ...  ...          ...   ...        ...    ...   \n",
            "58590  58590  37  15    10.108108    0   215.486487  1453  39.270270   7973   \n",
            "58591  58591  37  14     9.945946    0   190.216216  1347  36.405405   7038   \n",
            "58592  58592  38  15     9.842105    0   210.026316  1448  38.105263   7982   \n",
            "58593  58593  37  15    10.243243    0   215.513513  1452  39.243243   7974   \n",
            "58594  58594  38  15     9.868421    0   213.026316  1487  39.131579   8095   \n",
            "\n",
            "       212.3023256  ...  221  26  24  116  0.4  121  87  0.5  8  1  \n",
            "0       242.234043  ...  222  26  24  118    0  122  87    0  8  1  \n",
            "1       288.225000  ...  222  26  27  118    0  120  88    0  8  1  \n",
            "2       264.281250  ...  222  26  27  118    0  120  88    0  8  1  \n",
            "3       281.333333  ...  222  26  24  118    0  124  87    0  8  1  \n",
            "4       306.950000  ...  222  26  27  118    0  123  88    0  8  1  \n",
            "...            ...  ...  ...  ..  ..  ...  ...  ...  ..  ... .. ..  \n",
            "58590   215.486487  ...  221  26  24  116    0  120  86    0  8  0  \n",
            "58591   190.216216  ...  221  26  24  116    0  116  88    0  8  0  \n",
            "58592   215.729730  ...  221  26  24  116    0  120  88    0  8  0  \n",
            "58593   215.513513  ...  221  26  24  116    0  120  87    0  8  0  \n",
            "58594   213.026316  ...  221  26  24  116    0  120  86    0  8  0  \n",
            "\n",
            "[58595 rows x 57 columns]\n"
          ]
        }
      ]
    },
    {
      "cell_type": "markdown",
      "source": [
        "YA QUE LOS DATOS ESTAN ORDENADO DE MANERA QUE EN EL ENTRENAMIENTO NO PERMITIRIA HACER UNA PREDICCION CORRECTA SE PENSÓ EN LA OPCION DE REORDENAR LOS EJEMPLOS DE MANERA ALEATORIA ASI QUE PARA QUE EL ENTRENAMIENTO PUEDA ALCANZAR LA MAYOR CANTIDAD DIVERSA DE EJEMPLOS"
      ],
      "metadata": {
        "id": "bF4fYJclCvvV"
      }
    },
    {
      "cell_type": "code",
      "source": [
        "df = df.sample(frac=1)"
      ],
      "metadata": {
        "id": "J26TcBjqjr95"
      },
      "execution_count": null,
      "outputs": []
    },
    {
      "cell_type": "code",
      "source": [
        "print(df)"
      ],
      "metadata": {
        "colab": {
          "base_uri": "https://localhost:8080/"
        },
        "id": "nNETdb_jj_Rp",
        "outputId": "538ca8b1-6fbf-4440-8438-7f702c1b4968"
      },
      "execution_count": null,
      "outputs": [
        {
          "output_type": "stream",
          "name": "stdout",
          "text": [
            "           0  45  17  10.55555556  0.6  202.8444444  1694       38.5   9129  \\\n",
            "30074  30074  38  15    10.052632    0   213.815789  1491  39.236842   8125   \n",
            "56681  56681  45  17     9.377778    0   203.688889  1722  38.266667   9167   \n",
            "29360  29360  51  21     8.529412    0   177.117647  1745  34.215686   9037   \n",
            "9117    9117  41  12    12.997410    0   294.856249  2029  49.487805  12089   \n",
            "51930  51930  45  18     9.111111    0   194.577778  1676  37.244444   8757   \n",
            "...      ...  ..  ..          ...  ...          ...   ...        ...    ...   \n",
            "55705  55705  44  16    10.113636    0   210.431818  1705  38.750000   9260   \n",
            "14675  14675  40  13    13.072626    0   290.215503  2015  50.375000  11608   \n",
            "38400  38400  42  16    10.071429    0   205.500000  1607  38.261905   8631   \n",
            "37048  37048  39  15    11.410256    0   220.846154  1563  40.076923   8613   \n",
            "44816  44816  37  15    10.162162    0   215.135135  1445  39.054054   7960   \n",
            "\n",
            "       212.3023256  ...  221  26  24  116  0.4  121  87  0.5  8  1  \n",
            "30074   213.815789  ...  221  26  24  116    0  118  87    0  8  0  \n",
            "56681   208.340909  ...  221  26  24  116    0  123  86    0  8  0  \n",
            "29360   192.276596  ...  221  26  24  116    0  122  86    0  8  0  \n",
            "9117    294.856249  ...  222  26  27  118    0  122  88    0  8  1  \n",
            "51930   199.022727  ...  221  26  24  116    0  122  87    0  8  0  \n",
            "...            ...  ...  ...  ..  ..  ...  ...  ...  ..  ... .. ..  \n",
            "55705   215.348837  ...  221  26  24  116    0  123  86    0  8  0  \n",
            "14675   290.215503  ...  222  26  27  118    0  123  88    0  8  1  \n",
            "38400   205.500000  ...  221  26  24  116    0  122  87    0  8  0  \n",
            "37048   220.846154  ...  221  26  24  116    0  122  87    0  8  0  \n",
            "44816   215.135135  ...  221  26  24  116    0  119  87    0  8  0  \n",
            "\n",
            "[58595 rows x 57 columns]\n"
          ]
        }
      ]
    },
    {
      "cell_type": "code",
      "source": [
        "df.to_csv('/content/drive/MyDrive/Dataset/Obfuscated-MalMem2022 Mod 3.csv')"
      ],
      "metadata": {
        "id": "8kvsHBr8kZrB"
      },
      "execution_count": null,
      "outputs": []
    },
    {
      "cell_type": "code",
      "source": [
        "# used for manipulating directory paths\n",
        "import os\n",
        "\n",
        "# Scientific and vector computation for python\n",
        "import numpy as np\n",
        "\n",
        "# Plotting library\n",
        "from matplotlib import pyplot\n",
        "\n",
        "# Optimization module in scipy\n",
        "from scipy import optimize\n",
        "\n",
        "# will be used to load MATLAB mat datafile format\n",
        "# from scipy.io import loadmat\n",
        "\n",
        "# library written for this exercise providing additional functions for assignment submission, and others\n",
        "# import utils\n",
        "\n",
        "\n",
        "# tells matplotlib to embed plots within the notebook\n",
        "%matplotlib inline"
      ],
      "metadata": {
        "id": "DPiUAyr-fD8g"
      },
      "execution_count": null,
      "outputs": []
    },
    {
      "cell_type": "markdown",
      "source": [
        "SE CARGAN LOS DATOS DEL DATASET"
      ],
      "metadata": {
        "id": "ZPsLvxdADEpO"
      }
    },
    {
      "cell_type": "code",
      "source": [
        "#  datos de entrenamiento almacenados en los arreglos X, y\n",
        "# data = np.loadtxt(\"/content/gdrive/MyDrive/Colab Notebooks/machine learning/datasets/wine_preparado.csv\", delimiter=',')\n",
        "data = np.loadtxt(\"/content/drive/MyDrive/Dataset/Obfuscated-MalMem2022 Mod 3.csv\", delimiter=',')\n",
        "\n",
        "# print(data)\n",
        "X, y = data[:46876, 2:56], data[:46876,57]\n",
        "\n",
        "y = np.array([int(e) for e in y])\n",
        "print(y.shape)\n",
        "y = np.squeeze(y)\n",
        "\n",
        "#y[y == 1] = 0\n",
        "#y[y == 2] = 1\n",
        "#y[y == 3] = 2\n",
        "\n",
        "Xp= data[46877:,2:56]\n",
        "#X = X[:46876, 2:56]\n",
        "\n",
        "yp = data[46877:,57]\n",
        "#y = y[:46876,57]\n",
        "\n",
        "\n",
        "# print(npy)\n",
        "# print(npy.shape)\n",
        "# y = Y\n",
        "# establecer el dígito cero en 0, en lugar del 10 asignado a este conjunto de datos\n",
        "# Esto se hace debido a que el conjunto de datos se utilizó en MATLAB donde no hay índice 0\n",
        "# m = y.size\n",
        "\n",
        "print(X.shape)\n",
        "#print(y.shape)\n",
        "#print(Xp.shape)\n",
        "#print(yp.shape)\n",
        "\n",
        "\n",
        "print(X)\n",
        "print(y)\n",
        "print(yp)"
      ],
      "metadata": {
        "colab": {
          "base_uri": "https://localhost:8080/"
        },
        "id": "QB0UJ-gqfLk4",
        "outputId": "b32b8fee-ef47-466b-f285-c58172348d16"
      },
      "execution_count": null,
      "outputs": [
        {
          "output_type": "stream",
          "name": "stdout",
          "text": [
            "(46876,)\n",
            "(46876, 54)\n",
            "[[ 45.          17.          10.55555556 ... 121.          87.\n",
            "    0.5       ]\n",
            " [ 38.          15.          10.05263158 ... 118.          87.\n",
            "    0.        ]\n",
            " [ 45.          17.           9.37777778 ... 123.          86.\n",
            "    0.        ]\n",
            " ...\n",
            " [ 61.          22.          10.71329694 ... 127.          87.\n",
            "    0.        ]\n",
            " [ 67.          21.          10.43994488 ... 126.          87.\n",
            "    0.        ]\n",
            " [ 47.          18.          11.7872833  ... 124.          87.\n",
            "    0.        ]]\n",
            "[1 0 0 ... 1 1 1]\n",
            "[0. 1. 1. ... 0. 0. 0.]\n"
          ]
        }
      ]
    },
    {
      "cell_type": "code",
      "source": [
        "# Configurando parametros necesario\n",
        "input_layer_size  = 54  # Entrada de 13 caracteristicas\n",
        "hidden_layer_size = 10   # 10 unidades ocultas\n",
        "num_labels = 2          # 3 etiquetas, de 0 a 2\n",
        "\n",
        "# carga los pesos en las variables Theta1 y Theta2\n",
        "# weights = loadmat(os.path.join('/content/gdrive/MyDrive/Colab Notebooks/machine learning/data', 'ex4weights.mat'))\n",
        "# weights = np.array()\n",
        "pesos = {}\n",
        "pesos['Theta1'] = np.random.rand(10, 55)\n",
        "pesos['Theta2'] = np.random.rand(2, 11)\n",
        "# print(pesos['Theta1'][:].shape)\n",
        "# print(pesos['Theta2'][:].shape)\n",
        "\n",
        "# print(weights['Theta1'][:].shape)\n",
        "# print(weights['Theta2'][:].shape)\n",
        "\n",
        "# print(weights['Theta1'][0])\n",
        "# print(np.roll(weights['Theta1'][0], 1, axis=0))\n",
        "# Theta1 tiene un tamaño de 25x401\n",
        "# Theta2 tiene un tamañó de 10x26\n",
        "# Theta1, Theta2 = weights['Theta1'], weights['Theta2']\n",
        "Theta1, Theta2 = pesos['Theta1'], pesos['Theta2']\n",
        "# se intercambia la ultima columa con la primera de Theta2, por cuestiones de indices que utiliza MATLAB\n",
        "# print(Theta2)\n",
        "# print(np.roll(Theta2, 1, axis=0))\n",
        "\n",
        "# Theta2 = np.roll(Theta2, 1, axis=0)\n",
        "\n",
        "# Desenrollar parámetros\n",
        "print(Theta1.ravel().shape)\n",
        "print(Theta2.ravel().shape)\n",
        "\n",
        "nn_params = np.concatenate([Theta1.ravel(), Theta2.ravel()])\n",
        "print(nn_params.shape)"
      ],
      "metadata": {
        "colab": {
          "base_uri": "https://localhost:8080/"
        },
        "id": "k_s_v76QN3I0",
        "outputId": "d3419e59-85b8-45fa-db4e-870a48ec2556"
      },
      "execution_count": null,
      "outputs": [
        {
          "output_type": "stream",
          "name": "stdout",
          "text": [
            "(550,)\n",
            "(22,)\n",
            "(572,)\n"
          ]
        }
      ]
    },
    {
      "cell_type": "code",
      "source": [
        "def sigmoid(z):\n",
        "    \"\"\"\n",
        "    Computes the sigmoid of z.\n",
        "    \"\"\"\n",
        "    return 1.0 / (1.0 + np.exp(-z))\n",
        "\n",
        "\n",
        "def sigmoidGradient(z):\n",
        "\n",
        "    g = np.zeros(z.shape)\n",
        "\n",
        "    g = sigmoid(z) * (1 - sigmoid(z))\n",
        "\n",
        "    return g"
      ],
      "metadata": {
        "id": "m13HThLTP1x8"
      },
      "execution_count": null,
      "outputs": []
    },
    {
      "cell_type": "code",
      "source": [
        "def nnCostFunction(nn_params,\n",
        "                   input_layer_size,\n",
        "                   hidden_layer_size,\n",
        "                   num_labels,\n",
        "                   X, y, lambda_= 0.0):\n",
        "\n",
        "    # Reshape nn_params back into the parameters Theta1 and Theta2, the weight matrices\n",
        "    # for our 2 layer neural network\n",
        "    Theta1 = np.reshape(nn_params[:hidden_layer_size * (input_layer_size + 1)],\n",
        "                        (hidden_layer_size, (input_layer_size + 1)))\n",
        "\n",
        "    Theta2 = np.reshape(nn_params[(hidden_layer_size * (input_layer_size + 1)):],\n",
        "                        (num_labels, (hidden_layer_size + 1)))\n",
        "\n",
        "    m = y.size\n",
        "\n",
        "    J = 0\n",
        "    Theta1_grad = np.zeros(Theta1.shape)\n",
        "    Theta2_grad = np.zeros(Theta2.shape)\n",
        "\n",
        "    a1 = np.concatenate([np.ones((m, 1)), X], axis=1)\n",
        "\n",
        "    a2 = sigmoid(a1.dot(Theta1.T))\n",
        "    a2 = np.concatenate([np.ones((a2.shape[0], 1)), a2], axis=1)\n",
        "\n",
        "    a3 = sigmoid(a2.dot(Theta2.T))\n",
        "\n",
        "    # print(\"-\"*20)\n",
        "    # print(y.shape)\n",
        "    # print(y.reshape(-1))\n",
        "    # print(\"-\"*20)\n",
        "    y_matrix = y.reshape(-1)\n",
        "    # print(y.shape)\n",
        "    y_matrix = np.eye(num_labels)[y_matrix]\n",
        "    # print(y_matrix)\n",
        "\n",
        "    temp1 = Theta1\n",
        "    temp2 = Theta2\n",
        "\n",
        "    # Agregar el termino de regularización\n",
        "\n",
        "    reg_term = (lambda_ / (2 * m)) * (np.sum(np.square(temp1[:, 1:])) + np.sum(np.square(temp2[:, 1:])))\n",
        "\n",
        "    J = (-1 / m) * np.sum((np.log(a3) * y_matrix) + np.log(1 - a3) * (1 - y_matrix)) + reg_term\n",
        "\n",
        "    # Backpropogation\n",
        "\n",
        "    delta_3 = a3 - y_matrix\n",
        "    delta_2 = delta_3.dot(Theta2)[:, 1:] * sigmoidGradient(a1.dot(Theta1.T))\n",
        "\n",
        "    Delta1 = delta_2.T.dot(a1)\n",
        "    Delta2 = delta_3.T.dot(a2)\n",
        "\n",
        "    # Agregar regularización al gradiente\n",
        "\n",
        "    Theta1_grad = (1 / m) * Delta1\n",
        "    Theta1_grad[:, 1:] = Theta1_grad[:, 1:] + (lambda_ / m) * Theta1[:, 1:]\n",
        "\n",
        "    Theta2_grad = (1 / m) * Delta2\n",
        "    Theta2_grad[:, 1:] = Theta2_grad[:, 1:] + (lambda_ / m) * Theta2[:, 1:]\n",
        "\n",
        "    # ===================== Alterntate solutions =====================\n",
        "    # my_final_matrix = np.zeros(a3.shape)\n",
        "    # for c in np.arange(num_labels):\n",
        "    #    my_final_matrix[:, c] = (np.log(a3[:, c]) * (y == c)) + (np.log(1 - a3[:, c]) * (1 - (y == c)))\n",
        "    #J = (-1 / m) * np.sum(my_final_matrix)\n",
        "    # ================================================================\n",
        "\n",
        "    # ================================================================\n",
        "    # Unroll gradients\n",
        "    # grad = np.concatenate([Theta1_grad.ravel(order=order), Theta2_grad.ravel(order=order)])\n",
        "\n",
        "    grad = np.concatenate([Theta1_grad.ravel(), Theta2_grad.ravel()])\n",
        "\n",
        "    return J, grad"
      ],
      "metadata": {
        "id": "JZZKNSk6P6cT"
      },
      "execution_count": null,
      "outputs": []
    },
    {
      "cell_type": "code",
      "source": [
        "lambda_ = 0\n",
        "J, _ = nnCostFunction(nn_params, input_layer_size, hidden_layer_size, num_labels, X, y, lambda_)\n",
        "print('Costo en parametros (cargado de ex4weights): %.6f ' % J)\n",
        "print('El costo debe esta cercano a               : 0.287629')"
      ],
      "metadata": {
        "colab": {
          "base_uri": "https://localhost:8080/"
        },
        "id": "0Ljlrj0cP96j",
        "outputId": "cc182dc5-5f4f-4dce-a503-b70f291845b6"
      },
      "execution_count": null,
      "outputs": [
        {
          "output_type": "stream",
          "name": "stdout",
          "text": [
            "Costo en parametros (cargado de ex4weights): 4.395460 \n",
            "El costo debe esta cercano a               : 0.287629\n"
          ]
        }
      ]
    },
    {
      "cell_type": "code",
      "source": [
        "z = np.array([-1, -0.5, 0, 0.5, 1])\n",
        "g = sigmoidGradient(z)\n",
        "print('Gradiente sigmoide evaluada con [-1 -0.5 0 0.5 1]:\\n  ')\n",
        "print(g)"
      ],
      "metadata": {
        "colab": {
          "base_uri": "https://localhost:8080/"
        },
        "id": "rem5k4W8P_-T",
        "outputId": "e31db1c4-1d5c-4e88-e5ed-93172bbe38a9"
      },
      "execution_count": null,
      "outputs": [
        {
          "output_type": "stream",
          "name": "stdout",
          "text": [
            "Gradiente sigmoide evaluada con [-1 -0.5 0 0.5 1]:\n",
            "  \n",
            "[0.19661193 0.23500371 0.25       0.23500371 0.19661193]\n"
          ]
        }
      ]
    },
    {
      "cell_type": "code",
      "source": [
        "def randInitializeWeights(L_in, L_out, epsilon_init=0.12):\n",
        "    \"\"\"\n",
        "    Randomly initialize the weights of a layer in a neural network.\n",
        "\n",
        "    Parameters\n",
        "    ----------\n",
        "    L_in : int\n",
        "        Number of incomming connections.\n",
        "\n",
        "    L_out : int\n",
        "        Number of outgoing connections.\n",
        "\n",
        "    epsilon_init : float, optional\n",
        "        Range of values which the weight can take from a uniform\n",
        "        distribution.\n",
        "\n",
        "    Returns\n",
        "    -------\n",
        "    W : array_like\n",
        "        The weight initialiatized to random values.  Note that W should\n",
        "        be set to a matrix of size(L_out, 1 + L_in) as\n",
        "        the first column of W handles the \"bias\" terms.\"\"\"\n",
        "\n",
        "\n",
        "    W = np.zeros((L_out, 1 + L_in))\n",
        "    W = np.random.rand(L_out, 1 + L_in) * 2 * epsilon_init - epsilon_init\n",
        "\n",
        "    return W"
      ],
      "metadata": {
        "id": "2IeRYZbfQCXc"
      },
      "execution_count": null,
      "outputs": []
    },
    {
      "cell_type": "code",
      "source": [
        "print('Inicialización de parámetros de redes neuronales...')\n",
        "\n",
        "initial_Theta1 = randInitializeWeights(input_layer_size, hidden_layer_size)\n",
        "initial_Theta2 = randInitializeWeights(hidden_layer_size, num_labels)\n",
        "\n",
        "# Desenrrollr parametros\n",
        "initial_nn_params = np.concatenate([initial_Theta1.ravel(), initial_Theta2.ravel()], axis=0)"
      ],
      "metadata": {
        "colab": {
          "base_uri": "https://localhost:8080/"
        },
        "id": "934dVjf7QE8z",
        "outputId": "5f266c3b-58ed-442a-8e32-5b8d205b5fa6"
      },
      "execution_count": null,
      "outputs": [
        {
          "output_type": "stream",
          "name": "stdout",
          "text": [
            "Inicialización de parámetros de redes neuronales...\n"
          ]
        }
      ]
    },
    {
      "cell_type": "code",
      "source": [
        "#  After you have completed the assignment, change the maxiter to a larger\n",
        "#  value to see how more training helps.\n",
        "options= {'maxiter': 1000}\n",
        "\n",
        "#  You should also try different values of lambda\n",
        "lambda_ = 1\n",
        "\n",
        "# Create \"short hand\" for the cost function to be minimized\n",
        "costFunction = lambda p: nnCostFunction(p, input_layer_size,\n",
        "                                        hidden_layer_size,\n",
        "                                        num_labels, X, y, lambda_)\n",
        "\n",
        "# Now, costFunction is a function that takes in only one argument\n",
        "# (the neural network parameters)\n",
        "res = optimize.minimize(costFunction,\n",
        "                        initial_nn_params,\n",
        "                        jac=True,\n",
        "                        method='TNC',\n",
        "                        options=options)\n",
        "\n",
        "# get the solution of the optimization\n",
        "nn_params = res.x\n",
        "\n",
        "# Obtain Theta1 and Theta2 back from nn_params\n",
        "Theta1 = np.reshape(nn_params[:hidden_layer_size * (input_layer_size + 1)],\n",
        "                    (hidden_layer_size, (input_layer_size + 1)))\n",
        "\n",
        "Theta2 = np.reshape(nn_params[(hidden_layer_size * (input_layer_size + 1)):],\n",
        "                    (num_labels, (hidden_layer_size + 1)))"
      ],
      "metadata": {
        "colab": {
          "base_uri": "https://localhost:8080/"
        },
        "id": "AmNr60CmQIiD",
        "outputId": "93dfed0a-831d-4850-ab4a-76ec4b328957"
      },
      "execution_count": null,
      "outputs": [
        {
          "output_type": "stream",
          "name": "stderr",
          "text": [
            "<ipython-input-40-2f5ec00f0be7>:15: OptimizeWarning: Unknown solver options: maxiter\n",
            "  res = optimize.minimize(costFunction,\n",
            "<ipython-input-34-fcf1f7fde265>:5: RuntimeWarning: overflow encountered in exp\n",
            "  return 1.0 / (1.0 + np.exp(-z))\n"
          ]
        }
      ]
    },
    {
      "cell_type": "code",
      "source": [
        "def predict(Theta1, Theta2, X):\n",
        "    \"\"\"\n",
        "    Predict the label of an input given a trained neural network\n",
        "    Outputs the predicted label of X given the trained weights of a neural\n",
        "    network(Theta1, Theta2)\n",
        "    \"\"\"\n",
        "    # Useful values\n",
        "    m = X.shape[0]\n",
        "    num_labels = Theta2.shape[0]\n",
        "\n",
        "    # You need to return the following variables correctly\n",
        "    p = np.zeros(m)\n",
        "    h1 = sigmoid(np.dot(np.concatenate([np.ones((m, 1)), X], axis=1), Theta1.T))\n",
        "    h2 = sigmoid(np.dot(np.concatenate([np.ones((m, 1)), h1], axis=1), Theta2.T))\n",
        "    p = np.argmax(h2, axis=1)\n",
        "    return p"
      ],
      "metadata": {
        "id": "5xy8dmhZT-JV"
      },
      "execution_count": null,
      "outputs": []
    },
    {
      "cell_type": "code",
      "source": [
        "pred = predict(Theta1, Theta2, X[:,:])\n",
        "print(pred)\n",
        "print('Training Set Accuracy: %f' % (np.mean(pred == y[:]) * 100))"
      ],
      "metadata": {
        "colab": {
          "base_uri": "https://localhost:8080/"
        },
        "id": "cvDgdra7UASN",
        "outputId": "199b6646-c51e-4b0e-d381-0e972c71a289"
      },
      "execution_count": null,
      "outputs": [
        {
          "output_type": "stream",
          "name": "stdout",
          "text": [
            "[1 0 0 ... 1 1 1]\n",
            "Training Set Accuracy: 100.000000\n"
          ]
        },
        {
          "output_type": "stream",
          "name": "stderr",
          "text": [
            "<ipython-input-34-fcf1f7fde265>:5: RuntimeWarning: overflow encountered in exp\n",
            "  return 1.0 / (1.0 + np.exp(-z))\n"
          ]
        }
      ]
    },
    {
      "cell_type": "code",
      "source": [
        "pred = predict(Theta1, Theta2, Xp[:,:])\n",
        "print(pred)\n",
        "print('Training Set Accuracy: %f' % (np.mean(pred == yp[:]) * 100))"
      ],
      "metadata": {
        "colab": {
          "base_uri": "https://localhost:8080/"
        },
        "id": "P9lDwKgRUDuk",
        "outputId": "accea262-4a00-4182-fd51-4f39c93e2ecc"
      },
      "execution_count": null,
      "outputs": [
        {
          "output_type": "stream",
          "name": "stdout",
          "text": [
            "[0 1 1 ... 0 0 0]\n",
            "Training Set Accuracy: 100.000000\n"
          ]
        },
        {
          "output_type": "stream",
          "name": "stderr",
          "text": [
            "<ipython-input-34-fcf1f7fde265>:5: RuntimeWarning: overflow encountered in exp\n",
            "  return 1.0 / (1.0 + np.exp(-z))\n"
          ]
        }
      ]
    }
  ]
}