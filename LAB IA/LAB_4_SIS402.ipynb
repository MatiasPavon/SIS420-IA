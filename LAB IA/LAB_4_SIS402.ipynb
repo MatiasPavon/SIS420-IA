{
  "nbformat": 4,
  "nbformat_minor": 0,
  "metadata": {
    "colab": {
      "provenance": []
    },
    "kernelspec": {
      "name": "python3",
      "display_name": "Python 3"
    },
    "language_info": {
      "name": "python"
    }
  },
  "cells": [
    {
      "cell_type": "markdown",
      "source": [
        "CLASIFICACION MULTICLASE"
      ],
      "metadata": {
        "id": "RU9ojA9skaw-"
      }
    },
    {
      "cell_type": "markdown",
      "source": [
        "CON REGULARIZACION"
      ],
      "metadata": {
        "id": "xbFPHnNCG-Wy"
      }
    },
    {
      "cell_type": "markdown",
      "source": [
        "Primero conectamos nuestro drive con el cuadernillo"
      ],
      "metadata": {
        "id": "PCyoRGJ7zH1V"
      }
    },
    {
      "cell_type": "code",
      "execution_count": null,
      "metadata": {
        "id": "fZaHZht8pZW9",
        "colab": {
          "base_uri": "https://localhost:8080/"
        },
        "outputId": "a94ee472-20f8-47eb-9e8d-36f5a0cf509d"
      },
      "outputs": [
        {
          "output_type": "stream",
          "name": "stdout",
          "text": [
            "Mounted at /content/drive\n"
          ]
        }
      ],
      "source": [
        "from google.colab import drive\n",
        "drive.mount('/content/drive')"
      ]
    },
    {
      "cell_type": "markdown",
      "source": [
        "Ahora importamos librerias para que funciones el codigo"
      ],
      "metadata": {
        "id": "OYR443RiRCaj"
      }
    },
    {
      "cell_type": "code",
      "source": [
        "# utilizado para la manipulación de directorios y rutas\n",
        "import os\n",
        "\n",
        "# Cálculo científico y vectorial para python\n",
        "import numpy as np\n",
        "\n",
        "# Libreria para graficos\n",
        "from matplotlib import pyplot\n",
        "\n",
        "# Modulo de optimizacion en scipy\n",
        "from scipy import optimize\n",
        "\n",
        "# modulo para cargar archivos en formato MATLAB\n",
        "# from scipy.io import loadmat\n",
        "\n",
        "# le dice a matplotlib que incruste gráficos en el cuaderno\n",
        "%matplotlib inline"
      ],
      "metadata": {
        "id": "vtNvm_MWRFaM"
      },
      "execution_count": 55,
      "outputs": []
    },
    {
      "cell_type": "markdown",
      "source": [
        "Se inicia el ejercicio cargando primero el conjunto de datos donde se selecciona 80% de los ejemplos para el entrenamiento"
      ],
      "metadata": {
        "id": "LziINxJmRGw0"
      }
    },
    {
      "cell_type": "code",
      "source": [
        "# La entrada es de 14 elemento contando con x0\n",
        "input_layer_size  = 14\n",
        "\n",
        "# 10 etiquetas, de 1 a 10 (tomar en cuenta que se asigna \"0\" a la etiqueta 10)\n",
        "num_labels = 7\n",
        "\n",
        "#  datos de entrenamiento almacenados en los arreglos X, y\n",
        "# data = loadmat(os.path.join('Datasets', 'ex3data1.mat'))\n",
        "data = np.loadtxt('/content/drive/MyDrive/Dataset/WineModificado4.csv', delimiter=',')\n",
        "\n",
        "# print(data['y'])\n",
        "# print(data['y'].ravel())\n",
        "# print(data['X'])\n",
        "X = data[:25986, 1:13]\n",
        "y = data[:25986, 13]\n",
        "# X, y = data['X'], data['y'].ravel()\n",
        "# print(X)\n",
        "# print(y)\n",
        "# establecer el dígito cero en 0, en lugar del 10 asignado a este conjunto de datos\n",
        "# Esto se hace debido a que el conjunto de datos se utilizó en MATLAB donde no hay índice 0\n",
        "y[y == 3] = 0\n",
        "y[y == 4] = 1\n",
        "y[y == 5] = 2\n",
        "y[y == 6] = 3\n",
        "y[y == 7] = 4\n",
        "y[y == 8] = 5\n",
        "y[y == 9] = 6\n",
        "# print(y)\n",
        "\n",
        "m = y.size\n",
        "print(X)\n",
        "print(y)"
      ],
      "metadata": {
        "id": "xU35-JssRL0U",
        "colab": {
          "base_uri": "https://localhost:8080/"
        },
        "outputId": "2411da04-e407-4f82-c777-319ec699ba94"
      },
      "execution_count": 56,
      "outputs": [
        {
          "output_type": "stream",
          "name": "stdout",
          "text": [
            "[[ 7.4    0.17   0.29  ...  0.65  10.4    1.   ]\n",
            " [ 5.3    0.31   0.38  ...  0.46  11.7    1.   ]\n",
            " [ 4.7    0.145  0.29  ...  0.49  11.3    1.   ]\n",
            " ...\n",
            " [ 6.4    0.27   0.49  ...  0.43   9.2    1.   ]\n",
            " [ 8.3    0.16   0.37  ...  0.37  11.9    1.   ]\n",
            " [ 9.2    0.31   0.36  ...  0.86  12.     0.   ]]\n",
            "[3. 3. 3. ... 3. 3. 4.]\n"
          ]
        }
      ]
    },
    {
      "cell_type": "markdown",
      "source": [
        "SE CAMBIO LOS VALORES DE LAS CLASES COMO SE INDICO EN LA CLASE DE LABORATORIO PARA ADECUARLOS A LOS VALORES QUE DEVUELVE ARMAC (3 = 0 PESIMO) (4 = 1 MUY MALO) (5 = 2 MALO) (6 = 3 REGULAR) (7 = 4 BUENO) (8 = 5 MUY BUENO) (9 = 6 EXCELENTE)"
      ],
      "metadata": {
        "id": "I9Ccw6tPj-Nb"
      }
    },
    {
      "cell_type": "markdown",
      "source": [
        "NORMALIZAR"
      ],
      "metadata": {
        "id": "S3xL_ekHkAOD"
      }
    },
    {
      "cell_type": "code",
      "source": [
        "def  featureNormalize(X):\n",
        "    X_norm = X.copy()\n",
        "    mu = np.zeros(X.shape[1])\n",
        "    sigma = np.zeros(X.shape[1])\n",
        "\n",
        "    mu = np.mean(X, axis = 0)\n",
        "    sigma = np.std(X, axis = 0)\n",
        "    X_norm = (X - mu) / sigma\n",
        "\n",
        "    return X_norm, mu, sigma"
      ],
      "metadata": {
        "id": "qPsrkz1ukBy9"
      },
      "execution_count": 57,
      "outputs": []
    },
    {
      "cell_type": "code",
      "source": [
        "# llama featureNormalize con los datos cargados\n",
        "X_norm, mu, sigma = featureNormalize(X)"
      ],
      "metadata": {
        "id": "1T_ai95rkDgj"
      },
      "execution_count": 58,
      "outputs": []
    },
    {
      "cell_type": "code",
      "source": [
        "# Configurar la matriz adecuadamente, y agregar una columna de unos que corresponde al termino de intercepción.\n",
        "m, n = X.shape\n",
        "# Agraga el termino de intercepción a A\n",
        "# X = np.concatenate([np.ones((m, 1)), X_norm], axis=1)\n",
        "X = X_norm\n",
        "# X = np.concatenate([np.ones((m, 1)), X], axis=1)"
      ],
      "metadata": {
        "id": "0ByHbQSGkFKT"
      },
      "execution_count": 59,
      "outputs": []
    },
    {
      "cell_type": "markdown",
      "source": [
        "FUNCION SIGMOIDE"
      ],
      "metadata": {
        "id": "OBrsi15gkmQE"
      }
    },
    {
      "cell_type": "code",
      "source": [
        "def sigmoid(z):\n",
        "    \"\"\"\n",
        "    Calcula la sigmoide de z.\n",
        "    \"\"\"\n",
        "    return 1.0 / (1.0 + np.exp(-z))"
      ],
      "metadata": {
        "id": "ZSPc8L5ikn20"
      },
      "execution_count": 51,
      "outputs": []
    },
    {
      "cell_type": "markdown",
      "source": [
        "VECTORIZACION DEL GRADIENTE"
      ],
      "metadata": {
        "id": "Av6rQHG-kqN7"
      }
    },
    {
      "cell_type": "code",
      "source": [
        "def lrCostFunction(theta, X, y, lambda_):\n",
        "    \"\"\"\n",
        "    Calcula el costo de usar theta como parámetro para la regresión logística regularizada y\n",
        "    el gradiente del costo w.r.t. a los parámetros.\n",
        "\n",
        "    Parametros\n",
        "    ----------\n",
        "    theta : array_like\n",
        "        Parametro theta de la regresion logistica. Vector de la forma(shape) (n, ). n es el numero de caracteristicas\n",
        "        incluida la intercepcion\n",
        "\n",
        "    X : array_like\n",
        "        Dataset con la forma(shape) (m x n). m es el numero de ejemplos, y n es el numero de\n",
        "        caracteristicas (incluida la intercepcion).\n",
        "\n",
        "    y : array_like\n",
        "        El conjunto de etiquetas. Un vector con la forma (shape) (m, ). m es el numero de ejemplos\n",
        "\n",
        "    lambda_ : float\n",
        "        Parametro de regularización.\n",
        "\n",
        "    Devuelve\n",
        "    -------\n",
        "    J : float\n",
        "        El valor calculado para la funcion de costo regularizada.\n",
        "\n",
        "    grad : array_like\n",
        "        Un vector de la forma (shape) (n, ) que es el gradiente de la\n",
        "        función de costo con respecto a theta, en los valores actuales de theta..\n",
        "    \"\"\"\n",
        "#     alpha = 0.003\n",
        "#     theta = theta.copy()\n",
        "    # Inicializa algunos valores utiles\n",
        "    m = y.size\n",
        "\n",
        "    # convierte las etiquetas a valores enteros si son boleanos\n",
        "    if y.dtype == bool:\n",
        "        y = y.astype(int)\n",
        "\n",
        "    J = 0\n",
        "    grad = np.zeros(theta.shape)\n",
        "\n",
        "    h = sigmoid(X.dot(theta.T))\n",
        "\n",
        "    temp = theta\n",
        "    temp[0] = 0\n",
        "\n",
        "#     J = (1 / m) * np.sum(-y.dot(np.log(h)) - (1 - y).dot(np.log(1 - h)))\n",
        "    J = (1 / m) * np.sum(-y.dot(np.log(h)) - (1 - y).dot(np.log(1 - h))) + (lambda_ / (2 * m)) * np.sum(np.square(temp))\n",
        "\n",
        "    grad = (1 / m) * (h - y).dot(X)\n",
        "#     theta = theta - (alpha / m) * (h - y).dot(X)\n",
        "    grad = grad + (lambda_ / m) * temp\n",
        "\n",
        "    return J, grad\n",
        "#    return J, theta"
      ],
      "metadata": {
        "id": "S7f1XeA1kt8r"
      },
      "execution_count": 60,
      "outputs": []
    },
    {
      "cell_type": "markdown",
      "source": [
        "GRAFICO DE FUNCION COSTO"
      ],
      "metadata": {
        "id": "JAMRfF6iH_lR"
      }
    },
    {
      "cell_type": "code",
      "source": [
        "# Elegir algun valor para alpha (probar varias alternativas)\n",
        "lambda_ = 0.1\n",
        "num_iters = 33000\n",
        "\n",
        "# inicializa theta y ejecuta el descenso por el gradiente\n",
        "theta= np.zeros(12)\n",
        "theta, J_history = lrCostFunction(theta, X, y, lambda_)\n",
        "\n",
        "# Grafica la convergencia del costo\n",
        "pyplot.plot(np.arange(len(J_history)), J_history, lw=2)\n",
        "pyplot.xlabel('Numero de iteraciones')\n",
        "pyplot.ylabel('Costo J')\n",
        "\n",
        "# Muestra los resultados del descenso por el gradiente\n",
        "print('theta calculado por el descenso por el gradiente: {:s}'.format(str(theta)))"
      ],
      "metadata": {
        "colab": {
          "base_uri": "https://localhost:8080/",
          "height": 466
        },
        "id": "uamdRaQ_H-pp",
        "outputId": "994a3f79-8331-4b95-e022-7fbffc12b359"
      },
      "execution_count": 61,
      "outputs": [
        {
          "output_type": "stream",
          "name": "stdout",
          "text": [
            "theta calculado por el descenso por el gradiente: 0.6931471805599537\n"
          ]
        },
        {
          "output_type": "display_data",
          "data": {
            "text/plain": [
              "<Figure size 640x480 with 1 Axes>"
            ],
            "image/png": "[encoded data removed]"
          },
          "metadata": {}
        }
      ]
    },
    {
      "cell_type": "markdown",
      "source": [
        "CLASIFICACION ONE VS ALL"
      ],
      "metadata": {
        "id": "vrRuOnyRtiY7"
      }
    },
    {
      "cell_type": "code",
      "source": [
        "def oneVsAll(X, y, num_labels, lambda_):\n",
        "    \"\"\"\n",
        "    Trains num_labels logistic regression classifiers and returns\n",
        "    each of these classifiers in a matrix all_theta, where the i-th\n",
        "    row of all_theta corresponds to the classifier for label i.\n",
        "\n",
        "    Parameters\n",
        "    ----------\n",
        "    X : array_like\n",
        "        The input dataset of shape (m x n). m is the number of\n",
        "        data points, and n is the number of features. Note that we\n",
        "        do not assume that the intercept term (or bias) is in X, however\n",
        "        we provide the code below to add the bias term to X.\n",
        "\n",
        "    y : array_like\n",
        "        The data labels. A vector of shape (m, ).\n",
        "\n",
        "    num_labels : int\n",
        "        Number of possible labels.\n",
        "\n",
        "    lambda_ : float\n",
        "        The logistic regularization parameter.\n",
        "\n",
        "    Returns\n",
        "    -------\n",
        "    all_theta : array_like\n",
        "        The trained parameters for logistic regression for each class.\n",
        "        This is a matrix of shape (K x n+1) where K is number of classes\n",
        "        (ie. `numlabels`) and n is number of features without the bias.\n",
        "    \"\"\"\n",
        "    # algunas variables utiles\n",
        "    m, n = X.shape\n",
        "\n",
        "    all_theta = np.zeros((num_labels, n + 1))\n",
        "\n",
        "    # Agrega unos a la matriz X\n",
        "    X = np.concatenate([np.ones((m, 1)), X], axis=1)\n",
        "\n",
        "    for c in np.arange(num_labels):\n",
        "        initial_theta = np.zeros(n + 1)\n",
        "        options = {'maxiter': 50}\n",
        "        res = optimize.minimize(lrCostFunction,\n",
        "                                initial_theta,\n",
        "                                (X, (y == c), lambda_),\n",
        "                                jac=True,\n",
        "                                method='CG',\n",
        "                                options=options)\n",
        "\n",
        "        all_theta[c] = res.x\n",
        "\n",
        "    return all_theta"
      ],
      "metadata": {
        "id": "pGSdRrtVtk-c"
      },
      "execution_count": 20,
      "outputs": []
    },
    {
      "cell_type": "code",
      "source": [
        "lambda_ = 0.1\n",
        "all_theta = oneVsAll(X, y, num_labels, lambda_)\n",
        "print(all_theta.shape)"
      ],
      "metadata": {
        "id": "lw5NwhAMtmzL",
        "colab": {
          "base_uri": "https://localhost:8080/"
        },
        "outputId": "bb8acb77-682f-4488-c3ec-23014a50a41e"
      },
      "execution_count": 21,
      "outputs": [
        {
          "output_type": "stream",
          "name": "stdout",
          "text": [
            "(7, 13)\n"
          ]
        }
      ]
    },
    {
      "cell_type": "code",
      "source": [
        "print(all_theta)"
      ],
      "metadata": {
        "id": "0y4ydA10to78",
        "colab": {
          "base_uri": "https://localhost:8080/"
        },
        "outputId": "e9562819-be89-4913-fde0-c53759a0d8d8"
      },
      "execution_count": 22,
      "outputs": [
        {
          "output_type": "stream",
          "name": "stdout",
          "text": [
            "[[-6.25368351e+00  1.30087181e+00  9.75194062e-01 -1.02264784e-01\n",
            "   3.55759377e-01  4.15013205e-01  6.91433439e-01 -5.63565143e-01\n",
            "  -6.51260261e-01  8.34746000e-01 -2.89803651e-01 -4.83043387e-01\n",
            "   1.42953902e+00]\n",
            " [-3.96195981e+00 -3.18624780e-02  8.38770828e-01 -9.05110534e-02\n",
            "  -7.71796646e-01 -1.77474986e-02 -7.58018714e-01 -1.88137196e-01\n",
            "   6.68454296e-01 -1.39858516e-04 -8.31797150e-02 -2.76011992e-01\n",
            "   1.64660212e+00]\n",
            " [-9.32945173e-01 -1.93002938e-01  4.91460730e-01  9.14202740e-02\n",
            "  -4.49974676e-01  3.40099384e-02 -2.16494426e-01  4.26210513e-01\n",
            "   2.95511292e-01 -1.66651104e-01 -2.55597686e-01 -8.93219283e-01\n",
            "  -1.28590463e-01]\n",
            " [-2.62603138e-01 -1.79487487e-01 -4.79779943e-01 -8.74173164e-02\n",
            "  -1.39934050e-01 -5.03713078e-04  1.01383396e-01 -1.67112555e-01\n",
            "   4.68709406e-01 -8.53970083e-02 -7.87496917e-04  3.56346976e-01\n",
            "  -3.48238187e-02]\n",
            " [-2.08070501e+00  6.50140867e-01 -6.03482097e-01 -6.65094786e-02\n",
            "   9.20027197e-01 -2.92752350e-01  1.51246200e-01 -2.21946084e-01\n",
            "  -1.15932087e+00  4.15705055e-01  3.53605886e-01  4.11698376e-01\n",
            "  -3.13484131e-01]\n",
            " [-4.32471269e+00  3.53272646e-01 -2.79462930e-01  6.98624348e-02\n",
            "   9.04462810e-01 -2.95693902e-01  3.27274528e-01 -1.53775852e-01\n",
            "  -9.73616012e-01  3.31942755e-01  1.92894851e-01  6.34391732e-01\n",
            "  -7.18877305e-02]\n",
            " [-1.22022728e+01  1.71451242e+00 -6.64771724e-01  2.31907036e-01\n",
            "   1.92587741e-02 -4.10288122e+00 -4.91466608e-02  1.53544330e-02\n",
            "   5.54447489e-01  1.66070108e+00 -7.40998706e-01  1.62651502e+00\n",
            "   1.63770709e+00]]\n"
          ]
        }
      ]
    },
    {
      "cell_type": "markdown",
      "source": [
        "PREDICCION ONE VS ALL"
      ],
      "metadata": {
        "id": "cugtuXmGtqki"
      }
    },
    {
      "cell_type": "code",
      "source": [
        "def predictOneVsAll(all_theta, X):\n",
        "    \"\"\"\n",
        "    Devuelve un vector de predicciones para cada ejemplo en la matriz X.\n",
        "    Tenga en cuenta que X contiene los ejemplos en filas.\n",
        "    all_theta es una matriz donde la i-ésima fila es un vector theta de regresión logística entrenada para la i-ésima clase.\n",
        "    Debe establecer p en un vector de valores de 0..K-1 (por ejemplo, p = [0, 2, 0, 1]\n",
        "    predice clases 0, 2, 0, 1 para 4 ejemplos).\n",
        "\n",
        "    Parametros\n",
        "    ----------\n",
        "    all_theta : array_like\n",
        "        The trained parameters for logistic regression for each class.\n",
        "        This is a matrix of shape (K x n+1) where K is number of classes\n",
        "        and n is number of features without the bias.\n",
        "\n",
        "    X : array_like\n",
        "        Data points to predict their labels. This is a matrix of shape\n",
        "        (m x n) where m is number of data points to predict, and n is number\n",
        "        of features without the bias term. Note we add the bias term for X in\n",
        "        this function.\n",
        "\n",
        "    Devuelve\n",
        "    -------\n",
        "    p : array_like\n",
        "        The predictions for each data point in X. This is a vector of shape (m, ).\n",
        "    \"\"\"\n",
        "\n",
        "    m = X.shape[0];\n",
        "    num_labels = all_theta.shape[0]\n",
        "\n",
        "    p = np.zeros(m)\n",
        "\n",
        "    # Add ones to the X data matrix\n",
        "    X = np.concatenate([np.ones((m, 1)), X], axis=1)\n",
        "    p = np.argmax(sigmoid(X.dot(all_theta.T)), axis = 1)\n",
        "\n",
        "    return p"
      ],
      "metadata": {
        "id": "74AVcdV5ttdS"
      },
      "execution_count": 23,
      "outputs": []
    },
    {
      "cell_type": "markdown",
      "source": [
        "SE SELECCIONA 20% DEL DATASET PARA HACER LAS PRUEBAS DE PREDICCION"
      ],
      "metadata": {
        "id": "s1TjTfm3vp-7"
      }
    },
    {
      "cell_type": "code",
      "source": [
        "print(X.shape)\n",
        "pred = predictOneVsAll(all_theta, X)\n",
        "print('Precision del conjuto de entrenamiento: {:.2f}%'.format(np.mean(pred == y) * 100))\n",
        "XPrueba = data[25986:, 1:13].copy()\n",
        "print(XPrueba.shape)\n",
        "#print(np.ones((1)))\n",
        "#print(XPrueba)\n",
        "#p = np.zeros(1)\n",
        "XPrueba = np.concatenate([np.ones((6499, 1)), XPrueba], axis=1)\n",
        "print(XPrueba.shape)\n",
        "p = np.argmax(sigmoid(XPrueba.dot(all_theta.T)), axis = 1)\n",
        "print(p)\n",
        "\n",
        "# displayData(X[1002:1003, :])\n",
        "print(y[-50:])\n",
        "print(p[-50:])"
      ],
      "metadata": {
        "id": "bYanj_qWvsTD",
        "colab": {
          "base_uri": "https://localhost:8080/"
        },
        "outputId": "b90e9e5d-aea2-42c2-ece1-dc1d0586168f"
      },
      "execution_count": 24,
      "outputs": [
        {
          "output_type": "stream",
          "name": "stdout",
          "text": [
            "(25986, 12)\n",
            "Precision del conjuto de entrenamiento: 54.40%\n",
            "(6499, 12)\n",
            "(6499, 13)\n",
            "[2 2 6 ... 2 6 2]\n",
            "[2. 4. 4. 3. 2. 3. 4. 3. 3. 5. 4. 4. 2. 3. 3. 2. 2. 3. 3. 3. 2. 4. 2. 4.\n",
            " 3. 2. 2. 4. 3. 3. 3. 2. 2. 3. 3. 3. 4. 2. 4. 3. 5. 4. 4. 3. 2. 2. 3. 3.\n",
            " 3. 4.]\n",
            "[2 6 2 2 2 2 6 6 6 2 6 6 6 2 2 2 2 6 2 2 6 6 2 2 2 2 6 2 6 6 2 2 6 6 6 2 2\n",
            " 2 2 6 2 6 2 2 6 2 2 2 6 2]\n"
          ]
        }
      ]
    },
    {
      "cell_type": "markdown",
      "source": [
        "CLASIFICACION MULTICLASE"
      ],
      "metadata": {
        "id": "BPTjcciBLe5h"
      }
    },
    {
      "cell_type": "markdown",
      "source": [
        "SIN REGULARIZACION"
      ],
      "metadata": {
        "id": "zgETCQlKLhTo"
      }
    },
    {
      "cell_type": "code",
      "source": [
        "# utilizado para la manipulación de directorios y rutas\n",
        "import os\n",
        "\n",
        "# Cálculo científico y vectorial para python\n",
        "import numpy as np\n",
        "\n",
        "# Libreria para graficos\n",
        "from matplotlib import pyplot\n",
        "\n",
        "# Modulo de optimizacion en scipy\n",
        "from scipy import optimize\n",
        "\n",
        "# modulo para cargar archivos en formato MATLAB\n",
        "# from scipy.io import loadmat\n",
        "\n",
        "# le dice a matplotlib que incruste gráficos en el cuaderno\n",
        "%matplotlib inline"
      ],
      "metadata": {
        "id": "K6zjyTiDLmLp"
      },
      "execution_count": 25,
      "outputs": []
    },
    {
      "cell_type": "markdown",
      "source": [
        "Se inicia el ejercicio cargando primero el conjunto de datos donde se selecciona 80% de los ejemplos para el entrenamiento"
      ],
      "metadata": {
        "id": "zOD7sH10LpgZ"
      }
    },
    {
      "cell_type": "code",
      "source": [
        "# La entrada es de 14 elemento contando con x0\n",
        "input_layer_size  = 14\n",
        "\n",
        "# 10 etiquetas, de 1 a 10 (tomar en cuenta que se asigna \"0\" a la etiqueta 10)\n",
        "num_labels = 7\n",
        "\n",
        "#  datos de entrenamiento almacenados en los arreglos X, y\n",
        "# data = loadmat(os.path.join('Datasets', 'ex3data1.mat'))\n",
        "data = np.loadtxt('/content/drive/MyDrive/Dataset/WineModificado4.csv', delimiter=',')\n",
        "\n",
        "# print(data['y'])\n",
        "# print(data['y'].ravel())\n",
        "# print(data['X'])\n",
        "X = data[:25986, 1:13]\n",
        "y = data[:25986, 13]\n",
        "# X, y = data['X'], data['y'].ravel()\n",
        "# print(X)\n",
        "# print(y)\n",
        "# establecer el dígito cero en 0, en lugar del 10 asignado a este conjunto de datos\n",
        "# Esto se hace debido a que el conjunto de datos se utilizó en MATLAB donde no hay índice 0\n",
        "y[y == 3] = 0\n",
        "y[y == 4] = 1\n",
        "y[y == 5] = 2\n",
        "y[y == 6] = 3\n",
        "y[y == 7] = 4\n",
        "y[y == 8] = 5\n",
        "y[y == 9] = 6\n",
        "# print(y)\n",
        "\n",
        "m = y.size\n",
        "print(X)\n",
        "print(y)"
      ],
      "metadata": {
        "colab": {
          "base_uri": "https://localhost:8080/"
        },
        "id": "tuAHuc0_LuOi",
        "outputId": "bcaf4950-b1e2-4ecf-f9d6-83a5a9778d69"
      },
      "execution_count": 26,
      "outputs": [
        {
          "output_type": "stream",
          "name": "stdout",
          "text": [
            "[[ 7.4    0.17   0.29  ...  0.65  10.4    1.   ]\n",
            " [ 5.3    0.31   0.38  ...  0.46  11.7    1.   ]\n",
            " [ 4.7    0.145  0.29  ...  0.49  11.3    1.   ]\n",
            " ...\n",
            " [ 6.4    0.27   0.49  ...  0.43   9.2    1.   ]\n",
            " [ 8.3    0.16   0.37  ...  0.37  11.9    1.   ]\n",
            " [ 9.2    0.31   0.36  ...  0.86  12.     0.   ]]\n",
            "[3. 3. 3. ... 3. 3. 4.]\n"
          ]
        }
      ]
    },
    {
      "cell_type": "markdown",
      "source": [
        "SE CAMBIO LOS VALORES DE LAS CLASES COMO SE INDICO EN LA CLASE DE LABORATORIO PARA ADECUARLOS A LOS VALORES QUE DEVUELVE ARMAC (3 = 0 PESIMO) (4 = 1 MUY MALO) (5 = 2 MALO) (6 = 3 REGULAR) (7 = 4 BUENO) (8 = 5 MUY BUENO) (9 = 6 EXCELENTE)"
      ],
      "metadata": {
        "id": "oVmkSIWBL1Qh"
      }
    },
    {
      "cell_type": "markdown",
      "source": [
        "NORMALIZAR"
      ],
      "metadata": {
        "id": "X9MxY7ATL30J"
      }
    },
    {
      "cell_type": "code",
      "source": [
        "def  featureNormalize(X):\n",
        "    X_norm = X.copy()\n",
        "    mu = np.zeros(X.shape[1])\n",
        "    sigma = np.zeros(X.shape[1])\n",
        "\n",
        "    mu = np.mean(X, axis = 0)\n",
        "    sigma = np.std(X, axis = 0)\n",
        "    X_norm = (X - mu) / sigma\n",
        "\n",
        "    return X_norm, mu, sigma"
      ],
      "metadata": {
        "id": "yThMnLG1MIEv"
      },
      "execution_count": 27,
      "outputs": []
    },
    {
      "cell_type": "code",
      "source": [
        "# llama featureNormalize con los datos cargados\n",
        "X_norm, mu, sigma = featureNormalize(X)"
      ],
      "metadata": {
        "id": "9Dx6eJZcMLO5"
      },
      "execution_count": 28,
      "outputs": []
    },
    {
      "cell_type": "code",
      "source": [
        "# Configurar la matriz adecuadamente, y agregar una columna de unos que corresponde al termino de intercepción.\n",
        "m, n = X.shape\n",
        "# Agraga el termino de intercepción a A\n",
        "# X = np.concatenate([np.ones((m, 1)), X_norm], axis=1)\n",
        "X = X_norm\n",
        "# X = np.concatenate([np.ones((m, 1)), X], axis=1)"
      ],
      "metadata": {
        "id": "A-5_axyJMTMJ"
      },
      "execution_count": 29,
      "outputs": []
    },
    {
      "cell_type": "markdown",
      "source": [
        "FUNCION SIGMOIDE"
      ],
      "metadata": {
        "id": "z5LxGPf6MgAJ"
      }
    },
    {
      "cell_type": "code",
      "source": [
        "def sigmoid(z):\n",
        "    \"\"\"\n",
        "    Calcula la sigmoide de z.\n",
        "    \"\"\"\n",
        "    return 1.0 / (1.0 + np.exp(-z))"
      ],
      "metadata": {
        "id": "1_BWe6UwMjWS"
      },
      "execution_count": 30,
      "outputs": []
    },
    {
      "cell_type": "markdown",
      "source": [
        "VECTORIZACION DEL GRADIENTE"
      ],
      "metadata": {
        "id": "rViUjt9OMmkZ"
      }
    },
    {
      "cell_type": "code",
      "source": [
        "def lrCostFunction(theta, X, y, lambda_):\n",
        "\n",
        "#     alpha = 0.003\n",
        "#     theta = theta.copy()\n",
        "    # Inicializa algunos valores utiles\n",
        "    m = y.size\n",
        "\n",
        "    # convierte las etiquetas a valores enteros si son boleanos\n",
        "    if y.dtype == bool:\n",
        "        y = y.astype(int)\n",
        "\n",
        "    J = 0\n",
        "    grad = np.zeros(theta.shape)\n",
        "\n",
        "    h = sigmoid(X.dot(theta.T))\n",
        "\n",
        "    temp = theta\n",
        "    temp[0] = 0\n",
        "\n",
        "    J = (1 / m) * np.sum(-y.dot(np.log(h)) - (1 - y).dot(np.log(1 - h)))\n",
        "    # J = (1 / m) * np.sum(-y.dot(np.log(h)) - (1 - y).dot(np.log(1 - h))) + (lambda_ / (2 * m)) * np.sum(np.square(temp))\n",
        "\n",
        "    grad = (1 / m) * (h - y).dot(X)\n",
        "#     theta = theta - (alpha / m) * (h - y).dot(X)\n",
        "    # grad = grad + (lambda_ / m) * temp\n",
        "\n",
        "    return J, grad\n",
        "#    return J, theta"
      ],
      "metadata": {
        "id": "r2KNgx1jMqs5"
      },
      "execution_count": 31,
      "outputs": []
    },
    {
      "cell_type": "markdown",
      "source": [
        "GRAFICO DE FUNCION COSTO"
      ],
      "metadata": {
        "id": "u05AbT9CUQ75"
      }
    },
    {
      "cell_type": "code",
      "source": [
        "# Elegir algun valor para alpha (probar varias alternativas)\n",
        "alpha = 0.001\n",
        "num_iters = 33000\n",
        "\n",
        "# inicializa theta y ejecuta el descenso por el gradiente\n",
        "theta = np.zeros(12)\n",
        "theta, J_history = lrCostFunction(theta, X, y, num_iters)\n",
        "\n",
        "# Grafica la convergencia del costo\n",
        "pyplot.plot(np.arange(len(J_history)), J_history, lw=2)\n",
        "pyplot.xlabel('Numero de iteraciones')\n",
        "pyplot.ylabel('Costo J')\n",
        "\n",
        "# Muestra los resultados del descenso por el gradiente\n",
        "print('theta calculado por el descenso por el gradiente: {:s}'.format(str(theta)))"
      ],
      "metadata": {
        "colab": {
          "base_uri": "https://localhost:8080/",
          "height": 466
        },
        "id": "T_16SV4PUVIa",
        "outputId": "4c84a706-66ef-4d32-8ca7-4ecd228ddcba"
      },
      "execution_count": 32,
      "outputs": [
        {
          "output_type": "stream",
          "name": "stdout",
          "text": [
            "theta calculado por el descenso por el gradiente: 0.6931471805599537\n"
          ]
        },
        {
          "output_type": "display_data",
          "data": {
            "text/plain": [
              "<Figure size 640x480 with 1 Axes>"
            ],
            "image/png": "[encoded data removed]"
          },
          "metadata": {}
        }
      ]
    },
    {
      "cell_type": "markdown",
      "source": [
        "CLASIFICACION ONE VS ALL"
      ],
      "metadata": {
        "id": "ZzwR-hUwUY3y"
      }
    },
    {
      "cell_type": "code",
      "source": [
        "def oneVsAll(X, y, num_labels, lambda_):\n",
        "    \"\"\"\n",
        "    Trains num_labels logistic regression classifiers and returns\n",
        "    each of these classifiers in a matrix all_theta, where the i-th\n",
        "    row of all_theta corresponds to the classifier for label i.\n",
        "\n",
        "    Parameters\n",
        "    ----------\n",
        "    X : array_like\n",
        "        The input dataset of shape (m x n). m is the number of\n",
        "        data points, and n is the number of features. Note that we\n",
        "        do not assume that the intercept term (or bias) is in X, however\n",
        "        we provide the code below to add the bias term to X.\n",
        "\n",
        "    y : array_like\n",
        "        The data labels. A vector of shape (m, ).\n",
        "\n",
        "    num_labels : int\n",
        "        Number of possible labels.\n",
        "\n",
        "    lambda_ : float\n",
        "        The logistic regularization parameter.\n",
        "\n",
        "    Returns\n",
        "    -------\n",
        "    all_theta : array_like\n",
        "        The trained parameters for logistic regression for each class.\n",
        "        This is a matrix of shape (K x n+1) where K is number of classes\n",
        "        (ie. `numlabels`) and n is number of features without the bias.\n",
        "    \"\"\"\n",
        "    # algunas variables utiles\n",
        "    m, n = X.shape\n",
        "\n",
        "    all_theta = np.zeros((num_labels, n + 1))\n",
        "\n",
        "    # Agrega unos a la matriz X\n",
        "    X = np.concatenate([np.ones((m, 1)), X], axis=1)\n",
        "\n",
        "    for c in np.arange(num_labels):\n",
        "        initial_theta = np.zeros(n + 1)\n",
        "        options = {'maxiter': 50}\n",
        "        res = optimize.minimize(lrCostFunction,\n",
        "                                initial_theta,\n",
        "                                (X, (y == c), lambda_),\n",
        "                                jac=True,\n",
        "                                method='CG',\n",
        "                                options=options)\n",
        "\n",
        "        all_theta[c] = res.x\n",
        "\n",
        "    return all_theta"
      ],
      "metadata": {
        "id": "L1-o2SOXUdSp"
      },
      "execution_count": 33,
      "outputs": []
    },
    {
      "cell_type": "code",
      "source": [
        "lambda_ = 0.1\n",
        "all_theta = oneVsAll(X, y, num_labels, lambda_)\n",
        "print(all_theta.shape)"
      ],
      "metadata": {
        "colab": {
          "base_uri": "https://localhost:8080/"
        },
        "id": "rRcyiqjdUhPB",
        "outputId": "3b835d45-201a-4e5a-a7b4-cbaf8e158585"
      },
      "execution_count": 34,
      "outputs": [
        {
          "output_type": "stream",
          "name": "stdout",
          "text": [
            "(7, 13)\n"
          ]
        }
      ]
    },
    {
      "cell_type": "code",
      "source": [
        "print(all_theta)"
      ],
      "metadata": {
        "colab": {
          "base_uri": "https://localhost:8080/"
        },
        "id": "3Pxs8hkZUl6Y",
        "outputId": "c19859e0-89d3-41b8-8b43-4f0a1a82c3c7"
      },
      "execution_count": 35,
      "outputs": [
        {
          "output_type": "stream",
          "name": "stdout",
          "text": [
            "[[-6.25379401e+00  1.31125070e+00  9.74728331e-01 -1.01066909e-01\n",
            "   3.73652936e-01  4.14927954e-01  6.92515187e-01 -5.61926841e-01\n",
            "  -6.83118127e-01  8.40036508e-01 -2.89546715e-01 -4.98814485e-01\n",
            "   1.41508003e+00]\n",
            " [-3.96235326e+00 -3.32231166e-02  8.38742944e-01 -9.00755809e-02\n",
            "  -7.73137723e-01 -1.84745517e-02 -7.58345395e-01 -1.88599815e-01\n",
            "   6.70166486e-01 -8.14505884e-04 -8.27028387e-02 -2.75346219e-01\n",
            "   1.64668366e+00]\n",
            " [-9.32921595e-01 -1.93050416e-01  4.91458994e-01  9.14320456e-02\n",
            "  -4.50041197e-01  3.40048583e-02 -2.16541641e-01  4.26278351e-01\n",
            "   2.95536308e-01 -1.66677544e-01 -2.55623521e-01 -8.93255967e-01\n",
            "  -1.28653737e-01]\n",
            " [-2.62605053e-01 -1.79615611e-01 -4.79813425e-01 -8.74285205e-02\n",
            "  -1.40134164e-01 -5.10639972e-04  1.01400138e-01 -1.67138552e-01\n",
            "   4.69048382e-01 -8.54716095e-02 -8.09755302e-04  3.56499110e-01\n",
            "  -3.47364057e-02]\n",
            " [-2.08076804e+00  6.51001966e-01 -6.03581004e-01 -6.65374245e-02\n",
            "   9.21503478e-01 -2.92533548e-01  1.51110654e-01 -2.21596855e-01\n",
            "  -1.16159421e+00  4.16008600e-01  3.53716464e-01  4.10860077e-01\n",
            "  -3.14336965e-01]\n",
            " [-4.32492865e+00  3.57931098e-01 -2.79199961e-01  6.88599859e-02\n",
            "   9.12228227e-01 -2.91158418e-01  3.27046016e-01 -1.54749924e-01\n",
            "  -9.85255751e-01  3.33928602e-01  1.93218058e-01  6.29121984e-01\n",
            "  -7.24349119e-02]\n",
            " [-1.29632140e+01  1.78956348e+00 -6.95867208e-01  2.16710644e-01\n",
            "  -5.84314932e-02 -4.82950725e+00 -2.31107729e-02  3.96525652e-02\n",
            "   7.05818133e-01  1.76355832e+00 -7.99712956e-01  1.73521105e+00\n",
            "   1.84786478e+00]]\n"
          ]
        }
      ]
    },
    {
      "cell_type": "markdown",
      "source": [
        "PREDICCION ONE VS ALL"
      ],
      "metadata": {
        "id": "Wf4JRMWSUrID"
      }
    },
    {
      "cell_type": "code",
      "source": [
        "def predictOneVsAll(all_theta, X):\n",
        "    \"\"\"\n",
        "    Devuelve un vector de predicciones para cada ejemplo en la matriz X.\n",
        "    Tenga en cuenta que X contiene los ejemplos en filas.\n",
        "    all_theta es una matriz donde la i-ésima fila es un vector theta de regresión logística entrenada para la i-ésima clase.\n",
        "    Debe establecer p en un vector de valores de 0..K-1 (por ejemplo, p = [0, 2, 0, 1]\n",
        "    predice clases 0, 2, 0, 1 para 4 ejemplos).\n",
        "\n",
        "    Parametros\n",
        "    ----------\n",
        "    all_theta : array_like\n",
        "        The trained parameters for logistic regression for each class.\n",
        "        This is a matrix of shape (K x n+1) where K is number of classes\n",
        "        and n is number of features without the bias.\n",
        "\n",
        "    X : array_like\n",
        "        Data points to predict their labels. This is a matrix of shape\n",
        "        (m x n) where m is number of data points to predict, and n is number\n",
        "        of features without the bias term. Note we add the bias term for X in\n",
        "        this function.\n",
        "\n",
        "    Devuelve\n",
        "    -------\n",
        "    p : array_like\n",
        "        The predictions for each data point in X. This is a vector of shape (m, ).\n",
        "    \"\"\"\n",
        "\n",
        "    m = X.shape[0];\n",
        "    num_labels = all_theta.shape[0]\n",
        "\n",
        "    p = np.zeros(m)\n",
        "\n",
        "    # Add ones to the X data matrix\n",
        "    X = np.concatenate([np.ones((m, 1)), X], axis=1)\n",
        "    p = np.argmax(sigmoid(X.dot(all_theta.T)), axis = 1)\n",
        "\n",
        "    return p"
      ],
      "metadata": {
        "id": "CsLeFP43Uu_R"
      },
      "execution_count": 36,
      "outputs": []
    },
    {
      "cell_type": "markdown",
      "source": [
        "SE SELECCIONA 20% DEL DATASET PARA HACER LAS PRUEBAS DE PREDICCION"
      ],
      "metadata": {
        "id": "RE6W8W_1VpF4"
      }
    },
    {
      "cell_type": "code",
      "source": [
        "print(X.shape)\n",
        "pred = predictOneVsAll(all_theta, X)\n",
        "print('Precision del conjuto de entrenamiento: {:.2f}%'.format(np.mean(pred == y) * 100))\n",
        "XPrueba = data[25986:, 1:13].copy()\n",
        "print(XPrueba.shape)\n",
        "#print(np.ones((1)))\n",
        "#print(XPrueba)\n",
        "#p = np.zeros(1)\n",
        "XPrueba = np.concatenate([np.ones((6499, 1)), XPrueba], axis=1)\n",
        "print(XPrueba.shape)\n",
        "p = np.argmax(sigmoid(XPrueba.dot(all_theta.T)), axis = 1)\n",
        "print(p)\n",
        "\n",
        "# displayData(X[1002:1003, :])\n",
        "print(y[-50:])\n",
        "print(p[-50:])"
      ],
      "metadata": {
        "colab": {
          "base_uri": "https://localhost:8080/"
        },
        "id": "0wIMQ2zEWZKh",
        "outputId": "1767c9cf-2a9b-490d-8b65-66a4482167c3"
      },
      "execution_count": 37,
      "outputs": [
        {
          "output_type": "stream",
          "name": "stdout",
          "text": [
            "(25986, 12)\n",
            "Precision del conjuto de entrenamiento: 54.40%\n",
            "(6499, 12)\n",
            "(6499, 13)\n",
            "[2 2 6 ... 2 6 2]\n",
            "[2. 4. 4. 3. 2. 3. 4. 3. 3. 5. 4. 4. 2. 3. 3. 2. 2. 3. 3. 3. 2. 4. 2. 4.\n",
            " 3. 2. 2. 4. 3. 3. 3. 2. 2. 3. 3. 3. 4. 2. 4. 3. 5. 4. 4. 3. 2. 2. 3. 3.\n",
            " 3. 4.]\n",
            "[2 6 2 2 2 2 6 6 6 2 6 6 6 2 2 2 6 6 2 2 6 6 2 2 2 6 6 2 6 6 6 2 6 6 6 2 2\n",
            " 2 2 6 2 6 2 2 6 2 2 2 6 2]\n"
          ]
        }
      ]
    },
    {
      "cell_type": "markdown",
      "source": [
        "No se observa ningun cambio en ambos ejercicios de clasificacion multiclase, los resultados de la prediccion se mantienen igual con o sin regularizacion"
      ],
      "metadata": {
        "id": "gNeHkzXxKwGm"
      }
    },
    {
      "cell_type": "markdown",
      "source": [
        "MODELO DE REGRESION LOGISTICA (CLASIFICACION)"
      ],
      "metadata": {
        "id": "tEiGT4NLfOlY"
      }
    },
    {
      "cell_type": "markdown",
      "source": [
        "SIN REGULARIZACION"
      ],
      "metadata": {
        "id": "vSxg3A9Kkz94"
      }
    },
    {
      "cell_type": "markdown",
      "source": [
        "AQUI ESTAN LOS PRIMEROS PASOS, IMPORTACION DE LIBRERIAS PARA REALIZAR LO QUE TENEMOS QUE HACER"
      ],
      "metadata": {
        "id": "jpiQODJyfrSQ"
      }
    },
    {
      "cell_type": "code",
      "source": [
        "# se utiliza para el manejo de rutas y directorios.\n",
        "import os\n",
        "\n",
        "# Calculo cientifico y vectorial para python\n",
        "import numpy as np\n",
        "\n",
        "# Librerias para graficar\n",
        "from matplotlib import pyplot\n",
        "\n",
        "# Modulo de optimización de scipy\n",
        "from scipy import optimize\n",
        "\n",
        "# le dice a matplotlib que incruste gráficos en el cuaderno\n",
        "%matplotlib inline"
      ],
      "metadata": {
        "id": "sido-LWXftoI"
      },
      "execution_count": null,
      "outputs": []
    },
    {
      "cell_type": "markdown",
      "source": [
        "AQUI ES DONDE CARGAMOS LOS DATOS DEL DATASET QUE TENEMOS, EN ESTE CASO ES UN DATASET QUE EN BASE A LAS X PODEMOS DETERMINAR SI UNA PERSONA ES FUMADORA O NO"
      ],
      "metadata": {
        "id": "p0afv3U8fwZg"
      }
    },
    {
      "cell_type": "code",
      "source": [
        "# Cargar datos\n",
        "# Las dos primeras columnas contienen la nota de dos examenes y la tercera columna\n",
        "# contiene la etiqueta que indica si el alumno ingreso o no a la universidad.\n",
        "data = np.loadtxt('/content/drive/MyDrive/Dataset/train_dataset modificado.csv', delimiter=',')\n",
        "# X, y = data[:, 0:8], data[:, 8]\n",
        "X_train, y_train = data[:31187,:21], data[:31187, 22]\n",
        "X_test, y_test = data[31187:,:21], data[31187:, 22]\n",
        "X = X_train\n",
        "y = y_train\n",
        "print(X)"
      ],
      "metadata": {
        "colab": {
          "base_uri": "https://localhost:8080/"
        },
        "id": "pnby1oBBgzYg",
        "outputId": "2a69e021-0601-45a9-9481-b49231503146"
      },
      "execution_count": null,
      "outputs": [
        {
          "output_type": "stream",
          "name": "stdout",
          "text": [
            "[[  35.  170.   85. ...   61.  115.  125.]\n",
            " [  20.  175.  110. ...   19.   25.   30.]\n",
            " [  45.  155.   65. ... 1090. 1400.  276.]\n",
            " ...\n",
            " [  25.  170.   65. ...   21.   14.   15.]\n",
            " [  50.  170.   70. ...   49.   54.  283.]\n",
            " [  40.  160.   45. ...   16.    9.   17.]]\n"
          ]
        }
      ]
    },
    {
      "cell_type": "markdown",
      "source": [
        "FUNCION SIGMOIDEA"
      ],
      "metadata": {
        "id": "H0CklNOZg1yj"
      }
    },
    {
      "cell_type": "code",
      "source": [
        "def sigmoid(z):\n",
        "    # Calcula la sigmoide de una entrada z\n",
        "    # convierte la intrada a un arreglo numpy\n",
        "    z = np.array(z)\n",
        "\n",
        "    g = np.zeros(z.shape)\n",
        "\n",
        "    g = 1 / (1 + np.exp(-z))\n",
        "\n",
        "    return g"
      ],
      "metadata": {
        "id": "Uvbr6BJpg3PZ"
      },
      "execution_count": null,
      "outputs": []
    },
    {
      "cell_type": "markdown",
      "source": [
        "NORMALIZADO"
      ],
      "metadata": {
        "id": "tArk4Z0Hg444"
      }
    },
    {
      "cell_type": "code",
      "source": [
        "def  featureNormalize(X):\n",
        "    X_norm = X.copy()\n",
        "    mu = np.zeros(X.shape[1])\n",
        "    sigma = np.zeros(X.shape[1])\n",
        "\n",
        "    mu = np.mean(X, axis = 0)\n",
        "    sigma = np.std(X, axis = 0)\n",
        "    X_norm = (X - mu) / sigma\n",
        "\n",
        "    return X_norm, mu, sigma"
      ],
      "metadata": {
        "id": "VpUaPGgAg6iY"
      },
      "execution_count": null,
      "outputs": []
    },
    {
      "cell_type": "code",
      "source": [
        "# llama featureNormalize con los datos cargados\n",
        "X_norm, mu, sigma = featureNormalize(X)"
      ],
      "metadata": {
        "id": "KCmAKfnig8JR"
      },
      "execution_count": null,
      "outputs": []
    },
    {
      "cell_type": "markdown",
      "source": [
        "Se implementa la funcion cost y gradient, para la regresión logistica. Antes de continuar es importante agregar el termino de intercepcion a X."
      ],
      "metadata": {
        "id": "MjD_oMa6g_-H"
      }
    },
    {
      "cell_type": "code",
      "source": [
        "# Configurar la matriz adecuadamente, y agregar una columna de unos que corresponde al termino de intercepción.\n",
        "m, n = X.shape\n",
        "# Agraga el termino de intercepción a A\n",
        "X = np.concatenate([np.ones((m, 1)), X_norm], axis=1)\n",
        "# X = np.concatenate([np.ones((m, 1)), X], axis=1)"
      ],
      "metadata": {
        "id": "n7aefo07hBw_"
      },
      "execution_count": null,
      "outputs": []
    },
    {
      "cell_type": "code",
      "source": [
        "def calcularCosto(theta, X, y):\n",
        "    # Inicializar algunos valores utiles\n",
        "    m = y.size  # numero de ejemplos de entrenamiento\n",
        "\n",
        "    J = 0\n",
        "    h = sigmoid(X.dot(theta.T))\n",
        "    J = (1 / m) * np.sum(-y.dot(np.log(h)) - (1 - y).dot(np.log(1 - h)))\n",
        "\n",
        "    return J"
      ],
      "metadata": {
        "id": "NcOEqhY8hDOo"
      },
      "execution_count": null,
      "outputs": []
    },
    {
      "cell_type": "code",
      "source": [
        "def descensoGradiente(theta, X, y, alpha, num_iters):\n",
        "    # Inicializa algunos valores\n",
        "    m = y.shape[0] # numero de ejemplos de entrenamiento\n",
        "\n",
        "    # realiza una copia de theta, el cual será acutalizada por el descenso por el gradiente\n",
        "    theta = theta.copy()\n",
        "    J_history = []\n",
        "\n",
        "    for i in range(num_iters):\n",
        "        h = sigmoid(X.dot(theta.T))\n",
        "        theta = theta - (alpha / m) * (h - y).dot(X)\n",
        "\n",
        "        J_history.append(calcularCosto(theta, X, y))\n",
        "    return theta, J_history"
      ],
      "metadata": {
        "id": "3N8CYfyIhFHv"
      },
      "execution_count": null,
      "outputs": []
    },
    {
      "cell_type": "code",
      "source": [
        "# Elegir algun valor para alpha (probar varias alternativas)\n",
        "alpha = 0.001\n",
        "num_iters = 32000\n",
        "\n",
        "# inicializa theta y ejecuta el descenso por el gradiente\n",
        "theta = np.zeros(22)\n",
        "theta, J_history = descensoGradiente(theta, X, y, alpha, num_iters)\n",
        "\n",
        "# Grafica la convergencia del costo\n",
        "pyplot.plot(np.arange(len(J_history)), J_history, lw=2)\n",
        "pyplot.xlabel('Numero de iteraciones')\n",
        "pyplot.ylabel('Costo J')\n",
        "\n",
        "# Muestra los resultados del descenso por el gradiente\n",
        "print('theta calculado por el descenso por el gradiente: {:s}'.format(str(theta)))"
      ],
      "metadata": {
        "colab": {
          "base_uri": "https://localhost:8080/",
          "height": 520
        },
        "id": "y5dF80XlhHif",
        "outputId": "64a861ab-7cd1-49d1-cae4-e292517179c9"
      },
      "execution_count": null,
      "outputs": [
        {
          "output_type": "stream",
          "name": "stdout",
          "text": [
            "theta calculado por el descenso por el gradiente: [-0.75253822  0.00598241  0.62519633 -0.09148203 -0.02864014  0.00980802\n",
            "  0.00609798 -0.00872054  0.02722901 -0.11370938  0.0280596   0.10353086\n",
            " -0.10677103  0.28947279 -0.06890256 -0.07088165  0.66183901 -0.02832456\n",
            "  0.07085881 -0.03393922 -0.15150132  0.46129613]\n"
          ]
        },
        {
          "output_type": "display_data",
          "data": {
            "text/plain": [
              "<Figure size 640x480 with 1 Axes>"
            ],
            "image/png": "[encoded data removed]"
          },
          "metadata": {}
        }
      ]
    },
    {
      "cell_type": "code",
      "source": [
        "# verificar si ingresa o no a la universidad\n",
        "# X_array = [1, 1, 80, 66, 28, 0, 33.4, 0.675, 46]\n",
        "X_norm, mu, sigma = featureNormalize(X_test)\n",
        "m, n = X_norm.shape\n",
        "X_test_norm = np.concatenate([np.ones((m, 1)), X_norm], axis=1)\n",
        "aprueba = sigmoid(np.dot(X_test_norm, theta))   # Se debe cambiar esto\n",
        "predicciones_binarias = np.round(aprueba).astype(int)\n",
        "print(predicciones_binarias)\n",
        "# Imprime los primeros 10 resultados\n",
        "print(\"Primeros 20 resultados:\", predicciones_binarias[:20])\n",
        "\n",
        "# Imprime los últimos 10 resultados\n",
        "print(\"Últimos 20 resultados:\", predicciones_binarias[-20:])\n",
        "#print('Una persona con los siguientes datos [1, 1, 80, 66, 28, 0, 33.4, 0.675, 46] tiene como probabilida de ser diabetico:{:.0f}'.format(aprueba))"
      ],
      "metadata": {
        "colab": {
          "base_uri": "https://localhost:8080/"
        },
        "id": "qZ7mCC3-jSNI",
        "outputId": "7afa9111-f871-4b6a-b516-cdc34738bb87"
      },
      "execution_count": null,
      "outputs": [
        {
          "output_type": "stream",
          "name": "stdout",
          "text": [
            "[1 0 1 ... 1 0 0]\n",
            "Primeros 20 resultados: [1 0 1 0 0 1 0 1 0 1 1 1 0 0 0 1 0 0 1 0]\n",
            "Últimos 20 resultados: [0 0 0 1 0 0 0 0 0 0 0 1 0 0 0 0 0 1 0 0]\n"
          ]
        }
      ]
    },
    {
      "cell_type": "markdown",
      "source": [
        "COMPARACION CON DATOS DE PRUEBA"
      ],
      "metadata": {
        "id": "xR16oVTljUeY"
      }
    },
    {
      "cell_type": "code",
      "source": [
        "# Imprime los primeros 10 resultados\n",
        "print(\"Primeros 20 resultados:\", y_test[:20])\n",
        "\n",
        "# Imprime los últimos 10 resultados\n",
        "print(\"Últimos 20 resultados:\", y_test[-20:])"
      ],
      "metadata": {
        "colab": {
          "base_uri": "https://localhost:8080/"
        },
        "id": "Ud5f9gMkjW3f",
        "outputId": "37bd9fd0-381d-45c6-fe05-9002ff681bed"
      },
      "execution_count": null,
      "outputs": [
        {
          "output_type": "stream",
          "name": "stdout",
          "text": [
            "Primeros 20 resultados: [0. 1. 1. 0. 1. 1. 1. 1. 0. 0. 1. 1. 0. 0. 0. 1. 0. 0. 1. 0.]\n",
            "Últimos 20 resultados: [0. 0. 0. 1. 0. 0. 0. 1. 1. 1. 1. 1. 0. 0. 1. 0. 0. 1. 1. 1.]\n"
          ]
        }
      ]
    },
    {
      "cell_type": "markdown",
      "source": [
        "Prueba con valor de X donde se sabe que la Y deberia ser 0 pero no hay el resultado esperado"
      ],
      "metadata": {
        "id": "rCQVVcNGjZAo"
      }
    },
    {
      "cell_type": "code",
      "source": [
        "X_array = [45,155,55,75.0,1.5,1.2,1,1,126,72,91,227,100,76,131,12.5,2,0.6,23,11,12,0]\n",
        "predict = sigmoid(np.dot(X_array, theta))\n",
        "print('Una persona con los siguientes datos [45,155,55,75.0,1.5,1.2,1,1,126,72,91,227,100,76,131,12.5,2,0.6,23,11,12,0] tiene como probabilida de ser fumador:{:.0f}'.format(predict))"
      ],
      "metadata": {
        "colab": {
          "base_uri": "https://localhost:8080/"
        },
        "id": "jUC5VTlVjg8f",
        "outputId": "21465097-8a06-4071-ef55-8a4bd1132291"
      },
      "execution_count": null,
      "outputs": [
        {
          "output_type": "stream",
          "name": "stdout",
          "text": [
            "Una persona con los siguientes datos [45,155,55,75.0,1.5,1.2,1,1,126,72,91,227,100,76,131,12.5,2,0.6,23,11,12,0] tiene como probabilida de ser fumador:1\n"
          ]
        }
      ]
    },
    {
      "cell_type": "markdown",
      "source": [
        "MODELO DE REGRESION LOGISTICA (CLASIFICACION)"
      ],
      "metadata": {
        "id": "FdRfi_Z3oaOJ"
      }
    },
    {
      "cell_type": "markdown",
      "source": [
        "CON REGULARIZACION"
      ],
      "metadata": {
        "id": "NXl643qHodQI"
      }
    },
    {
      "cell_type": "markdown",
      "source": [
        "AQUI ESTAN LOS PRIMEROS PASOS, IMPORTACION DE LIBRERIAS PARA REALIZAR LO QUE TENEMOS QUE HACER"
      ],
      "metadata": {
        "id": "9glSyv14oi7B"
      }
    },
    {
      "cell_type": "code",
      "source": [
        "# se utiliza para el manejo de rutas y directorios.\n",
        "import os\n",
        "\n",
        "# Calculo cientifico y vectorial para python\n",
        "import numpy as np\n",
        "\n",
        "# Librerias para graficar\n",
        "from matplotlib import pyplot\n",
        "\n",
        "# Modulo de optimización de scipy\n",
        "from scipy import optimize\n",
        "\n",
        "# le dice a matplotlib que incruste gráficos en el cuaderno\n",
        "%matplotlib inline"
      ],
      "metadata": {
        "id": "V51Ny2uMomP4"
      },
      "execution_count": null,
      "outputs": []
    },
    {
      "cell_type": "markdown",
      "source": [
        "AQUI ES DONDE CARGAMOS LOS DATOS DEL DATASET QUE TENEMOS, EN ESTE CASO ES UN DATASET QUE EN BASE A LAS X PODEMOS DETERMINAR SI UNA PERSONA ES FUMADORA O NO"
      ],
      "metadata": {
        "id": "ZZVVrxRoopRW"
      }
    },
    {
      "cell_type": "code",
      "source": [
        "# Cargar datos\n",
        "# Las dos primeras columnas contienen la nota de dos examenes y la tercera columna\n",
        "# contiene la etiqueta que indica si el alumno ingreso o no a la universidad.\n",
        "data = np.loadtxt('/content/drive/MyDrive/Dataset/train_dataset modificado.csv', delimiter=',')\n",
        "# X, y = data[:, 0:8], data[:, 8]\n",
        "X_train, y_train = data[:31187,:21], data[:31187, 22]\n",
        "X_test, y_test = data[31187:,:21], data[31187:, 22]\n",
        "X = X_train\n",
        "y = y_train\n",
        "print(X)"
      ],
      "metadata": {
        "colab": {
          "base_uri": "https://localhost:8080/"
        },
        "id": "ghtwvlvTosWX",
        "outputId": "2555d25f-3764-48f9-9ec0-eadd2f1128c7"
      },
      "execution_count": null,
      "outputs": [
        {
          "output_type": "stream",
          "name": "stdout",
          "text": [
            "[[  35.  170.   85. ...   61.  115.  125.]\n",
            " [  20.  175.  110. ...   19.   25.   30.]\n",
            " [  45.  155.   65. ... 1090. 1400.  276.]\n",
            " ...\n",
            " [  25.  170.   65. ...   21.   14.   15.]\n",
            " [  50.  170.   70. ...   49.   54.  283.]\n",
            " [  40.  160.   45. ...   16.    9.   17.]]\n"
          ]
        }
      ]
    },
    {
      "cell_type": "markdown",
      "source": [
        "FUNCION SIGMOIDEA"
      ],
      "metadata": {
        "id": "C3o-Vvg4ov1e"
      }
    },
    {
      "cell_type": "code",
      "source": [
        "def sigmoid(z):\n",
        "    # Calcula la sigmoide de una entrada z\n",
        "    # convierte la intrada a un arreglo numpy\n",
        "    z = np.array(z)\n",
        "\n",
        "    g = np.zeros(z.shape)\n",
        "\n",
        "    g = 1 / (1 + np.exp(-z))\n",
        "\n",
        "    return g"
      ],
      "metadata": {
        "id": "BgiHv_zJoyXG"
      },
      "execution_count": null,
      "outputs": []
    },
    {
      "cell_type": "markdown",
      "source": [
        "NORMALIZADO"
      ],
      "metadata": {
        "id": "Hqd9tTimo1sG"
      }
    },
    {
      "cell_type": "code",
      "source": [
        "def  featureNormalize(X):\n",
        "    X_norm = X.copy()\n",
        "    mu = np.zeros(X.shape[1])\n",
        "    sigma = np.zeros(X.shape[1])\n",
        "\n",
        "    mu = np.mean(X, axis = 0)\n",
        "    sigma = np.std(X, axis = 0)\n",
        "    X_norm = (X - mu) / sigma\n",
        "\n",
        "    return X_norm, mu, sigma"
      ],
      "metadata": {
        "id": "PLnHcQdto5B3"
      },
      "execution_count": null,
      "outputs": []
    },
    {
      "cell_type": "code",
      "source": [
        "# llama featureNormalize con los datos cargados\n",
        "X_norm, mu, sigma = featureNormalize(X)"
      ],
      "metadata": {
        "id": "Y-jpdNgKpDIQ"
      },
      "execution_count": null,
      "outputs": []
    },
    {
      "cell_type": "markdown",
      "source": [
        "Se implementa la funcion cost y gradient, para la regresión logistica. Antes de continuar es importante agregar el termino de intercepcion a X."
      ],
      "metadata": {
        "id": "8HyD8Wo9pgtQ"
      }
    },
    {
      "cell_type": "code",
      "source": [
        "# Configurar la matriz adecuadamente, y agregar una columna de unos que corresponde al termino de intercepción.\n",
        "m, n = X.shape\n",
        "# Agraga el termino de intercepción a A\n",
        "X = np.concatenate([np.ones((m, 1)), X_norm], axis=1)\n",
        "# X = np.concatenate([np.ones((m, 1)), X], axis=1)"
      ],
      "metadata": {
        "id": "GHRebdeQpj14"
      },
      "execution_count": null,
      "outputs": []
    },
    {
      "cell_type": "code",
      "source": [
        "def calcularCosto(theta, X, y, lambda_):\n",
        "    # Inicializar algunos valores utiles\n",
        "    m = y.size  # numero de ejemplos de entrenamiento\n",
        "\n",
        "    J = 0\n",
        "    h = sigmoid(X.dot(theta.T))\n",
        "    temp = theta\n",
        "    temp[0] = 0\n",
        "    J = (1 / m) * np.sum(-y.dot(np.log(h)) - (1 - y).dot(np.log(1 - h))) + (lambda_ / (2 * m)) * np.sum(np.square(temp))\n",
        "\n",
        "    return J"
      ],
      "metadata": {
        "id": "mcBpipVgponP"
      },
      "execution_count": null,
      "outputs": []
    },
    {
      "cell_type": "code",
      "source": [
        "def descensoGradiente(theta, X, y, alpha, num_iters):\n",
        "    # Inicializa algunos valores\n",
        "    m = y.shape[0] # numero de ejemplos de entrenamiento\n",
        "\n",
        "    # realiza una copia de theta, el cual será acutalizada por el descenso por el gradiente\n",
        "    theta = theta.copy()\n",
        "    J_history = []\n",
        "\n",
        "    for i in range(num_iters):\n",
        "        h = sigmoid(X.dot(theta.T))\n",
        "        theta = theta - (alpha / m) * (h - y).dot(X)\n",
        "\n",
        "        J_history.append(calcularCosto(theta, X, y, lambda_))\n",
        "    return theta, J_history"
      ],
      "metadata": {
        "id": "ynN1r_eQprwX"
      },
      "execution_count": null,
      "outputs": []
    },
    {
      "cell_type": "code",
      "source": [
        "# Elegir algun valor para alpha (probar varias alternativas)\n",
        "alpha = 0.001\n",
        "num_iters = 32000\n",
        "\n",
        "# inicializa theta y ejecuta el descenso por el gradiente\n",
        "theta = np.zeros(22)\n",
        "theta, J_history = descensoGradiente(theta, X, y, alpha, num_iters)\n",
        "\n",
        "# Grafica la convergencia del costo\n",
        "pyplot.plot(np.arange(len(J_history)), J_history, lw=2)\n",
        "pyplot.xlabel('Numero de iteraciones')\n",
        "pyplot.ylabel('Costo J')\n",
        "\n",
        "# Muestra los resultados del descenso por el gradiente\n",
        "print('theta calculado por el descenso por el gradiente: {:s}'.format(str(theta)))"
      ],
      "metadata": {
        "colab": {
          "base_uri": "https://localhost:8080/",
          "height": 518
        },
        "id": "DfK6Tkh9pvZn",
        "outputId": "294e939e-97b8-4b62-a45d-45ab5ae58d75"
      },
      "execution_count": null,
      "outputs": [
        {
          "output_type": "stream",
          "name": "stdout",
          "text": [
            "theta calculado por el descenso por el gradiente: [ 0.         -0.00159669  0.54661494 -0.0881968  -0.03583951  0.00593195\n",
            "  0.00126075 -0.00853866  0.02101967 -0.10917488  0.02955707  0.097981\n",
            " -0.0989072   0.29386519 -0.04652597 -0.05767039  0.53774799 -0.02164566\n",
            "  0.04247607 -0.02693092 -0.1452062   0.5367718 ]\n"
          ]
        },
        {
          "output_type": "display_data",
          "data": {
            "text/plain": [
              "<Figure size 640x480 with 1 Axes>"
            ],
            "image/png": "[encoded data removed]"
          },
          "metadata": {}
        }
      ]
    },
    {
      "cell_type": "code",
      "source": [
        "# verificar si ingresa o no a la universidad\n",
        "# X_array = [1, 1, 80, 66, 28, 0, 33.4, 0.675, 46]\n",
        "X_norm, mu, sigma = featureNormalize(X_test)\n",
        "m, n = X_norm.shape\n",
        "X_test_norm = np.concatenate([np.ones((m, 1)), X_norm], axis=1)\n",
        "aprueba = sigmoid(np.dot(X_test_norm, theta))   # Se debe cambiar esto\n",
        "predicciones_binarias = np.round(aprueba).astype(int)\n",
        "print(predicciones_binarias)\n",
        "# Imprime los primeros 10 resultados\n",
        "print(\"Primeros 20 resultados:\", predicciones_binarias[:20])\n",
        "\n",
        "# Imprime los últimos 10 resultados\n",
        "print(\"Últimos 20 resultados:\", predicciones_binarias[-20:])\n",
        "#print('Una persona con los siguientes datos [1, 1, 80, 66, 28, 0, 33.4, 0.675, 46] tiene como probabilida de ser diabetico:{:.0f}'.format(aprueba))"
      ],
      "metadata": {
        "colab": {
          "base_uri": "https://localhost:8080/"
        },
        "id": "AOJ9_vaCpy7R",
        "outputId": "db53a92c-5705-4b9e-b24b-c1a15472f7e0"
      },
      "execution_count": null,
      "outputs": [
        {
          "output_type": "stream",
          "name": "stdout",
          "text": [
            "[1 1 1 ... 1 0 0]\n",
            "Primeros 20 resultados: [1 1 1 0 1 1 0 1 0 1 1 1 0 0 0 1 0 0 1 0]\n",
            "Últimos 20 resultados: [1 0 0 1 0 0 0 1 0 1 1 1 1 0 1 0 0 1 0 0]\n"
          ]
        }
      ]
    },
    {
      "cell_type": "markdown",
      "source": [
        "COMPARACION CON DATOS DE PRUEBA"
      ],
      "metadata": {
        "id": "guGppYu5p2Y4"
      }
    },
    {
      "cell_type": "code",
      "source": [
        "# Imprime los primeros 10 resultados\n",
        "print(\"Primeros 20 resultados:\", y_test[:20])\n",
        "\n",
        "# Imprime los últimos 10 resultados\n",
        "print(\"Últimos 20 resultados:\", y_test[-20:])"
      ],
      "metadata": {
        "colab": {
          "base_uri": "https://localhost:8080/"
        },
        "id": "l4qZdViGp5IQ",
        "outputId": "17bba219-3525-4a2d-d618-ebdb61c8828b"
      },
      "execution_count": null,
      "outputs": [
        {
          "output_type": "stream",
          "name": "stdout",
          "text": [
            "Primeros 20 resultados: [0. 1. 1. 0. 1. 1. 1. 1. 0. 0. 1. 1. 0. 0. 0. 1. 0. 0. 1. 0.]\n",
            "Últimos 20 resultados: [0. 0. 0. 1. 0. 0. 0. 1. 1. 1. 1. 1. 0. 0. 1. 0. 0. 1. 1. 1.]\n"
          ]
        }
      ]
    },
    {
      "cell_type": "markdown",
      "source": [
        "Prueba con valor de X donde se sabe que la Y deberia ser 0 pero no hay el resultado esperado"
      ],
      "metadata": {
        "id": "1ZrWOyrFp8Z4"
      }
    },
    {
      "cell_type": "code",
      "source": [
        "X_array = [45,155,55,75.0,1.5,1.2,1,1,126,72,91,227,100,76,131,12.5,2,0.6,23,11,12,0]\n",
        "predict = sigmoid(np.dot(X_array, theta))\n",
        "print('Una persona con los siguientes datos [45,155,55,75.0,1.5,1.2,1,1,126,72,91,227,100,76,131,12.5,2,0.6,23,11,12,0] tiene como probabilida de ser fumador:{:.0f}'.format(predict))"
      ],
      "metadata": {
        "colab": {
          "base_uri": "https://localhost:8080/"
        },
        "id": "PkW8aI1MqAE6",
        "outputId": "4421225c-5ae6-4f82-876d-bd6e99f8a9a2"
      },
      "execution_count": null,
      "outputs": [
        {
          "output_type": "stream",
          "name": "stdout",
          "text": [
            "Una persona con los siguientes datos [45,155,55,75.0,1.5,1.2,1,1,126,72,91,227,100,76,131,12.5,2,0.6,23,11,12,0] tiene como probabilida de ser fumador:1\n"
          ]
        }
      ]
    },
    {
      "cell_type": "markdown",
      "source": [
        "No se observa ningun cambio en ambos ejercicios del modelo de regresion logistica de clasificacion, los resultados de la prediccion se mantienen igual con o sin regularizacion"
      ],
      "metadata": {
        "id": "N1ElD-XjLEb0"
      }
    }
  ]
}