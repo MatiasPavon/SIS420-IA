{
  "nbformat": 4,
  "nbformat_minor": 0,
  "metadata": {
    "colab": {
      "provenance": [],
      "authorship_tag": "ABX9TyMPyeJNbZJi2nVmALAc5DnX",
      "include_colab_link": true
    },
    "kernelspec": {
      "name": "python3",
      "display_name": "Python 3"
    },
    "language_info": {
      "name": "python"
    }
  },
  "cells": [
    {
      "cell_type": "markdown",
      "metadata": {
        "id": "view-in-github",
        "colab_type": "text"
      },
      "source": [
        "<a href=\"https://colab.research.google.com/github/MatiasPavon/SIS420-IA/blob/main/Reg_log_02_LAB.ipynb\" target=\"_parent\"><img src=\"https://colab.research.google.com/assets/colab-badge.svg\" alt=\"Open In Colab\"/></a>"
      ]
    },
    {
      "cell_type": "markdown",
      "source": [
        "MATIAS HECTOR PAVON GRUPO 2"
      ],
      "metadata": {
        "id": "DXKC6aN5NsFz"
      }
    },
    {
      "cell_type": "markdown",
      "source": [
        "**MODELO DE REGRESION LOGISTICA (CLASIFICACION) LABORATORIO 2**"
      ],
      "metadata": {
        "id": "ZeF-_qztpObK"
      }
    },
    {
      "cell_type": "markdown",
      "source": [
        "AQUI ES DONDE CONECTAMOS LA CUENTA DRIVE CON ESTE CUADERNILLO PARA PODER HACER USO DEL DATASET SELECCIONADO PARA ESTA TAREA"
      ],
      "metadata": {
        "id": "yGlxFGuKrL4D"
      }
    },
    {
      "cell_type": "code",
      "execution_count": 4,
      "metadata": {
        "colab": {
          "base_uri": "https://localhost:8080/"
        },
        "id": "jNhifDiapIEG",
        "outputId": "9757e77b-8ae6-4254-822c-6bc85818c9fa"
      },
      "outputs": [
        {
          "output_type": "stream",
          "name": "stdout",
          "text": [
            "Mounted at /content/drive\n"
          ]
        }
      ],
      "source": [
        "from google.colab import drive\n",
        "drive.mount('/content/drive')"
      ]
    },
    {
      "cell_type": "markdown",
      "source": [
        "AQUI ESTAN LOS PRIMEROS PASOS, IMPORTACION DE LIBRERIAS PARA REALIZAR LO QUE TENEMOS QUE HACER"
      ],
      "metadata": {
        "id": "2afCIEL-sEvz"
      }
    },
    {
      "cell_type": "code",
      "source": [
        "# se utiliza para el manejo de rutas y directorios.\n",
        "import os\n",
        "\n",
        "# Calculo cientifico y vectorial para python\n",
        "import numpy as np\n",
        "\n",
        "# Librerias para graficar\n",
        "from matplotlib import pyplot\n",
        "\n",
        "# Modulo de optimización de scipy\n",
        "from scipy import optimize\n",
        "\n",
        "# le dice a matplotlib que incruste gráficos en el cuaderno\n",
        "%matplotlib inline"
      ],
      "metadata": {
        "id": "4XNXUlEzsBjk"
      },
      "execution_count": 20,
      "outputs": []
    },
    {
      "cell_type": "markdown",
      "source": [
        "AQUI ES DONDE CARGAMOS LOS DATOS DEL DATASET QUE TENEMOS, EN ESTE CASO ES UN DATASET QUE EN BASE A LAS X PODEMOS DETERMINAR SI UNA PERSONA ES FUMADORA O NO"
      ],
      "metadata": {
        "id": "ENxBRJi0te0p"
      }
    },
    {
      "cell_type": "code",
      "source": [
        "# Cargar datos\n",
        "# Las dos primeras columnas contienen la nota de dos examenes y la tercera columna\n",
        "# contiene la etiqueta que indica si el alumno ingreso o no a la universidad.\n",
        "data = np.loadtxt('/content/drive/MyDrive/Dataset/train_dataset modificado.csv', delimiter=',')\n",
        "# X, y = data[:, 0:8], data[:, 8]\n",
        "X_train, y_train = data[:31187,:21], data[:31187, 22]\n",
        "X_test, y_test = data[31187:,:21], data[31187:, 22]\n",
        "X = X_train\n",
        "y = y_train\n",
        "print(X)"
      ],
      "metadata": {
        "colab": {
          "base_uri": "https://localhost:8080/"
        },
        "id": "hvsIYQvktc64",
        "outputId": "3e51f6a3-83ba-4cb8-f573-e242ec0aaa92"
      },
      "execution_count": 21,
      "outputs": [
        {
          "output_type": "stream",
          "name": "stdout",
          "text": [
            "[[  35.  170.   85. ...   61.  115.  125.]\n",
            " [  20.  175.  110. ...   19.   25.   30.]\n",
            " [  45.  155.   65. ... 1090. 1400.  276.]\n",
            " ...\n",
            " [  25.  170.   65. ...   21.   14.   15.]\n",
            " [  50.  170.   70. ...   49.   54.  283.]\n",
            " [  40.  160.   45. ...   16.    9.   17.]]\n"
          ]
        }
      ]
    },
    {
      "cell_type": "markdown",
      "source": [
        "FUNCION SIGMOIDEA"
      ],
      "metadata": {
        "id": "5U7sdamEFEZZ"
      }
    },
    {
      "cell_type": "code",
      "source": [
        "def sigmoid(z):\n",
        "    # Calcula la sigmoide de una entrada z\n",
        "    # convierte la intrada a un arreglo numpy\n",
        "    z = np.array(z)\n",
        "\n",
        "    g = np.zeros(z.shape)\n",
        "\n",
        "    g = 1 / (1 + np.exp(-z))\n",
        "\n",
        "    return g"
      ],
      "metadata": {
        "id": "Rm-2AbEcFDhq"
      },
      "execution_count": 7,
      "outputs": []
    },
    {
      "cell_type": "markdown",
      "source": [
        "NORMALIZADO"
      ],
      "metadata": {
        "id": "LlGWKkHdFQk5"
      }
    },
    {
      "cell_type": "code",
      "source": [
        "def  featureNormalize(X):\n",
        "    X_norm = X.copy()\n",
        "    mu = np.zeros(X.shape[1])\n",
        "    sigma = np.zeros(X.shape[1])\n",
        "\n",
        "    mu = np.mean(X, axis = 0)\n",
        "    sigma = np.std(X, axis = 0)\n",
        "    X_norm = (X - mu) / sigma\n",
        "\n",
        "    return X_norm, mu, sigma"
      ],
      "metadata": {
        "id": "ajYKCWQwFSqi"
      },
      "execution_count": 8,
      "outputs": []
    },
    {
      "cell_type": "code",
      "source": [
        "# llama featureNormalize con los datos cargados\n",
        "X_norm, mu, sigma = featureNormalize(X)"
      ],
      "metadata": {
        "id": "dJN_xmBEIBP6"
      },
      "execution_count": 9,
      "outputs": []
    },
    {
      "cell_type": "markdown",
      "source": [
        "Se implementa la funcion cost y gradient, para la regresión logistica. Antes de continuar es importante agregar el termino de intercepcion a X."
      ],
      "metadata": {
        "id": "eFwDsdKZIHQD"
      }
    },
    {
      "cell_type": "code",
      "source": [
        "# Configurar la matriz adecuadamente, y agregar una columna de unos que corresponde al termino de intercepción.\n",
        "m, n = X.shape\n",
        "# Agraga el termino de intercepción a A\n",
        "X = np.concatenate([np.ones((m, 1)), X_norm], axis=1)\n",
        "# X = np.concatenate([np.ones((m, 1)), X], axis=1)"
      ],
      "metadata": {
        "id": "BaJGjiTEILox"
      },
      "execution_count": 10,
      "outputs": []
    },
    {
      "cell_type": "code",
      "source": [
        "def calcularCosto(theta, X, y):\n",
        "    # Inicializar algunos valores utiles\n",
        "    m = y.size  # numero de ejemplos de entrenamiento\n",
        "\n",
        "    J = 0\n",
        "    h = sigmoid(X.dot(theta.T))\n",
        "    J = (1 / m) * np.sum(-y.dot(np.log(h)) - (1 - y).dot(np.log(1 - h)))\n",
        "\n",
        "    return J"
      ],
      "metadata": {
        "id": "stjmIw1dMnox"
      },
      "execution_count": 11,
      "outputs": []
    },
    {
      "cell_type": "code",
      "source": [
        "def descensoGradiente(theta, X, y, alpha, num_iters):\n",
        "    # Inicializa algunos valores\n",
        "    m = y.shape[0] # numero de ejemplos de entrenamiento\n",
        "\n",
        "    # realiza una copia de theta, el cual será acutalizada por el descenso por el gradiente\n",
        "    theta = theta.copy()\n",
        "    J_history = []\n",
        "\n",
        "    for i in range(num_iters):\n",
        "        h = sigmoid(X.dot(theta.T))\n",
        "        theta = theta - (alpha / m) * (h - y).dot(X)\n",
        "\n",
        "        J_history.append(calcularCosto(theta, X, y))\n",
        "    return theta, J_history"
      ],
      "metadata": {
        "id": "PnLdmrdjMsY5"
      },
      "execution_count": 12,
      "outputs": []
    },
    {
      "cell_type": "code",
      "source": [
        "# Elegir algun valor para alpha (probar varias alternativas)\n",
        "alpha = 0.001\n",
        "num_iters = 32000\n",
        "\n",
        "# inicializa theta y ejecuta el descenso por el gradiente\n",
        "theta = np.zeros(22)\n",
        "theta, J_history = descensoGradiente(theta, X, y, alpha, num_iters)\n",
        "\n",
        "# Grafica la convergencia del costo\n",
        "pyplot.plot(np.arange(len(J_history)), J_history, lw=2)\n",
        "pyplot.xlabel('Numero de iteraciones')\n",
        "pyplot.ylabel('Costo J')\n",
        "\n",
        "# Muestra los resultados del descenso por el gradiente\n",
        "print('theta calculado por el descenso por el gradiente: {:s}'.format(str(theta)))"
      ],
      "metadata": {
        "colab": {
          "base_uri": "https://localhost:8080/",
          "height": 520
        },
        "id": "0AzTiYheMvyh",
        "outputId": "de43f1b1-e1d4-4020-9e07-d00d3c95e300"
      },
      "execution_count": 13,
      "outputs": [
        {
          "output_type": "stream",
          "name": "stdout",
          "text": [
            "theta calculado por el descenso por el gradiente: [-0.75253822  0.00598241  0.62519633 -0.09148203 -0.02864014  0.00980802\n",
            "  0.00609798 -0.00872054  0.02722901 -0.11370938  0.0280596   0.10353086\n",
            " -0.10677103  0.28947279 -0.06890256 -0.07088165  0.66183901 -0.02832456\n",
            "  0.07085881 -0.03393922 -0.15150132  0.46129613]\n"
          ]
        },
        {
          "output_type": "display_data",
          "data": {
            "text/plain": [
              "<Figure size 640x480 with 1 Axes>"
            ],
            "image/png": "[encoded data removed]"
          },
          "metadata": {}
        }
      ]
    },
    {
      "cell_type": "code",
      "source": [
        "# verificar si ingresa o no a la universidad\n",
        "# X_array = [1, 1, 80, 66, 28, 0, 33.4, 0.675, 46]\n",
        "X_norm, mu, sigma = featureNormalize(X_test)\n",
        "m, n = X_norm.shape\n",
        "X_test_norm = np.concatenate([np.ones((m, 1)), X_norm], axis=1)\n",
        "aprueba = sigmoid(np.dot(X_test_norm, theta))   # Se debe cambiar esto\n",
        "predicciones_binarias = np.round(aprueba).astype(int)\n",
        "print(predicciones_binarias)\n",
        "# Imprime los primeros 10 resultados\n",
        "print(\"Primeros 20 resultados:\", predicciones_binarias[:20])\n",
        "\n",
        "# Imprime los últimos 10 resultados\n",
        "print(\"Últimos 20 resultados:\", predicciones_binarias[-20:])\n",
        "#print('Una persona con los siguientes datos [1, 1, 80, 66, 28, 0, 33.4, 0.675, 46] tiene como probabilida de ser diabetico:{:.0f}'.format(aprueba))"
      ],
      "metadata": {
        "colab": {
          "base_uri": "https://localhost:8080/"
        },
        "id": "Jq4qX0xiU6oR",
        "outputId": "e5442928-48cf-4818-db23-7c74329f65a8"
      },
      "execution_count": 28,
      "outputs": [
        {
          "output_type": "stream",
          "name": "stdout",
          "text": [
            "[1 0 1 ... 1 0 0]\n",
            "Primeros 20 resultados: [1 0 1 0 0 1 0 1 0 1 1 1 0 0 0 1 0 0 1 0]\n",
            "Últimos 20 resultados: [0 0 0 1 0 0 0 0 0 0 0 1 0 0 0 0 0 1 0 0]\n"
          ]
        }
      ]
    },
    {
      "cell_type": "markdown",
      "source": [
        "COMPARACION CON DATOS DE PRUEBA"
      ],
      "metadata": {
        "id": "Wnjz2oWjNP3z"
      }
    },
    {
      "cell_type": "code",
      "source": [
        "# Imprime los primeros 10 resultados\n",
        "print(\"Primeros 20 resultados:\", y_test[:20])\n",
        "\n",
        "# Imprime los últimos 10 resultados\n",
        "print(\"Últimos 20 resultados:\", y_test[-20:])"
      ],
      "metadata": {
        "colab": {
          "base_uri": "https://localhost:8080/"
        },
        "id": "o860jhD-M-iK",
        "outputId": "e3118b25-b89b-45bc-bb59-eaea825cacf7"
      },
      "execution_count": 29,
      "outputs": [
        {
          "output_type": "stream",
          "name": "stdout",
          "text": [
            "Primeros 20 resultados: [0. 1. 1. 0. 1. 1. 1. 1. 0. 0. 1. 1. 0. 0. 0. 1. 0. 0. 1. 0.]\n",
            "Últimos 20 resultados: [0. 0. 0. 1. 0. 0. 0. 1. 1. 1. 1. 1. 0. 0. 1. 0. 0. 1. 1. 1.]\n"
          ]
        }
      ]
    },
    {
      "cell_type": "markdown",
      "source": [
        "Prueba con valor de X donde se sabe que la Y deberia ser 0 pero no hay el resultado esperado"
      ],
      "metadata": {
        "id": "caKSk5pHJp7y"
      }
    },
    {
      "cell_type": "code",
      "source": [
        "X_array = [45,155,55,75.0,1.5,1.2,1,1,126,72,91,227,100,76,131,12.5,2,0.6,23,11,12,0]\n",
        "predict = sigmoid(np.dot(X_array, theta))\n",
        "print('Una persona con los siguientes datos [45,155,55,75.0,1.5,1.2,1,1,126,72,91,227,100,76,131,12.5,2,0.6,23,11,12,0] tiene como probabilida de ser fumador:{:.0f}'.format(predict))"
      ],
      "metadata": {
        "colab": {
          "base_uri": "https://localhost:8080/"
        },
        "id": "5-XFLCHUt4oA",
        "outputId": "8e92a297-e218-4d58-b3bf-6f70220d135b"
      },
      "execution_count": 17,
      "outputs": [
        {
          "output_type": "stream",
          "name": "stdout",
          "text": [
            "Una persona con los siguientes datos [45,155,55,75.0,1.5,1.2,1,1,126,72,91,227,100,76,131,12.5,2,0.6,23,11,12,0] tiene como probabilida de ser fumador:1\n"
          ]
        }
      ]
    },
    {
      "cell_type": "markdown",
      "source": [
        "Prueba con valor de X donde se sabe que la Y deberia ser 0 pero no hay el resultado esperado"
      ],
      "metadata": {
        "id": "qEv71sH2JfIU"
      }
    },
    {
      "cell_type": "code",
      "source": [
        "X_array = [55,150,65,89.0,0.5,1.0,1,1,132,81,81,183,85,52,114,13.4,1,0.7,16,10,10,0]\n",
        "predict = sigmoid(np.dot(X_array, theta))\n",
        "print('Una persona con los siguientes datos [55,150,65,89.0,0.5,1.0,1,1,132,81,81,183,85,52,114,13.4,1,0.7,16,10,10,0] tiene como probabilida de ser fumador:{:.0f}'.format(predict))"
      ],
      "metadata": {
        "colab": {
          "base_uri": "https://localhost:8080/"
        },
        "id": "VXh3HbK5yOxw",
        "outputId": "3f6ac169-737e-45e2-c27d-97abc4a40822"
      },
      "execution_count": 18,
      "outputs": [
        {
          "output_type": "stream",
          "name": "stdout",
          "text": [
            "Una persona con los siguientes datos [55,150,65,89.0,0.5,1.0,1,1,132,81,81,183,85,52,114,13.4,1,0.7,16,10,10,0] tiene como probabilida de ser fumador:1\n"
          ]
        }
      ]
    }
  ]
}