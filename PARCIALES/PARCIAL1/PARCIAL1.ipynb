{
  "nbformat": 4,
  "nbformat_minor": 0,
  "metadata": {
    "colab": {
      "provenance": []
    },
    "kernelspec": {
      "name": "python3",
      "display_name": "Python 3"
    },
    "language_info": {
      "name": "python"
    }
  },
  "cells": [
    {
      "cell_type": "markdown",
      "source": [
        "1ER PARCIAL. INTELIGENCIA ARTIFICIAL SIS-420"
      ],
      "metadata": {
        "id": "HUZbtfAFAVRP"
      }
    },
    {
      "cell_type": "markdown",
      "source": [
        "PAVON MATIAS HECTOR"
      ],
      "metadata": {
        "id": "gw0eV9yaAcyf"
      }
    },
    {
      "cell_type": "markdown",
      "source": [
        "D1 CLASIFICACION"
      ],
      "metadata": {
        "id": "OwjjFDD_DXD5"
      }
    },
    {
      "cell_type": "markdown",
      "source": [
        "DATASET: Conjunto de datos de abandono de usuarios\n",
        "Objetivo: Predecir si un usuario seguira interactuando el siguiente mes"
      ],
      "metadata": {
        "id": "_xW1vM8fDTdZ"
      }
    },
    {
      "cell_type": "markdown",
      "source": [
        "PREPROCESAMIENTO DE DATASET CON PANDAS"
      ],
      "metadata": {
        "id": "xIWbqrw1DzrP"
      }
    },
    {
      "cell_type": "code",
      "execution_count": 157,
      "metadata": {
        "id": "w4YdCp_WAUVg"
      },
      "outputs": [],
      "source": [
        "import pandas as pd"
      ]
    },
    {
      "cell_type": "code",
      "source": [
        "df = pd.read_csv('/content/drive/MyDrive/Dataset/ecom-user-churn-data - Mod1.csv')"
      ],
      "metadata": {
        "id": "4mINytI9LX1u"
      },
      "execution_count": 2,
      "outputs": []
    },
    {
      "cell_type": "code",
      "source": [
        "print(df)"
      ],
      "metadata": {
        "colab": {
          "base_uri": "https://localhost:8080/"
        },
        "id": "EXPPG-aeNAFv",
        "outputId": "3eed849a-71f9-4f9a-e094-1d111e42f2a2"
      },
      "execution_count": 3,
      "outputs": [
        {
          "output_type": "stream",
          "name": "stdout",
          "text": [
            "            89  23.0       16.0       0.0     0.0.1  39.0   2.0  0.051282052  \\\n",
            "0          251  23.0  61.000000  0.000000  0.000000  85.0   2.0     0.023529   \n",
            "1          270  14.0   0.100000  0.300000  3.000000  21.0  11.0     0.523810   \n",
            "2          298  11.0  13.000000  0.000000  0.000000  24.0   2.0     0.083333   \n",
            "3          474  16.0  26.000000  0.000000  0.000000  43.0   2.0     0.046512   \n",
            "4          656  21.0   3.000000  0.000000  0.000000  24.0   2.0     0.083333   \n",
            "...        ...   ...        ...       ...       ...   ...   ...          ...   \n",
            "49352  1406824  14.0  73.000000  0.000000  0.000000  87.0   2.0     0.022989   \n",
            "49353  1406906  19.0  13.000000  0.000000  0.000000  32.0   2.0     0.062500   \n",
            "49354  1406914  21.0   0.666667  0.942809  1.414214  23.0   4.0     0.173913   \n",
            "49355  1407221   1.0   0.000000  0.000000 -1.000000   2.0   2.0     1.000000   \n",
            "49356  1407504   2.0   6.000000  0.000000  0.000000   9.0   2.0     0.222222   \n",
            "\n",
            "        3.0       1.5  ...  0.15  0.16  0.17  0.18  3  0.19  0.20  0.21  0.22  \\\n",
            "0       2.0  1.000000  ...     0     0     0     0  0     0     1     0     0   \n",
            "1      13.0  1.181818  ...     0     0     0     0  0     0    13     0     0   \n",
            "2       4.0  2.000000  ...     0     0     0     3  1     0     0     0     0   \n",
            "3       2.0  1.000000  ...     2     0     0     0  0     0     0     0     0   \n",
            "4       2.0  1.000000  ...     0     0     0     0  0     0     2     0     0   \n",
            "...     ...       ...  ...   ...   ...   ...   ... ..   ...   ...   ...   ...   \n",
            "49352   2.0  1.000000  ...     0     0     0     2  0     0     0     0     0   \n",
            "49353   4.0  2.000000  ...     0     2     0     0  0     0     0     2     0   \n",
            "49354  14.0  3.500000  ...     0     0     0    14  0     0     0     0     0   \n",
            "49355   2.0  1.000000  ...     0     2     0     0  0     0     0     0     0   \n",
            "49356   3.0  1.500000  ...     0     0     0     0  0     0     3     0     0   \n",
            "\n",
            "       1  \n",
            "0      1  \n",
            "1      1  \n",
            "2      1  \n",
            "3      1  \n",
            "4      1  \n",
            "...   ..  \n",
            "49352  1  \n",
            "49353  1  \n",
            "49354  1  \n",
            "49355  1  \n",
            "49356  1  \n",
            "\n",
            "[49357 rows x 49 columns]\n"
          ]
        }
      ]
    },
    {
      "cell_type": "markdown",
      "source": [
        "SE ELIMINA LA PRIMERA COLUMNA YA QUE LOS DATOS DE ESA COLUMNA SON IRRELEVANTES PARA EL ENTRENAMIENTO"
      ],
      "metadata": {
        "id": "qFD7D8QZNdU3"
      }
    },
    {
      "cell_type": "code",
      "source": [
        "df = df.iloc[:, 1:]"
      ],
      "metadata": {
        "id": "n05hLbtiNj8o"
      },
      "execution_count": 4,
      "outputs": []
    },
    {
      "cell_type": "code",
      "source": [
        "print(df)"
      ],
      "metadata": {
        "colab": {
          "base_uri": "https://localhost:8080/"
        },
        "id": "rhDBSyIINmSv",
        "outputId": "54da98eb-f50a-4dee-9164-6bb9ed753617"
      },
      "execution_count": 5,
      "outputs": [
        {
          "output_type": "stream",
          "name": "stdout",
          "text": [
            "       23.0       16.0       0.0     0.0.1  39.0   2.0  0.051282052   3.0  \\\n",
            "0      23.0  61.000000  0.000000  0.000000  85.0   2.0     0.023529   2.0   \n",
            "1      14.0   0.100000  0.300000  3.000000  21.0  11.0     0.523810  13.0   \n",
            "2      11.0  13.000000  0.000000  0.000000  24.0   2.0     0.083333   4.0   \n",
            "3      16.0  26.000000  0.000000  0.000000  43.0   2.0     0.046512   2.0   \n",
            "4      21.0   3.000000  0.000000  0.000000  24.0   2.0     0.083333   2.0   \n",
            "...     ...        ...       ...       ...   ...   ...          ...   ...   \n",
            "49352  14.0  73.000000  0.000000  0.000000  87.0   2.0     0.022989   2.0   \n",
            "49353  19.0  13.000000  0.000000  0.000000  32.0   2.0     0.062500   4.0   \n",
            "49354  21.0   0.666667  0.942809  1.414214  23.0   4.0     0.173913  14.0   \n",
            "49355   1.0   0.000000  0.000000 -1.000000   2.0   2.0     1.000000   2.0   \n",
            "49356   2.0   6.000000  0.000000  0.000000   9.0   2.0     0.222222   3.0   \n",
            "\n",
            "            1.5  0.0.2  ...  0.15  0.16  0.17  0.18  3  0.19  0.20  0.21  \\\n",
            "0      1.000000    0.0  ...     0     0     0     0  0     0     1     0   \n",
            "1      1.181818    0.0  ...     0     0     0     0  0     0    13     0   \n",
            "2      2.000000    0.0  ...     0     0     0     3  1     0     0     0   \n",
            "3      1.000000    0.0  ...     2     0     0     0  0     0     0     0   \n",
            "4      1.000000    0.0  ...     0     0     0     0  0     0     2     0   \n",
            "...         ...    ...  ...   ...   ...   ...   ... ..   ...   ...   ...   \n",
            "49352  1.000000    0.0  ...     0     0     0     2  0     0     0     0   \n",
            "49353  2.000000    0.0  ...     0     2     0     0  0     0     0     2   \n",
            "49354  3.500000    0.0  ...     0     0     0    14  0     0     0     0   \n",
            "49355  1.000000    0.0  ...     0     2     0     0  0     0     0     0   \n",
            "49356  1.500000    0.0  ...     0     0     0     0  0     0     3     0   \n",
            "\n",
            "       0.22  1  \n",
            "0         0  1  \n",
            "1         0  1  \n",
            "2         0  1  \n",
            "3         0  1  \n",
            "4         0  1  \n",
            "...     ... ..  \n",
            "49352     0  1  \n",
            "49353     0  1  \n",
            "49354     0  1  \n",
            "49355     0  1  \n",
            "49356     0  1  \n",
            "\n",
            "[49357 rows x 48 columns]\n"
          ]
        }
      ]
    },
    {
      "cell_type": "code",
      "source": [
        "df.to_csv('/content/drive/MyDrive/Dataset/ecom-user-churn-data - Mod2.csv')"
      ],
      "metadata": {
        "id": "LzbcM_i7OiUg"
      },
      "execution_count": 6,
      "outputs": []
    },
    {
      "cell_type": "code",
      "source": [
        "df = pd.read_csv('/content/drive/MyDrive/Dataset/ecom-user-churn-data - Mod2.csv')"
      ],
      "metadata": {
        "id": "p4v0cXI6P9Jw"
      },
      "execution_count": 7,
      "outputs": []
    },
    {
      "cell_type": "code",
      "source": [
        "print(df)"
      ],
      "metadata": {
        "colab": {
          "base_uri": "https://localhost:8080/"
        },
        "id": "xF0OxbPFQAL3",
        "outputId": "ae25a956-31e4-4bbc-fba6-f03666ed7296"
      },
      "execution_count": 8,
      "outputs": [
        {
          "output_type": "stream",
          "name": "stdout",
          "text": [
            "           0  23.0       16.0       0.0     0.0.1  39.0   2.0  0.051282052  \\\n",
            "0          0  23.0  61.000000  0.000000  0.000000  85.0   2.0     0.023529   \n",
            "1          1  14.0   0.100000  0.300000  3.000000  21.0  11.0     0.523810   \n",
            "2          2  11.0  13.000000  0.000000  0.000000  24.0   2.0     0.083333   \n",
            "3          3  16.0  26.000000  0.000000  0.000000  43.0   2.0     0.046512   \n",
            "4          4  21.0   3.000000  0.000000  0.000000  24.0   2.0     0.083333   \n",
            "...      ...   ...        ...       ...       ...   ...   ...          ...   \n",
            "49352  49352  14.0  73.000000  0.000000  0.000000  87.0   2.0     0.022989   \n",
            "49353  49353  19.0  13.000000  0.000000  0.000000  32.0   2.0     0.062500   \n",
            "49354  49354  21.0   0.666667  0.942809  1.414214  23.0   4.0     0.173913   \n",
            "49355  49355   1.0   0.000000  0.000000 -1.000000   2.0   2.0     1.000000   \n",
            "49356  49356   2.0   6.000000  0.000000  0.000000   9.0   2.0     0.222222   \n",
            "\n",
            "        3.0       1.5  ...  0.15  0.16  0.17  0.18  3  0.19  0.20  0.21  0.22  \\\n",
            "0       2.0  1.000000  ...     0     0     0     0  0     0     1     0     0   \n",
            "1      13.0  1.181818  ...     0     0     0     0  0     0    13     0     0   \n",
            "2       4.0  2.000000  ...     0     0     0     3  1     0     0     0     0   \n",
            "3       2.0  1.000000  ...     2     0     0     0  0     0     0     0     0   \n",
            "4       2.0  1.000000  ...     0     0     0     0  0     0     2     0     0   \n",
            "...     ...       ...  ...   ...   ...   ...   ... ..   ...   ...   ...   ...   \n",
            "49352   2.0  1.000000  ...     0     0     0     2  0     0     0     0     0   \n",
            "49353   4.0  2.000000  ...     0     2     0     0  0     0     0     2     0   \n",
            "49354  14.0  3.500000  ...     0     0     0    14  0     0     0     0     0   \n",
            "49355   2.0  1.000000  ...     0     2     0     0  0     0     0     0     0   \n",
            "49356   3.0  1.500000  ...     0     0     0     0  0     0     3     0     0   \n",
            "\n",
            "       1  \n",
            "0      1  \n",
            "1      1  \n",
            "2      1  \n",
            "3      1  \n",
            "4      1  \n",
            "...   ..  \n",
            "49352  1  \n",
            "49353  1  \n",
            "49354  1  \n",
            "49355  1  \n",
            "49356  1  \n",
            "\n",
            "[49357 rows x 49 columns]\n"
          ]
        }
      ]
    },
    {
      "cell_type": "code",
      "source": [
        "df = df.iloc[:, 1:]"
      ],
      "metadata": {
        "id": "yIrunXc2Q21b"
      },
      "execution_count": 9,
      "outputs": []
    },
    {
      "cell_type": "code",
      "source": [
        "print(df)"
      ],
      "metadata": {
        "colab": {
          "base_uri": "https://localhost:8080/"
        },
        "id": "KG1BI3laQ4YD",
        "outputId": "e532d2dc-7b82-4877-98e9-068fd4ae87e2"
      },
      "execution_count": 10,
      "outputs": [
        {
          "output_type": "stream",
          "name": "stdout",
          "text": [
            "       23.0       16.0       0.0     0.0.1  39.0   2.0  0.051282052   3.0  \\\n",
            "0      23.0  61.000000  0.000000  0.000000  85.0   2.0     0.023529   2.0   \n",
            "1      14.0   0.100000  0.300000  3.000000  21.0  11.0     0.523810  13.0   \n",
            "2      11.0  13.000000  0.000000  0.000000  24.0   2.0     0.083333   4.0   \n",
            "3      16.0  26.000000  0.000000  0.000000  43.0   2.0     0.046512   2.0   \n",
            "4      21.0   3.000000  0.000000  0.000000  24.0   2.0     0.083333   2.0   \n",
            "...     ...        ...       ...       ...   ...   ...          ...   ...   \n",
            "49352  14.0  73.000000  0.000000  0.000000  87.0   2.0     0.022989   2.0   \n",
            "49353  19.0  13.000000  0.000000  0.000000  32.0   2.0     0.062500   4.0   \n",
            "49354  21.0   0.666667  0.942809  1.414214  23.0   4.0     0.173913  14.0   \n",
            "49355   1.0   0.000000  0.000000 -1.000000   2.0   2.0     1.000000   2.0   \n",
            "49356   2.0   6.000000  0.000000  0.000000   9.0   2.0     0.222222   3.0   \n",
            "\n",
            "            1.5  0.0.2  ...  0.15  0.16  0.17  0.18  3  0.19  0.20  0.21  \\\n",
            "0      1.000000    0.0  ...     0     0     0     0  0     0     1     0   \n",
            "1      1.181818    0.0  ...     0     0     0     0  0     0    13     0   \n",
            "2      2.000000    0.0  ...     0     0     0     3  1     0     0     0   \n",
            "3      1.000000    0.0  ...     2     0     0     0  0     0     0     0   \n",
            "4      1.000000    0.0  ...     0     0     0     0  0     0     2     0   \n",
            "...         ...    ...  ...   ...   ...   ...   ... ..   ...   ...   ...   \n",
            "49352  1.000000    0.0  ...     0     0     0     2  0     0     0     0   \n",
            "49353  2.000000    0.0  ...     0     2     0     0  0     0     0     2   \n",
            "49354  3.500000    0.0  ...     0     0     0    14  0     0     0     0   \n",
            "49355  1.000000    0.0  ...     0     2     0     0  0     0     0     0   \n",
            "49356  1.500000    0.0  ...     0     0     0     0  0     0     3     0   \n",
            "\n",
            "       0.22  1  \n",
            "0         0  1  \n",
            "1         0  1  \n",
            "2         0  1  \n",
            "3         0  1  \n",
            "4         0  1  \n",
            "...     ... ..  \n",
            "49352     0  1  \n",
            "49353     0  1  \n",
            "49354     0  1  \n",
            "49355     0  1  \n",
            "49356     0  1  \n",
            "\n",
            "[49357 rows x 48 columns]\n"
          ]
        }
      ]
    },
    {
      "cell_type": "markdown",
      "source": [
        "SE CAMBIA EL VALOR DE -1.0 A 1.0 YA QUE EN LOS VALORES DE LAS COLUMNAS 4, 7 Y 24 NO DEBEN EXISTIR VALORES NEGATIVOS"
      ],
      "metadata": {
        "id": "xJByLTWHTLy9"
      }
    },
    {
      "cell_type": "code",
      "source": [
        "df.update(df.replace(-1.0, 1.0, regex=True))"
      ],
      "metadata": {
        "id": "-9f_MO7NTE9Q"
      },
      "execution_count": 11,
      "outputs": []
    },
    {
      "cell_type": "code",
      "source": [
        "print(df)"
      ],
      "metadata": {
        "colab": {
          "base_uri": "https://localhost:8080/"
        },
        "id": "OyDejRwzULd4",
        "outputId": "0206ce6f-004a-4ee7-f048-7f6e0bb35b0a"
      },
      "execution_count": 12,
      "outputs": [
        {
          "output_type": "stream",
          "name": "stdout",
          "text": [
            "       23.0       16.0       0.0     0.0.1  39.0   2.0  0.051282052   3.0  \\\n",
            "0      23.0  61.000000  0.000000  0.000000  85.0   2.0     0.023529   2.0   \n",
            "1      14.0   0.100000  0.300000  3.000000  21.0  11.0     0.523810  13.0   \n",
            "2      11.0  13.000000  0.000000  0.000000  24.0   2.0     0.083333   4.0   \n",
            "3      16.0  26.000000  0.000000  0.000000  43.0   2.0     0.046512   2.0   \n",
            "4      21.0   3.000000  0.000000  0.000000  24.0   2.0     0.083333   2.0   \n",
            "...     ...        ...       ...       ...   ...   ...          ...   ...   \n",
            "49352  14.0  73.000000  0.000000  0.000000  87.0   2.0     0.022989   2.0   \n",
            "49353  19.0  13.000000  0.000000  0.000000  32.0   2.0     0.062500   4.0   \n",
            "49354  21.0   0.666667  0.942809  1.414214  23.0   4.0     0.173913  14.0   \n",
            "49355   1.0   0.000000  0.000000  1.000000   2.0   2.0     1.000000   2.0   \n",
            "49356   2.0   6.000000  0.000000  0.000000   9.0   2.0     0.222222   3.0   \n",
            "\n",
            "            1.5  0.0.2  ...  0.15  0.16  0.17  0.18  3  0.19  0.20  0.21  \\\n",
            "0      1.000000    0.0  ...     0     0     0     0  0     0     1     0   \n",
            "1      1.181818    0.0  ...     0     0     0     0  0     0    13     0   \n",
            "2      2.000000    0.0  ...     0     0     0     3  1     0     0     0   \n",
            "3      1.000000    0.0  ...     2     0     0     0  0     0     0     0   \n",
            "4      1.000000    0.0  ...     0     0     0     0  0     0     2     0   \n",
            "...         ...    ...  ...   ...   ...   ...   ... ..   ...   ...   ...   \n",
            "49352  1.000000    0.0  ...     0     0     0     2  0     0     0     0   \n",
            "49353  2.000000    0.0  ...     0     2     0     0  0     0     0     2   \n",
            "49354  3.500000    0.0  ...     0     0     0    14  0     0     0     0   \n",
            "49355  1.000000    0.0  ...     0     2     0     0  0     0     0     0   \n",
            "49356  1.500000    0.0  ...     0     0     0     0  0     0     3     0   \n",
            "\n",
            "       0.22  1  \n",
            "0         0  1  \n",
            "1         0  1  \n",
            "2         0  1  \n",
            "3         0  1  \n",
            "4         0  1  \n",
            "...     ... ..  \n",
            "49352     0  1  \n",
            "49353     0  1  \n",
            "49354     0  1  \n",
            "49355     0  1  \n",
            "49356     0  1  \n",
            "\n",
            "[49357 rows x 48 columns]\n"
          ]
        }
      ]
    },
    {
      "cell_type": "code",
      "source": [
        "df.to_csv('/content/drive/MyDrive/Dataset/ecom-user-churn-data - Mod3.csv')"
      ],
      "metadata": {
        "id": "NMINCZQWUV7X"
      },
      "execution_count": 13,
      "outputs": []
    },
    {
      "cell_type": "markdown",
      "source": [
        "AQUI ESTAN LOS PRIMEROS PASOS, UNA VEZ TERMINADO EL PRESPROCESAMIENTO DEL DATSET SE PROCEDE A LA IMPORTACION DE LIBRERIAS PARA REALIZAR LO QUE TENEMOS QUE HACER"
      ],
      "metadata": {
        "id": "kzXI_OcAVwpZ"
      }
    },
    {
      "cell_type": "code",
      "source": [
        "from google.colab import drive\n",
        "drive.mount('/content/drive')"
      ],
      "metadata": {
        "colab": {
          "base_uri": "https://localhost:8080/"
        },
        "id": "PpjPBJiWYgYg",
        "outputId": "bb08d257-fb49-4da2-d647-d5dcae7088eb"
      },
      "execution_count": 16,
      "outputs": [
        {
          "output_type": "stream",
          "name": "stdout",
          "text": [
            "Drive already mounted at /content/drive; to attempt to forcibly remount, call drive.mount(\"/content/drive\", force_remount=True).\n"
          ]
        }
      ]
    },
    {
      "cell_type": "code",
      "source": [
        "# se utiliza para el manejo de rutas y directorios.\n",
        "import os\n",
        "\n",
        "# Calculo cientifico y vectorial para python\n",
        "import numpy as np\n",
        "\n",
        "# Librerias para graficar\n",
        "from matplotlib import pyplot\n",
        "\n",
        "# Modulo de optimización de scipy\n",
        "from scipy import optimize\n",
        "\n",
        "# le dice a matplotlib que incruste gráficos en el cuaderno\n",
        "%matplotlib inline"
      ],
      "metadata": {
        "id": "VdwMXhj8VsNf"
      },
      "execution_count": 67,
      "outputs": []
    },
    {
      "cell_type": "code",
      "source": [
        "# Cargar datos\n",
        "# Las dos primeras columnas contienen la nota de dos examenes y la tercera columna\n",
        "# contiene la etiqueta que indica si el alumno ingreso o no a la universidad.\n",
        "data = np.loadtxt('/content/drive/MyDrive/Dataset/ecom-user-churn-data - Mod3.csv', delimiter=',')\n",
        "# X, y = data[:, 0:8], data[:, 8]\n",
        "X_train, y_train = data[:39487,1:47], data[:39487, 48]\n",
        "X_test, y_test = data[39488:,1:47], data[39488:, 48]\n",
        "X = X_train\n",
        "y = y_train\n",
        "print(X)\n",
        "print(y)"
      ],
      "metadata": {
        "colab": {
          "base_uri": "https://localhost:8080/"
        },
        "id": "tICnekawV_i4",
        "outputId": "477dc5f7-0fea-450c-f60a-a829026421be"
      },
      "execution_count": 100,
      "outputs": [
        {
          "output_type": "stream",
          "name": "stdout",
          "text": [
            "[[23.   16.    0.   ...  0.19  0.2   0.21]\n",
            " [23.   61.    0.   ...  0.    1.    0.  ]\n",
            " [14.    0.1   0.3  ...  0.   13.    0.  ]\n",
            " ...\n",
            " [ 2.    0.    0.   ...  0.    0.    3.  ]\n",
            " [23.    0.    0.   ...  0.    3.    0.  ]\n",
            " [ 0.   69.    0.   ...  0.    0.    0.  ]]\n",
            "[1. 1. 1. ... 1. 1. 1.]\n"
          ]
        }
      ]
    },
    {
      "cell_type": "markdown",
      "source": [
        "FUNCION SIGMOIDEA"
      ],
      "metadata": {
        "id": "fyY-KlBwgZN5"
      }
    },
    {
      "cell_type": "code",
      "source": [
        "def sigmoid(z):\n",
        "    # Calcula la sigmoide de una entrada z\n",
        "    # convierte la intrada a un arreglo numpy\n",
        "    z = np.array(z)\n",
        "\n",
        "    g = np.zeros(z.shape)\n",
        "\n",
        "    g = 1 / (1 + np.exp(-z))\n",
        "\n",
        "    return g"
      ],
      "metadata": {
        "id": "yT8NiERmga-h"
      },
      "execution_count": 69,
      "outputs": []
    },
    {
      "cell_type": "markdown",
      "source": [
        "NORMALIZADO"
      ],
      "metadata": {
        "id": "1f0HQjtYggOQ"
      }
    },
    {
      "cell_type": "code",
      "source": [
        "def  featureNormalize(X):\n",
        "    X_norm = X.copy()\n",
        "    mu = np.zeros(X.shape[1])\n",
        "    sigma = np.zeros(X.shape[1])\n",
        "\n",
        "    mu = np.mean(X, axis = 0)\n",
        "    sigma = np.std(X, axis = 0)\n",
        "    X_norm = (X - mu) / sigma\n",
        "\n",
        "    return X_norm, mu, sigma"
      ],
      "metadata": {
        "id": "mkBosLJVgi9Q"
      },
      "execution_count": 70,
      "outputs": []
    },
    {
      "cell_type": "code",
      "source": [
        "# llama featureNormalize con los datos cargados\n",
        "X_norm, mu, sigma = featureNormalize(X)"
      ],
      "metadata": {
        "id": "kpXm3RqlgmEI"
      },
      "execution_count": 71,
      "outputs": []
    },
    {
      "cell_type": "markdown",
      "source": [
        "Se implementa la funcion cost y gradient, para la regresión logistica. Antes de continuar es importante agregar el termino de intercepcion a X."
      ],
      "metadata": {
        "id": "ZPFYfCeJgpgw"
      }
    },
    {
      "cell_type": "code",
      "source": [
        "# Configurar la matriz adecuadamente, y agregar una columna de unos que corresponde al termino de intercepción.\n",
        "m, n = X.shape\n",
        "# Agraga el termino de intercepción a A\n",
        "X = np.concatenate([np.ones((m, 1)), X_norm], axis=1)\n",
        "# X = np.concatenate([np.ones((m, 1)), X], axis=1)"
      ],
      "metadata": {
        "id": "6gcqbBY3gsCg"
      },
      "execution_count": 72,
      "outputs": []
    },
    {
      "cell_type": "code",
      "source": [
        "def calcularCosto(theta, X, y):\n",
        "    # Inicializar algunos valores utiles\n",
        "    m = y.size  # numero de ejemplos de entrenamiento\n",
        "\n",
        "    J = 0\n",
        "    h = sigmoid(X.dot(theta.T))\n",
        "    J = (1 / m) * np.sum(-y.dot(np.log(h)) - (1 - y).dot(np.log(1 - h)))\n",
        "\n",
        "    return J"
      ],
      "metadata": {
        "id": "BQXoNQKOguO5"
      },
      "execution_count": 73,
      "outputs": []
    },
    {
      "cell_type": "code",
      "source": [
        "def descensoGradiente(theta, X, y, alpha, num_iters):\n",
        "    # Inicializa algunos valores\n",
        "    m = y.shape[0] # numero de ejemplos de entrenamiento\n",
        "\n",
        "    # realiza una copia de theta, el cual será acutalizada por el descenso por el gradiente\n",
        "    theta = theta.copy()\n",
        "    J_history = []\n",
        "\n",
        "    for i in range(num_iters):\n",
        "        h = sigmoid(X.dot(theta.T))\n",
        "        theta = theta - (alpha / m) * (h - y).dot(X)\n",
        "\n",
        "        J_history.append(calcularCosto(theta, X, y))\n",
        "    return theta, J_history"
      ],
      "metadata": {
        "id": "tQ_ewItWgwEQ"
      },
      "execution_count": 74,
      "outputs": []
    },
    {
      "cell_type": "code",
      "source": [
        "# Elegir algun valor para alpha (probar varias alternativas)\n",
        "alpha = 0.001\n",
        "num_iters = 33000\n",
        "\n",
        "# inicializa theta y ejecuta el descenso por el gradiente\n",
        "theta = np.zeros(47)\n",
        "theta, J_history = descensoGradiente(theta, X, y, alpha, num_iters)\n",
        "\n",
        "# Grafica la convergencia del costo\n",
        "pyplot.plot(np.arange(len(J_history)), J_history, lw=2)\n",
        "pyplot.xlabel('Numero de iteraciones')\n",
        "pyplot.ylabel('Costo J')\n",
        "\n",
        "# Muestra los resultados del descenso por el gradiente\n",
        "print('theta calculado por el descenso por el gradiente: {:s}'.format(str(theta)))"
      ],
      "metadata": {
        "colab": {
          "base_uri": "https://localhost:8080/",
          "height": 657
        },
        "id": "0PXzxvokg4FY",
        "outputId": "fe257ebe-a1d1-4f60-ef48-7d288a47053d"
      },
      "execution_count": 75,
      "outputs": [
        {
          "output_type": "stream",
          "name": "stdout",
          "text": [
            "theta calculado por el descenso por el gradiente: [ 2.13007286e+00  5.03610983e-01  1.74527612e-01 -1.14476833e-01\n",
            " -7.76683770e-03 -2.91576798e-01 -2.60279287e-01 -9.50153371e-02\n",
            "  3.71570274e-03 -2.08000997e-02  4.48759343e-02  4.09267146e-03\n",
            "  5.65361723e-02 -1.09435104e-02  2.89258033e-02 -1.04490439e-02\n",
            " -2.47428941e-02 -2.25798021e-02 -8.02233100e-02 -5.54006098e-03\n",
            " -6.02734475e-02  6.87298194e-02  2.68790036e-03 -4.11555397e-02\n",
            "  3.75570543e-02 -1.52192824e-02  1.43617715e-02 -4.16104638e-02\n",
            "  1.66195471e-02  3.05163853e-03 -2.37744587e-02 -5.59764721e-03\n",
            " -1.65951451e-02  1.94616568e-02  2.36638624e-02  2.44861975e-03\n",
            "  2.19068009e-02 -1.42434603e-02  7.01171464e-03  5.50994697e-02\n",
            " -5.33683465e-02  1.21385237e-02 -1.54466379e-03 -4.21713100e-02\n",
            " -1.07168166e-02  4.26964490e-03  3.34384990e-03]\n"
          ]
        },
        {
          "output_type": "display_data",
          "data": {
            "text/plain": [
              "<Figure size 640x480 with 1 Axes>"
            ],
            "image/png": "[encoded data removed]"
          },
          "metadata": {}
        }
      ]
    },
    {
      "cell_type": "code",
      "source": [
        "X_norm, mu, sigma = featureNormalize(X_test)\n",
        "m, n = X_norm.shape\n",
        "X_test_norm = np.concatenate([np.ones((m, 1)), X_norm], axis=1)\n",
        "aprueba = sigmoid(np.dot(X_test_norm, theta))\n",
        "print(aprueba)"
      ],
      "metadata": {
        "colab": {
          "base_uri": "https://localhost:8080/"
        },
        "id": "DOU9cCiLvezZ",
        "outputId": "fbcbdec1-bd92-4bd7-af74-9265b9a11cde"
      },
      "execution_count": 101,
      "outputs": [
        {
          "output_type": "stream",
          "name": "stdout",
          "text": [
            "[nan nan nan ... nan nan nan]\n"
          ]
        },
        {
          "output_type": "stream",
          "name": "stderr",
          "text": [
            "<ipython-input-70-8d831078d311>:8: RuntimeWarning: invalid value encountered in divide\n",
            "  X_norm = (X - mu) / sigma\n"
          ]
        }
      ]
    },
    {
      "cell_type": "markdown",
      "source": [
        "D2 REGRESION LINEAL MULTIPLE"
      ],
      "metadata": {
        "id": "OHQNBJ8IIrsi"
      }
    },
    {
      "cell_type": "markdown",
      "source": [
        "DATASET: Precios de casas de acuerdo a la localizacion\n",
        "Objetivo: Poder calcular o tener referencia del precio de las casas a partir de varios parametros"
      ],
      "metadata": {
        "id": "KMKthavQI7za"
      }
    },
    {
      "cell_type": "markdown",
      "source": [
        "PREPROCESAMIENTO DE DATASET CON PANDAS"
      ],
      "metadata": {
        "id": "DODTJDf5KZ2q"
      }
    },
    {
      "cell_type": "code",
      "source": [
        "import pandas as pd"
      ],
      "metadata": {
        "id": "NaiwP_FNKfw6"
      },
      "execution_count": 158,
      "outputs": []
    },
    {
      "cell_type": "code",
      "source": [
        "df = pd.read_csv('/content/drive/MyDrive/Dataset/Prices house - Mod1.csv')"
      ],
      "metadata": {
        "id": "Asq18OEkKktK"
      },
      "execution_count": 113,
      "outputs": []
    },
    {
      "cell_type": "code",
      "source": [
        "print(df)"
      ],
      "metadata": {
        "colab": {
          "base_uri": "https://localhost:8080/"
        },
        "id": "tcMvD_tRKoqL",
        "outputId": "6578794d-4e42-49df-bd75-c42cdc5f2627"
      },
      "execution_count": 114,
      "outputs": [
        {
          "output_type": "stream",
          "name": "stdout",
          "text": [
            "       0.935725849  0.921034387  0.050417006  0.173084573  0.139500471  \\\n",
            "0         0.945854     0.084170     0.211671     0.080723     0.980385   \n",
            "1         0.425973     0.190178     0.221490     0.443040     0.768223   \n",
            "2         0.599944     0.237729     0.584219     0.387131     0.034368   \n",
            "3         0.293112     0.322832     0.065941     0.615047     0.849242   \n",
            "4         0.956612     0.745073     0.567164     0.305531     0.220798   \n",
            "...            ...          ...          ...          ...          ...   \n",
            "19994     0.233252     0.767280     0.617955     0.872762     0.395947   \n",
            "19995     0.761047     0.412396     0.923288     0.944881     0.958778   \n",
            "19996     0.831551     0.199999     0.744946     0.971285     0.388012   \n",
            "19997     0.839408     0.216327     0.528366     0.412535     0.009789   \n",
            "19998     0.944656     0.823829     0.805750     0.749896     0.526777   \n",
            "\n",
            "       12/09/1995                                         Ghana   7  643428  \n",
            "0      17/06/2015                              Christmas Island   4  939085  \n",
            "1      22/10/2001                       Cocos (Keeling) Islands   8  149126  \n",
            "2      05/04/2008  South Georgia and the South Sandwich Islands   5  951468  \n",
            "3      15/12/1997                                         Niger   7  357705  \n",
            "4      12/08/2022                                      Paraguay  10  893407  \n",
            "...           ...                                           ...  ..     ...  \n",
            "19994  03/07/2017                                        Serbia   6  323517  \n",
            "19995  12/04/2023                                  Saint Martin   6  733778  \n",
            "19996  16/04/2000                                      Cambodia   2  114595  \n",
            "19997  11/09/2017                                 New Caledonia   6  954607  \n",
            "19998  19/02/2016                                          Mali   6  288551  \n",
            "\n",
            "[19999 rows x 9 columns]\n"
          ]
        }
      ]
    },
    {
      "cell_type": "markdown",
      "source": [
        "ELIMINAMOS LAS COLUMNAS 6 Y 7 YA QUE EL CONTENIDO DE LAS MISMA ES IRRELEVANTE PARA LA PREDICCION DEL YA QUE ESOS DATOS FUERON GENERADOS ALEATORIAMENTE"
      ],
      "metadata": {
        "id": "8kHTm4_4PKmE"
      }
    },
    {
      "cell_type": "code",
      "source": [
        "df = df.drop(columns=df.columns[5:7])"
      ],
      "metadata": {
        "id": "eJgw8s3IPabc"
      },
      "execution_count": 115,
      "outputs": []
    },
    {
      "cell_type": "code",
      "source": [
        "print(df)"
      ],
      "metadata": {
        "colab": {
          "base_uri": "https://localhost:8080/"
        },
        "id": "op32JSUePwCj",
        "outputId": "163c377b-8624-4512-9228-2380e0a69e71"
      },
      "execution_count": 116,
      "outputs": [
        {
          "output_type": "stream",
          "name": "stdout",
          "text": [
            "       0.935725849  0.921034387  0.050417006  0.173084573  0.139500471   7  \\\n",
            "0         0.945854     0.084170     0.211671     0.080723     0.980385   4   \n",
            "1         0.425973     0.190178     0.221490     0.443040     0.768223   8   \n",
            "2         0.599944     0.237729     0.584219     0.387131     0.034368   5   \n",
            "3         0.293112     0.322832     0.065941     0.615047     0.849242   7   \n",
            "4         0.956612     0.745073     0.567164     0.305531     0.220798  10   \n",
            "...            ...          ...          ...          ...          ...  ..   \n",
            "19994     0.233252     0.767280     0.617955     0.872762     0.395947   6   \n",
            "19995     0.761047     0.412396     0.923288     0.944881     0.958778   6   \n",
            "19996     0.831551     0.199999     0.744946     0.971285     0.388012   2   \n",
            "19997     0.839408     0.216327     0.528366     0.412535     0.009789   6   \n",
            "19998     0.944656     0.823829     0.805750     0.749896     0.526777   6   \n",
            "\n",
            "       643428  \n",
            "0      939085  \n",
            "1      149126  \n",
            "2      951468  \n",
            "3      357705  \n",
            "4      893407  \n",
            "...       ...  \n",
            "19994  323517  \n",
            "19995  733778  \n",
            "19996  114595  \n",
            "19997  954607  \n",
            "19998  288551  \n",
            "\n",
            "[19999 rows x 7 columns]\n"
          ]
        }
      ]
    },
    {
      "cell_type": "code",
      "source": [
        "df.to_csv('/content/drive/MyDrive/Dataset/Prices house - Mod2.csv')"
      ],
      "metadata": {
        "id": "nOa5X7JhWdFT"
      },
      "execution_count": 117,
      "outputs": []
    },
    {
      "cell_type": "code",
      "source": [
        "# utilizado para manejos de directorios y rutas\n",
        "import os\n",
        "\n",
        "# Computacion vectorial y cientifica para python\n",
        "import numpy as np\n",
        "\n",
        "# Librerias para graficación (trazado de gráficos)\n",
        "from matplotlib import pyplot\n",
        "from mpl_toolkits.mplot3d import Axes3D  # Necesario para graficar superficies 3D\n",
        "\n",
        "# llama a matplotlib a embeber graficas dentro de los cuadernillos\n",
        "%matplotlib inline"
      ],
      "metadata": {
        "id": "_AxTIKFpYVMs"
      },
      "execution_count": 140,
      "outputs": []
    },
    {
      "cell_type": "code",
      "source": [
        "# Cargar datos\n",
        "# data = np.loadtxt(os.path.join('Datasets', 'ex1data2.txt'), delimiter=',')\n",
        "data = np.loadtxt('/content/drive/MyDrive/Dataset/Prices house - Mod2.csv', delimiter=',')\n",
        "X = data[:, 1:7]\n",
        "y = data[:, 7]\n",
        "m = y.size\n",
        "print(m)\n",
        "# imprimir algunos puntos de datos\n",
        "print(X)\n",
        "print(y)"
      ],
      "metadata": {
        "colab": {
          "base_uri": "https://localhost:8080/"
        },
        "id": "AXSkAeEQYaPk",
        "outputId": "770bc213-d681-4cdb-d04c-4065dba255eb"
      },
      "execution_count": 141,
      "outputs": [
        {
          "output_type": "stream",
          "name": "stdout",
          "text": [
            "20000\n",
            "[[0.93572585 0.92103439 0.05041701 0.17308457 0.13950047 7.        ]\n",
            " [0.94585354 0.08417044 0.21167083 0.0807233  0.98038535 4.        ]\n",
            " [0.42597303 0.19017814 0.22148972 0.44304001 0.76822267 8.        ]\n",
            " ...\n",
            " [0.83155104 0.19999871 0.74494635 0.97128538 0.38801227 2.        ]\n",
            " [0.83940844 0.2163268  0.52836608 0.41253506 0.00978857 6.        ]\n",
            " [0.94465597 0.82382892 0.80575002 0.74989615 0.52677738 6.        ]]\n",
            "[643428. 939085. 149126. ... 114595. 954607. 288551.]\n"
          ]
        }
      ]
    },
    {
      "cell_type": "markdown",
      "source": [
        "NORMALIZAR"
      ],
      "metadata": {
        "id": "qCa46Cb7cXfD"
      }
    },
    {
      "cell_type": "code",
      "source": [
        "def  featureNormalize(X):\n",
        "    X_norm = X.copy()\n",
        "    mu = np.zeros(X.shape[1])\n",
        "    sigma = np.zeros(X.shape[1])\n",
        "\n",
        "    mu = np.mean(X, axis = 0)\n",
        "    sigma = np.std(X, axis = 0)\n",
        "    X_norm = (X - mu) / sigma\n",
        "\n",
        "    return X_norm, mu, sigma"
      ],
      "metadata": {
        "id": "7DGxHYSQcZd2"
      },
      "execution_count": 142,
      "outputs": []
    },
    {
      "cell_type": "code",
      "source": [
        "# llama featureNormalize con los datos cargados\n",
        "X_norm, mu, sigma = featureNormalize(X)\n",
        "\n",
        "print(X)\n",
        "print('Media calculada:', mu)\n",
        "print('Desviación estandar calculada:', sigma)\n",
        "print(X_norm)"
      ],
      "metadata": {
        "colab": {
          "base_uri": "https://localhost:8080/"
        },
        "id": "oPheCCaZccjj",
        "outputId": "83d9f137-e059-4d0d-b7ff-f551ad943526"
      },
      "execution_count": 143,
      "outputs": [
        {
          "output_type": "stream",
          "name": "stdout",
          "text": [
            "[[0.93572585 0.92103439 0.05041701 0.17308457 0.13950047 7.        ]\n",
            " [0.94585354 0.08417044 0.21167083 0.0807233  0.98038535 4.        ]\n",
            " [0.42597303 0.19017814 0.22148972 0.44304001 0.76822267 8.        ]\n",
            " ...\n",
            " [0.83155104 0.19999871 0.74494635 0.97128538 0.38801227 2.        ]\n",
            " [0.83940844 0.2163268  0.52836608 0.41253506 0.00978857 6.        ]\n",
            " [0.94465597 0.82382892 0.80575002 0.74989615 0.52677738 6.        ]]\n",
            "Media calculada: [0.50113454 0.50170756 0.50149734 0.49795843 0.50215811 5.50345   ]\n",
            "Desviación estandar calculada: [0.28854317 0.28946807 0.28896519 0.28845522 0.2876417  2.8850456 ]\n",
            "[[ 1.50615699  1.44861168 -1.56101962 -1.12625402 -1.26079645  0.51872664]\n",
            " [ 1.54125638 -1.44242894 -1.00298072 -1.44644675  1.66257965 -0.52111828]\n",
            " [-0.26048619 -1.07621342 -0.9690012  -0.19038802  0.92498605  0.86534161]\n",
            " ...\n",
            " [ 1.14511983 -1.04228715  0.84248556  1.64090268 -0.3968334  -1.21434823]\n",
            " [ 1.17235109 -0.98587992  0.0929826  -0.29614081 -1.71174601  0.17211166]\n",
            " [ 1.53710599  1.11280446  1.05290424  0.8734032   0.08559006  0.17211166]]\n"
          ]
        }
      ]
    },
    {
      "cell_type": "markdown",
      "source": [
        "se añade el temino de interseccion a X_norm:"
      ],
      "metadata": {
        "id": "yMDtPZJSeIMM"
      }
    },
    {
      "cell_type": "code",
      "source": [
        "# Añade el termino de interseccion a X\n",
        "# (Columna de unos para X0)\n",
        "X = np.concatenate([np.ones((m, 1)), X_norm], axis=1)"
      ],
      "metadata": {
        "id": "TR5QZoybeKns"
      },
      "execution_count": 144,
      "outputs": []
    },
    {
      "cell_type": "code",
      "source": [
        "print(X)"
      ],
      "metadata": {
        "colab": {
          "base_uri": "https://localhost:8080/"
        },
        "id": "2FunEGkDeMFz",
        "outputId": "3b576fd6-47fd-449a-ee1e-7e75c0ad7ed2"
      },
      "execution_count": 145,
      "outputs": [
        {
          "output_type": "stream",
          "name": "stdout",
          "text": [
            "[[ 1.          1.50615699  1.44861168 ... -1.12625402 -1.26079645\n",
            "   0.51872664]\n",
            " [ 1.          1.54125638 -1.44242894 ... -1.44644675  1.66257965\n",
            "  -0.52111828]\n",
            " [ 1.         -0.26048619 -1.07621342 ... -0.19038802  0.92498605\n",
            "   0.86534161]\n",
            " ...\n",
            " [ 1.          1.14511983 -1.04228715 ...  1.64090268 -0.3968334\n",
            "  -1.21434823]\n",
            " [ 1.          1.17235109 -0.98587992 ... -0.29614081 -1.71174601\n",
            "   0.17211166]\n",
            " [ 1.          1.53710599  1.11280446 ...  0.8734032   0.08559006\n",
            "   0.17211166]]\n"
          ]
        }
      ]
    },
    {
      "cell_type": "markdown",
      "source": [
        "DESCENSO POR EL GRADIENTE"
      ],
      "metadata": {
        "id": "5huzEI8vevyk"
      }
    },
    {
      "cell_type": "code",
      "source": [
        "def computeCostMulti(X, y, theta):\n",
        "    # Inicializa algunos valores utiles\n",
        "    m = y.shape[0] # numero de ejemplos de entrenamiento\n",
        "\n",
        "    J = 0\n",
        "\n",
        "    h = np.dot(X, theta)\n",
        "\n",
        "    J = (1/(2 * m)) * np.sum(np.square(np.dot(X, theta) - y))\n",
        "\n",
        "    return J"
      ],
      "metadata": {
        "id": "9Gwg_AjefXrO"
      },
      "execution_count": 146,
      "outputs": []
    },
    {
      "cell_type": "code",
      "source": [
        "def gradientDescentMulti(X, y, theta, alpha, num_iters):\n",
        "\n",
        "    # Inicializa algunos valores\n",
        "    m = y.shape[0] # numero de ejemplos de entrenamiento\n",
        "\n",
        "    # realiza una copia de theta, el cual será acutalizada por el descenso por el gradiente\n",
        "\n",
        "    theta = theta.copy()\n",
        "\n",
        "    J_history = []\n",
        "\n",
        "    for i in range(num_iters):\n",
        "        theta = theta - (alpha / m) * (np.dot(X, theta) - y).dot(X)\n",
        "        J_history.append(computeCostMulti(X, y, theta))\n",
        "\n",
        "    return theta, J_history"
      ],
      "metadata": {
        "id": "ynjBHPzmfZgM"
      },
      "execution_count": 147,
      "outputs": []
    },
    {
      "cell_type": "markdown",
      "source": [
        "Seleccionando coheficientes de aprendizaje"
      ],
      "metadata": {
        "id": "tg4tNuA-fdN1"
      }
    },
    {
      "cell_type": "code",
      "source": [
        "# Elegir algun valor para alpha (probar varias alternativas)\n",
        "alpha = 0.001 # alpha = 0.003\n",
        "num_iters = 10000\n",
        "\n",
        "# inicializa theta y ejecuta el descenso por el gradiente\n",
        "theta = np.zeros(7)\n",
        "theta, J_history = gradientDescentMulti(X, y, theta, alpha, num_iters)\n",
        "\n",
        "# Grafica la convergencia del costo\n",
        "pyplot.plot(np.arange(len(J_history)), J_history, lw=2)\n",
        "pyplot.xlabel('Numero de iteraciones')\n",
        "pyplot.ylabel('Costo J')\n",
        "\n",
        "# Muestra los resultados del descenso por el gradiente\n",
        "print('theta calculado por el descenso por el gradiente: {:s}'.format(str(theta)))\n",
        "\n",
        "# Estimar el precio para una casa de 0,0.935725849,0.921034387,0.050417006,0.173084573,0.139500471,7\n",
        "X_array = [0,0.935725849,0.921034387,0.050417006,0.173084573,0.139500471,7]\n",
        "X_array[1:7] = (X_array[1:7] - mu) / sigma\n",
        "price = np.dot(X_array, theta)   # Se debe cambiar esto\n",
        "\n",
        "print('El precio predecido para una casa de 1650 sq-ft y 3 dormitorios (usando el descenso por el gradiente): ${:.0f}'.format(price))"
      ],
      "metadata": {
        "colab": {
          "base_uri": "https://localhost:8080/",
          "height": 517
        },
        "id": "RvGYlUb1fhpd",
        "outputId": "9447221b-fa5b-4b29-bc20-7e87c0f54a7d"
      },
      "execution_count": 149,
      "outputs": [
        {
          "output_type": "stream",
          "name": "stdout",
          "text": [
            "theta calculado por el descenso por el gradiente: [ 5.50499040e+05  2.49403757e+03 -1.17139544e+03  3.34554710e+03\n",
            "  3.89789509e+02 -4.19473363e+02  4.77957081e+02]\n",
            "El precio predecido para una casa de 1650 sq-ft y 3 dormitorios (usando el descenso por el gradiente): $-2825\n"
          ]
        },
        {
          "output_type": "display_data",
          "data": {
            "text/plain": [
              "<Figure size 640x480 with 1 Axes>"
            ],
            "image/png": "[encoded data removed]"
          },
          "metadata": {}
        }
      ]
    },
    {
      "cell_type": "code",
      "source": [
        "X_array = [0,0.935725849,0.921034387,0.050417006,0.173084573,0.139500471,7]\n",
        "X_array[1:7] = (X_array[1:7] - mu) / sigma"
      ],
      "metadata": {
        "id": "gYz9JcrXmDsl"
      },
      "execution_count": 151,
      "outputs": []
    },
    {
      "cell_type": "code",
      "source": [
        "price = np.dot(X_array, theta)   # Se debe cambiar esto\n",
        "\n",
        "print('El precio predecido para una casa de 1650 sq-ft y 3 dormitorios (usando el descenso por el gradiente): ${:.0f}'.format(price))"
      ],
      "metadata": {
        "colab": {
          "base_uri": "https://localhost:8080/"
        },
        "id": "mAXRKMTFmF19",
        "outputId": "9d4ebbdf-b815-4408-dd20-357969ace095"
      },
      "execution_count": 152,
      "outputs": [
        {
          "output_type": "stream",
          "name": "stdout",
          "text": [
            "El precio predecido para una casa de 1650 sq-ft y 3 dormitorios (usando el descenso por el gradiente): $-2825\n"
          ]
        }
      ]
    },
    {
      "cell_type": "markdown",
      "source": [
        "ECUACION DE LA NORMAL"
      ],
      "metadata": {
        "id": "cGqSkTSHmv92"
      }
    },
    {
      "cell_type": "code",
      "source": [
        "# Cargar datos\n",
        "data = np.loadtxt('/content/drive/MyDrive/Dataset/Prices house - Mod2.csv', delimiter=',')\n",
        "X = data[:, 1:7]\n",
        "y = data[:, 7]\n",
        "m = y.size\n",
        "print(m)\n",
        "X = np.concatenate([np.ones((m, 1)), X], axis=1)"
      ],
      "metadata": {
        "colab": {
          "base_uri": "https://localhost:8080/"
        },
        "id": "szLxyfJhn5Mk",
        "outputId": "67659d81-615b-43de-fa3e-b3d7a5d855dc"
      },
      "execution_count": 160,
      "outputs": [
        {
          "output_type": "stream",
          "name": "stdout",
          "text": [
            "20000\n"
          ]
        }
      ]
    },
    {
      "cell_type": "code",
      "source": [
        "def normalEqn(X, y):\n",
        "\n",
        "    theta = np.zeros(X.shape[1])\n",
        "\n",
        "    theta = np.dot(np.dot(np.linalg.inv(np.dot(X.T,X)),X.T),y)\n",
        "\n",
        "    return theta"
      ],
      "metadata": {
        "id": "r4ndtx_Xn7Yl"
      },
      "execution_count": 161,
      "outputs": []
    },
    {
      "cell_type": "code",
      "source": [
        "# Calcula los parametros con la ecuación de la normal\n",
        "theta = normalEqn(X, y);\n",
        "\n",
        "# Muestra los resultados optenidos a partir de la aplicación de la ecuación de la normal\n",
        "print('Theta calculado a partir de la ecuación de la normal: {:s}'.format(str(theta)));\n",
        "\n",
        "# Estimar el precio para una casa de superficie de 1650 sq-ft y tres dormitorios\n",
        "\n",
        "X_array = [0,0.935725849,0.921034387,0.050417006,0.173084573,0.139500471,7]\n",
        "price = np.dot(X_array, theta)\n",
        "\n",
        "print('Precio predecido (usando la ecuación de la normal): ${:.0f}'.format(price))"
      ],
      "metadata": {
        "colab": {
          "base_uri": "https://localhost:8080/"
        },
        "id": "nelNFdz3n9d8",
        "outputId": "ce313a70-63a8-4e48-a9a0-c0331eeab789"
      },
      "execution_count": 162,
      "outputs": [
        {
          "output_type": "stream",
          "name": "stdout",
          "text": [
            "Theta calculado a partir de la ecuación de la normal: [ 5.41563683e+05  8.64393516e+03 -4.04694481e+03  1.15782101e+04\n",
            "  1.35136234e+03 -1.45843047e+03  1.65683839e+02]\n",
            "Precio predecido (usando la ecuación de la normal): $6135\n"
          ]
        }
      ]
    }
  ]
}